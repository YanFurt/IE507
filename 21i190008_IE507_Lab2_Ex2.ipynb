{
  "nbformat": 4,
  "nbformat_minor": 0,
  "metadata": {
    "colab": {
      "name": "21i190008_IE507_Lab2_Ex2.ipynb",
      "provenance": []
    },
    "kernelspec": {
      "name": "python3",
      "display_name": "Python 3"
    },
    "language_info": {
      "name": "python"
    }
  },
  "cells": [
    {
      "cell_type": "code",
      "metadata": {
        "id": "01PpYVjlgCqI"
      },
      "source": [
        "!pip install -q pyomo\n",
        "!apt-get install -y -qq glpk-utils"
      ],
      "execution_count": 13,
      "outputs": []
    },
    {
      "cell_type": "code",
      "metadata": {
        "id": "J6Hq6rnsfMS6"
      },
      "source": [
        "from pyomo.environ import *\n",
        "import numpy as np"
      ],
      "execution_count": 14,
      "outputs": []
    },
    {
      "cell_type": "code",
      "metadata": {
        "id": "sRWeKoDIf4-U"
      },
      "source": [
        "obj_coefs = np.array([-9.6, -2.85, 41.5, 33.05, -0.75, 20.5, -0.35, -31.02, 50.65, 6.125])\n",
        "\n",
        "const_coefs = np.array([[0, 1, -2, 0, 1, -2, 0, 1, 1, -1],[-1 ,1 ,-3 ,2.5, 0 ,1.4, 0, -2, 1, -1.5],[-0.45 ,4.78, -2, -3.22, -1.3, 1, -1, 0, 0, 0.25],[1, 0, 0, 0, 1, 1, 0, 2, 3, 0]])\n",
        "const_rhs = np.array([35.4, 47.9, 41.43, 22.7])"
      ],
      "execution_count": 15,
      "outputs": []
    },
    {
      "cell_type": "code",
      "metadata": {
        "id": "Sxfp6hdEhoIa"
      },
      "source": [
        "lb = np.array([-np.inf, -np.inf, 0, 0, -67, 0, -23, -5, 6, 1])\n",
        "rb = np.array( [4, np.inf, np.inf, 2, 20, 55, 23, 15, np.inf, np.inf])"
      ],
      "execution_count": 16,
      "outputs": []
    },
    {
      "cell_type": "code",
      "metadata": {
        "id": "qqfO7cwYgnTM"
      },
      "source": [
        "N=10\n",
        "M=4\n",
        "colind = np.arange(N)\n",
        "rowind = np.arange(M)"
      ],
      "execution_count": 17,
      "outputs": []
    },
    {
      "cell_type": "code",
      "metadata": {
        "id": "wFFjdXjxjVX-"
      },
      "source": [
        "m2 = ConcreteModel()\n",
        "m2.constraints = ConstraintList()\n",
        "m2.x = Var(colind)"
      ],
      "execution_count": 18,
      "outputs": []
    },
    {
      "cell_type": "code",
      "metadata": {
        "id": "24UP6QSCkSiH"
      },
      "source": [
        "for i in range(M):\n",
        "  m2.constraints.add(sum(const_coefs[i][j]*m2.x[j] for j in colind)<=const_rhs[i])"
      ],
      "execution_count": 19,
      "outputs": []
    },
    {
      "cell_type": "code",
      "metadata": {
        "id": "CYllVJNWk5zf"
      },
      "source": [
        "for i in range(N):\n",
        "  m2.x[i].setlb(lb[i])\n",
        "  m2.x[i].setub(rb[i])"
      ],
      "execution_count": 20,
      "outputs": []
    },
    {
      "cell_type": "code",
      "metadata": {
        "id": "eP27RngdnfFd"
      },
      "source": [
        "m2.obj = Objective(expr = sum(obj_coefs[j]*m2.x[j] for j in range(N)), sense = minimize)"
      ],
      "execution_count": 21,
      "outputs": []
    },
    {
      "cell_type": "code",
      "metadata": {
        "colab": {
          "base_uri": "https://localhost:8080/"
        },
        "id": "Ybcb7Ou6n9Vn",
        "outputId": "53f82b51-e2ab-459f-cd5f-8e385aa16063"
      },
      "source": [
        "m2.pprint()"
      ],
      "execution_count": 22,
      "outputs": [
        {
          "output_type": "stream",
          "text": [
            "2 Set Declarations\n",
            "    constraints_index : Size=1, Index=None, Ordered=Insertion\n",
            "        Key  : Dimen : Domain : Size : Members\n",
            "        None :     1 :    Any :    4 : {1, 2, 3, 4}\n",
            "    x_index : Size=1, Index=None, Ordered=False\n",
            "        Key  : Dimen : Domain : Size : Members\n",
            "        None :     1 :    Any :   10 : {0, 1, 2, 3, 4, 5, 6, 7, 8, 9}\n",
            "\n",
            "1 Var Declarations\n",
            "    x : Size=10, Index=x_index\n",
            "        Key : Lower : Value : Upper : Fixed : Stale : Domain\n",
            "          0 :  -inf :  None :   4.0 : False :  True :  Reals\n",
            "          1 :  -inf :  None :   inf : False :  True :  Reals\n",
            "          2 :   0.0 :  None :   inf : False :  True :  Reals\n",
            "          3 :   0.0 :  None :   2.0 : False :  True :  Reals\n",
            "          4 : -67.0 :  None :  20.0 : False :  True :  Reals\n",
            "          5 :   0.0 :  None :  55.0 : False :  True :  Reals\n",
            "          6 : -23.0 :  None :  23.0 : False :  True :  Reals\n",
            "          7 :  -5.0 :  None :  15.0 : False :  True :  Reals\n",
            "          8 :   6.0 :  None :   inf : False :  True :  Reals\n",
            "          9 :   1.0 :  None :   inf : False :  True :  Reals\n",
            "\n",
            "1 Objective Declarations\n",
            "    obj : Size=1, Index=None, Active=True\n",
            "        Key  : Active : Sense    : Expression\n",
            "        None :   True : minimize : -9.6*x[0] - 2.85*x[1] + 41.5*x[2] + 33.05*x[3] - 0.75*x[4] + 20.5*x[5] - 0.35*x[6] - 31.02*x[7] + 50.65*x[8] + 6.125*x[9]\n",
            "\n",
            "1 Constraint Declarations\n",
            "    constraints : Size=4, Index=constraints_index, Active=True\n",
            "        Key : Lower : Body                                                                               : Upper : Active\n",
            "          1 :  -Inf :                             x[1] - 2.0*x[2] + x[4] - 2.0*x[5] + x[7] + x[8] - x[9] :  35.4 :   True\n",
            "          2 :  -Inf :        - x[0] + x[1] - 3.0*x[2] + 2.5*x[3] + 1.4*x[5] - 2.0*x[7] + x[8] - 1.5*x[9] :  47.9 :   True\n",
            "          3 :  -Inf : -0.45*x[0] + 4.78*x[1] - 2.0*x[2] - 3.22*x[3] - 1.3*x[4] + x[5] - x[6] + 0.25*x[9] : 41.43 :   True\n",
            "          4 :  -Inf :                                           x[0] + x[4] + x[5] + 2.0*x[7] + 3.0*x[8] :  22.7 :   True\n",
            "\n",
            "5 Declarations: constraints_index constraints x_index x obj\n"
          ],
          "name": "stdout"
        }
      ]
    },
    {
      "cell_type": "code",
      "metadata": {
        "colab": {
          "base_uri": "https://localhost:8080/"
        },
        "id": "TX4OygFEn-7o",
        "outputId": "4e1a8dd0-93b3-4442-906a-2e517defded5"
      },
      "source": [
        "SolverFactory('glpk', executable='/usr/bin/glpsol').solve(m2).write()"
      ],
      "execution_count": 23,
      "outputs": [
        {
          "output_type": "stream",
          "text": [
            "# ==========================================================\n",
            "# = Solver Results                                         =\n",
            "# ==========================================================\n",
            "# ----------------------------------------------------------\n",
            "#   Problem Information\n",
            "# ----------------------------------------------------------\n",
            "Problem: \n",
            "- Name: unknown\n",
            "  Lower bound: -196.378974895398\n",
            "  Upper bound: -196.378974895398\n",
            "  Number of objectives: 1\n",
            "  Number of constraints: 5\n",
            "  Number of variables: 11\n",
            "  Number of nonzeros: 29\n",
            "  Sense: minimize\n",
            "# ----------------------------------------------------------\n",
            "#   Solver Information\n",
            "# ----------------------------------------------------------\n",
            "Solver: \n",
            "- Status: ok\n",
            "  Termination condition: optimal\n",
            "  Statistics: \n",
            "    Branch and bound: \n",
            "      Number of bounded subproblems: 0\n",
            "      Number of created subproblems: 0\n",
            "  Error rc: 0\n",
            "  Time: 0.015305519104003906\n",
            "# ----------------------------------------------------------\n",
            "#   Solution Information\n",
            "# ----------------------------------------------------------\n",
            "Solution: \n",
            "- number of solutions: 0\n",
            "  number of solutions displayed: 0\n"
          ],
          "name": "stdout"
        }
      ]
    },
    {
      "cell_type": "code",
      "metadata": {
        "colab": {
          "base_uri": "https://localhost:8080/"
        },
        "id": "FvcBcJn4oM0N",
        "outputId": "8590436d-b9cb-4ac1-efb1-d8592759d8ce"
      },
      "source": [
        "print('Optimal value of objective functn is ', m2.obj())\n",
        "for i in range(N):\n",
        "  print(\"The value of x[\",i+1,'] is ',m2.x[i](), sep='')"
      ],
      "execution_count": 24,
      "outputs": [
        {
          "output_type": "stream",
          "text": [
            "Optimal value of objective functn is  -196.3789748953975\n",
            "The value of x[1] is 4.0\n",
            "The value of x[2] is 5.8347280334728\n",
            "The value of x[3] is 0.0\n",
            "The value of x[4] is 0.0\n",
            "The value of x[5] is -29.3\n",
            "The value of x[6] is 0.0\n",
            "The value of x[7] is 23.0\n",
            "The value of x[8] is 15.0\n",
            "The value of x[9] is 6.0\n",
            "The value of x[10] is 1.0\n"
          ],
          "name": "stdout"
        }
      ]
    },
    {
      "cell_type": "code",
      "metadata": {
        "colab": {
          "base_uri": "https://localhost:8080/"
        },
        "id": "OiICmPvlolvy",
        "outputId": "88c3534f-f549-4eb0-e12d-079918061af4"
      },
      "source": [
        "m2.constraints.display()"
      ],
      "execution_count": 25,
      "outputs": [
        {
          "output_type": "stream",
          "text": [
            "constraints : Size=4\n",
            "    Key : Lower : Body               : Upper\n",
            "      1 :  None : -3.465271966527201 :  35.4\n",
            "      2 :  None :  -23.6652719665272 :  47.9\n",
            "      3 :  None :  41.42999999999998 : 41.43\n",
            "      4 :  None :               22.7 :  22.7\n"
          ],
          "name": "stdout"
        }
      ]
    },
    {
      "cell_type": "code",
      "metadata": {
        "colab": {
          "base_uri": "https://localhost:8080/"
        },
        "id": "Jlv_Rdb9qkie",
        "outputId": "5fc8d258-29d2-4fb6-8de5-059e87f7d00f"
      },
      "source": [
        "print(\"Constraint 3 and constraint 4 are active constraints since they satisfy strict equalities\")\n",
        "print(\"Constraint 1 and constraint 2 are inactive constraints since they don't satisfy strict equalities\")"
      ],
      "execution_count": 26,
      "outputs": [
        {
          "output_type": "stream",
          "text": [
            "Constraint 3 and constraint 4 are active constraints since they satisfy strict equalities\n",
            "Constraint 1 and constraint 2 are inactive constraints since they don't satisfy strict equalities\n"
          ],
          "name": "stdout"
        }
      ]
    },
    {
      "cell_type": "code",
      "metadata": {
        "id": "bjG-T2ZAuJ_O"
      },
      "source": [
        ""
      ],
      "execution_count": 26,
      "outputs": []
    }
  ]
}
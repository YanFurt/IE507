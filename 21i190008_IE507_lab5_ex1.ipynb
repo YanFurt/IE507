{
  "nbformat": 4,
  "nbformat_minor": 0,
  "metadata": {
    "colab": {
      "name": "21i190008_IE507_lab5_ex1.ipynb",
      "provenance": [],
      "collapsed_sections": []
    },
    "kernelspec": {
      "name": "python3",
      "display_name": "Python 3"
    },
    "language_info": {
      "name": "python"
    }
  },
  "cells": [
    {
      "cell_type": "code",
      "metadata": {
        "id": "H_bv5jcR_ho6"
      },
      "source": [
        "!pip install -q pyomo\n",
        "!apt-get install -y -qq coinor-cbc"
      ],
      "execution_count": 25,
      "outputs": []
    },
    {
      "cell_type": "code",
      "metadata": {
        "id": "ouckDFCQ_uWq"
      },
      "source": [
        "from pyomo.environ import *\n",
        "import numpy as np\n",
        "import pandas as pd"
      ],
      "execution_count": 26,
      "outputs": []
    },
    {
      "cell_type": "code",
      "metadata": {
        "id": "uJDysgwoiMv-"
      },
      "source": [
        "df1 = pd.read_csv('lab5_ex1.csv',index_col=0,header=0)\n"
      ],
      "execution_count": 27,
      "outputs": []
    },
    {
      "cell_type": "code",
      "metadata": {
        "id": "s3AEvF506NIS"
      },
      "source": [
        ""
      ],
      "execution_count": 27,
      "outputs": []
    },
    {
      "cell_type": "markdown",
      "metadata": {
        "id": "iVypbxW2-_xM"
      },
      "source": [
        "\\begin{equation}\n",
        "\\text{Let C denote the following matrix} \\\\\n",
        "   \\begin{matrix}    \n",
        "627&617&1270&2072&1415&2943&1064&4265\\\\\n",
        "159&1432&351&3372&237&3373&1456&5059\\\\\n",
        "609&1943&77&3365&298&3021&1484&4803\\\\\n",
        "2143&671&3876&537&1902&1941&1682&3348\\\\\n",
        "2742&2089&1931&2199&1226&739&691&1128\\\\\n",
        "2053&860&2995&68&2069&2065&993&3342\\\\\n",
        "656&817&1245&2141&1534&3351&1137&3887\\\\\n",
        "195&1862&1331&2921&402&2825&563&4441\\\\\n",
        " \\end{matrix} \n",
        "\\end{equation}"
      ]
    },
    {
      "cell_type": "markdown",
      "metadata": {
        "id": "ALr4kXE1ATKx"
      },
      "source": [
        "Let $i$ take values from the set $\\{1,2,3,4,5,6,7,8\\}$ corresponding to Ahmedabad, Bengaluru, Chennai, Delhi, Kolkata, Lucknow,Mumbai,Hyderabad respevtively. \n",
        "\n",
        "Let $j$ take values from the set $\\{1,2,3,4,5,6,7,8\\}$ corresponding to Hassan, Jodhpur, Trichy, Simla, Vijayawada, Dibrugarh,Raipur,Agartala respectively. \n",
        "\n",
        "Let $x_{ij}$ denote the number of units transported from warehouse $i$ to market $j$.\n",
        "\n",
        "Let $c_{ij}$ denote the element in the $i^{th}$ row and $j^{th}$ column of C."
      ]
    },
    {
      "cell_type": "markdown",
      "metadata": {
        "id": "jshcPL0X4lUG"
      },
      "source": [
        "## Model:\n",
        "\n",
        "Decision variables:\\\n",
        "$x_{ij} ,\\qquad$ $i= 1,2,3,4,5,6,7,8 \\qquad$ $j = 1,2,3,4,5,6,7,8$.\n",
        "\n",
        "Objective: $\\text{minimize} \\sum_{i=1}^{8} \\sum_{j=1}^{8} c_{ij} x_{ij} $\n",
        "\n",
        "Subject to:\n",
        "\n",
        "\\begin{align}\n",
        "\\sum_{j=1}^{8} x_{1j} &\\leq 185 \\qquad  \\text{supply at Ahmedabad } \\nonumber \\\\\n",
        "\\sum_{j=1}^{8} x_{2j} &\\leq 350  \\qquad  \\text{supply at Bengaluru } \\nonumber \\\\\n",
        "\\sum_{j=1}^{8} x_{3j} &\\leq 405 \\qquad   \\text{supply at Chennai} \\nonumber \\\\\n",
        "\\sum_{j=1}^{8} x_{4j} &\\leq 280 \\qquad   \\text{supply at Delhi } \\nonumber \\\\\n",
        "\\sum_{j=1}^{8} x_{5j} &\\leq 105  \\qquad  \\text{supply at Kolkata } \\nonumber \\\\\n",
        "\\sum_{j=1}^{8} x_{6j} &\\leq 75 \\qquad   \\text{supply at Lucknow } \\nonumber \\\\\n",
        "\\sum_{j=1}^{8} x_{7j} &\\leq 425  \\qquad  \\text{supply at Mumbai } \\nonumber \\\\\n",
        "\\sum_{j=1}^{8} x_{8j} &\\leq 270  \\qquad  \\text{supply at Hyderabad } \\nonumber \\\\\n",
        "\\sum_{i=1}^{8} x_{i1} &= 175 \\qquad \\text{ demand at Hassan } \\nonumber \\\\\n",
        "\\sum_{i=1}^{8} x_{i2} &= 400 \\qquad  \\text{ demand at Jodhpur } \\nonumber \\\\\n",
        "\\sum_{i=1}^{8} x_{i3} &= 550  \\qquad \\text{ demand at Trichy } \\nonumber \\\\\n",
        "\\sum_{i=1}^{8} x_{i4} &= 70 \\qquad  \\text{ demand at Simla } \\nonumber \\\\\n",
        "\\sum_{i=1}^{8} x_{i5} &= 650 \\qquad  \\text{demand at Vijaywada } \\nonumber \\\\\n",
        "\\sum_{i=1}^{8} x_{i6} &= 100 \\qquad \\text{demand at Dibrugarh } \\nonumber \\\\\n",
        "\\sum_{i=1}^{8} x_{i7} &= 65 \\qquad \\text{demand at Raipur } \\nonumber \\\\\n",
        "\\sum_{i=1}^{8} x_{i8} &= 85 \\qquad  \\text{demand at Agartala } \\nonumber \\\\\n",
        "x_{ij} &\\geq 0 , x_{ij} \\in \\mathbb{Z} \\quad \\forall i \\in \\{1,2,3,4,5,6,7,8\\}, \\ \\forall j \\in \\{1,2,3,4,5,6,7,8\\} \n",
        "\\end{align}\\\n",
        "\n"
      ]
    },
    {
      "cell_type": "code",
      "metadata": {
        "id": "VOU1el2RAE9g"
      },
      "source": [
        "\n",
        "n = len(df1.columns)-1\n",
        "m = len(df1)-1\n",
        "\n",
        "rows = np.arange(m)\n",
        "cols = np.arange(n)"
      ],
      "execution_count": 28,
      "outputs": []
    },
    {
      "cell_type": "code",
      "metadata": {
        "id": "MemI5KSZkOFy"
      },
      "source": [
        ""
      ],
      "execution_count": 28,
      "outputs": []
    },
    {
      "cell_type": "code",
      "metadata": {
        "id": "nORlVumHAJUZ"
      },
      "source": [
        "costs = df1.values[:-1,:-1]\n",
        "sup_coefs =df1.iloc[:-1,-1]\n",
        "dem_coefs = df1.iloc[-1,:-1]"
      ],
      "execution_count": 29,
      "outputs": []
    },
    {
      "cell_type": "code",
      "metadata": {
        "id": "k8ET83vIAJ7H"
      },
      "source": [
        "m1 = ConcreteModel()\n",
        "m1.x = Var(rows,cols,domain=NonNegativeIntegers)\n",
        "m1.cons = ConstraintList()\n"
      ],
      "execution_count": 30,
      "outputs": []
    },
    {
      "cell_type": "code",
      "metadata": {
        "id": "icCkWRoNmRfU"
      },
      "source": [
        ""
      ],
      "execution_count": 30,
      "outputs": []
    },
    {
      "cell_type": "code",
      "metadata": {
        "id": "ruxBpFZqBMWc"
      },
      "source": [
        "#Supply constraints\n",
        "for i in rows:\n",
        "    m1.cons.add(sum(m1.x[i,j] for j in cols)<=sup_coefs[i])\n",
        "\n",
        "#demand constraints\n",
        "for j in cols:\n",
        "    m1.cons.add(sum(m1.x[i,j] for i in rows )==dem_coefs[j])"
      ],
      "execution_count": 31,
      "outputs": []
    },
    {
      "cell_type": "code",
      "metadata": {
        "id": "21W77nlNGiCG"
      },
      "source": [
        "m1.cost = Objective(expr=summation(costs,m1.x))"
      ],
      "execution_count": 32,
      "outputs": []
    },
    {
      "cell_type": "code",
      "metadata": {
        "id": "LNBgmp1TJNuE"
      },
      "source": [
        ""
      ],
      "execution_count": 32,
      "outputs": []
    },
    {
      "cell_type": "code",
      "metadata": {
        "id": "Dfd6FpReJN7R"
      },
      "source": [
        "solver = SolverFactory('cbc')\n",
        "opt1 = solver.solve(m1)\n"
      ],
      "execution_count": 33,
      "outputs": []
    },
    {
      "cell_type": "markdown",
      "metadata": {
        "id": "4seTqPSBypYS"
      },
      "source": [
        "### 7)"
      ]
    },
    {
      "cell_type": "code",
      "metadata": {
        "colab": {
          "base_uri": "https://localhost:8080/"
        },
        "id": "6OoBVJRonU6O",
        "outputId": "79f3ccb1-2893-4ce3-93ce-f1fbb8deff20"
      },
      "source": [
        "for i in rows:\n",
        "  for j in cols:\n",
        "    num = m1.x[i,j]()\n",
        "    if num != 0:\n",
        "      print('Number of units transported from {} to {} is {}'.format(df1.index[i],df1.columns[j],num))"
      ],
      "execution_count": 34,
      "outputs": [
        {
          "output_type": "stream",
          "name": "stdout",
          "text": [
            "Number of units transported from Ahmedabad to Jodhpur is 185.0\n",
            "Number of units transported from Bengaluru to Vijayawada is 350.0\n",
            "Number of units transported from Chennai to Trichy is 375.0\n",
            "Number of units transported from Chennai to Vijayawada is 30.0\n",
            "Number of units transported from Delhi to Jodhpur is 200.0\n",
            "Number of units transported from Delhi to Dibrugarh is 80.0\n",
            "Number of units transported from Kolkata to Dibrugarh is 20.0\n",
            "Number of units transported from Kolkata to Agartala is 85.0\n",
            "Number of units transported from Lucknow to Simla is 70.0\n",
            "Number of units transported from Lucknow to Raipur is 5.0\n",
            "Number of units transported from Mumbai to Hassan is 175.0\n",
            "Number of units transported from Mumbai to Jodhpur is 15.0\n",
            "Number of units transported from Mumbai to Trichy is 175.0\n",
            "Number of units transported from Mumbai to Raipur is 60.0\n",
            "Number of units transported from Hyderabad to Vijayawada is 270.0\n"
          ]
        }
      ]
    },
    {
      "cell_type": "code",
      "metadata": {
        "colab": {
          "base_uri": "https://localhost:8080/"
        },
        "id": "Z3THhZIrqDRB",
        "outputId": "61261bcf-c2fc-4cda-bb40-9091f673b851"
      },
      "source": [
        "print('Optimal total cost of transportation is',m1.cost())"
      ],
      "execution_count": 35,
      "outputs": [
        {
          "output_type": "stream",
          "name": "stdout",
          "text": [
            "Optimal total cost of transportation is 1166465.0\n"
          ]
        }
      ]
    },
    {
      "cell_type": "markdown",
      "metadata": {
        "id": "Qp2Xm2LbzHDY"
      },
      "source": [
        "### 8)"
      ]
    },
    {
      "cell_type": "code",
      "metadata": {
        "id": "u_V0QSKOqc0M"
      },
      "source": [
        "#Instead of changing the csv file and loading it into a new dataframe, we can skip a step and directly make the change in the dataframe\n",
        "\n",
        "df2=df1.copy() # creating a copy to not disturb original dataframe\n",
        "\n",
        "df2.loc['Bengaluru','Hassan'] = 999999 \n",
        "#we make the cost of using Bangalore hassan route very high, so that using this route will drastically increase cost and this would not be part of an optimal solution \n"
      ],
      "execution_count": 36,
      "outputs": []
    },
    {
      "cell_type": "code",
      "metadata": {
        "id": "STG1v7pDqv9h"
      },
      "source": [
        "m2=m1.clone() # Using the same model as before\n",
        "\n",
        "m2.cost.deactivate()\n",
        "m2.cost2 = Objective(expr=summation(df2.values[:-1,:-1],m2.x))\n",
        "#Updating objective to consider the change that we made "
      ],
      "execution_count": 37,
      "outputs": []
    },
    {
      "cell_type": "code",
      "metadata": {
        "id": "jqmQGEanrRPR"
      },
      "source": [
        ""
      ],
      "execution_count": 37,
      "outputs": []
    },
    {
      "cell_type": "code",
      "metadata": {
        "id": "wRhebBkqrYBE"
      },
      "source": [
        "opt2 = solver.solve(m2)"
      ],
      "execution_count": 38,
      "outputs": []
    },
    {
      "cell_type": "markdown",
      "metadata": {
        "id": "ZrE2vgMZy3sg"
      },
      "source": [
        "### 9)"
      ]
    },
    {
      "cell_type": "code",
      "metadata": {
        "colab": {
          "base_uri": "https://localhost:8080/"
        },
        "id": "m-y8X9k_s5OF",
        "outputId": "435e13e3-3a3b-4946-c09a-4b1cfdd2cd18"
      },
      "source": [
        "for i in rows:\n",
        "  for j in cols:\n",
        "    num2 = m2.x[i,j]()\n",
        "    if num2 != 0:\n",
        "      print('Number of units transported from {} to {} is {}'.format(df2.index[i],df2.columns[j],num2))"
      ],
      "execution_count": 39,
      "outputs": [
        {
          "output_type": "stream",
          "name": "stdout",
          "text": [
            "Number of units transported from Ahmedabad to Jodhpur is 185.0\n",
            "Number of units transported from Bengaluru to Vijayawada is 350.0\n",
            "Number of units transported from Chennai to Trichy is 375.0\n",
            "Number of units transported from Chennai to Vijayawada is 30.0\n",
            "Number of units transported from Delhi to Jodhpur is 200.0\n",
            "Number of units transported from Delhi to Dibrugarh is 80.0\n",
            "Number of units transported from Kolkata to Dibrugarh is 20.0\n",
            "Number of units transported from Kolkata to Agartala is 85.0\n",
            "Number of units transported from Lucknow to Simla is 70.0\n",
            "Number of units transported from Lucknow to Raipur is 5.0\n",
            "Number of units transported from Mumbai to Hassan is 175.0\n",
            "Number of units transported from Mumbai to Jodhpur is 15.0\n",
            "Number of units transported from Mumbai to Trichy is 175.0\n",
            "Number of units transported from Mumbai to Raipur is 60.0\n",
            "Number of units transported from Hyderabad to Vijayawada is 270.0\n"
          ]
        }
      ]
    },
    {
      "cell_type": "code",
      "metadata": {
        "colab": {
          "base_uri": "https://localhost:8080/"
        },
        "id": "oRXbZ_PItJ9x",
        "outputId": "ffc5d08c-88cb-4733-afe9-b056e76ddef1"
      },
      "source": [
        "print('Optimal total cost of transportation is',m2.cost())"
      ],
      "execution_count": 40,
      "outputs": [
        {
          "output_type": "stream",
          "name": "stdout",
          "text": [
            "Optimal total cost of transportation is 1166465.0\n"
          ]
        }
      ]
    },
    {
      "cell_type": "markdown",
      "metadata": {
        "id": "_NYTJ8CmzA33"
      },
      "source": [
        "\n",
        "### 10)"
      ]
    },
    {
      "cell_type": "code",
      "metadata": {
        "id": "oYmTQgDruRKZ"
      },
      "source": [
        "#Instead of changing the csv file and loading it into a new dataframe, we can skip a step and directly make the change in the dataframe\n",
        "\n",
        "\n",
        "df3 = df2.copy() #Copying from df2 where bangalore hassan route constraint is already taken care of\n",
        "\n",
        "df3.loc['Lucknow','Simla'] = 999999\n",
        "df3.loc['Kolkata','Agartala'] = 999999\n",
        "#we make the cost of using the restricted routes very high, so that using this route will drastically increase cost and these would not be part of an optimal solution "
      ],
      "execution_count": 41,
      "outputs": []
    },
    {
      "cell_type": "code",
      "metadata": {
        "id": "YCtDN9Abw_J5"
      },
      "source": [
        "m3=m1.clone() #Using same model as original problem\n",
        "\n",
        "m3.cost.deactivate()\n",
        "m3.cost3 = Objective(expr=summation(df3.values[:-1,:-1],m3.x)) #Updating objective function to reflect the change in costs."
      ],
      "execution_count": 42,
      "outputs": []
    },
    {
      "cell_type": "code",
      "metadata": {
        "id": "lueYfGVqxhJv"
      },
      "source": [
        "opt3 = solver.solve(m3)\n"
      ],
      "execution_count": 43,
      "outputs": []
    },
    {
      "cell_type": "code",
      "metadata": {
        "id": "DOERSnnokJ_P"
      },
      "source": [
        " "
      ],
      "execution_count": 43,
      "outputs": []
    },
    {
      "cell_type": "markdown",
      "metadata": {
        "id": "J4BFZSXky83Q"
      },
      "source": [
        "### 11)"
      ]
    },
    {
      "cell_type": "code",
      "metadata": {
        "colab": {
          "base_uri": "https://localhost:8080/"
        },
        "id": "27mYdZOnxosA",
        "outputId": "40fb05c1-21e9-49b8-c363-e1a9409a94c6"
      },
      "source": [
        "for i in rows:\n",
        "  for j in cols:\n",
        "    num3 = m3.x[i,j]()\n",
        "    if num3 != 0:\n",
        "      print('Number of units transported from {} to {} is {}'.format(df2.index[i],df2.columns[j],num3))"
      ],
      "execution_count": 44,
      "outputs": [
        {
          "output_type": "stream",
          "name": "stdout",
          "text": [
            "Number of units transported from Ahmedabad to Jodhpur is 185.0\n",
            "Number of units transported from Bengaluru to Vijayawada is 350.0\n",
            "Number of units transported from Chennai to Trichy is 375.0\n",
            "Number of units transported from Chennai to Vijayawada is 30.0\n",
            "Number of units transported from Delhi to Jodhpur is 200.0\n",
            "Number of units transported from Delhi to Simla is 70.0\n",
            "Number of units transported from Delhi to Agartala is 10.0\n",
            "Number of units transported from Kolkata to Dibrugarh is 100.0\n",
            "Number of units transported from Kolkata to Raipur is 5.0\n",
            "Number of units transported from Lucknow to Agartala is 75.0\n",
            "Number of units transported from Mumbai to Hassan is 175.0\n",
            "Number of units transported from Mumbai to Jodhpur is 15.0\n",
            "Number of units transported from Mumbai to Trichy is 175.0\n",
            "Number of units transported from Mumbai to Raipur is 60.0\n",
            "Number of units transported from Hyderabad to Vijayawada is 270.0\n"
          ]
        }
      ]
    },
    {
      "cell_type": "code",
      "metadata": {
        "colab": {
          "base_uri": "https://localhost:8080/"
        },
        "id": "5pbb68ivxwhv",
        "outputId": "b754585d-d0a7-430f-fd42-2d15a9d1de87"
      },
      "source": [
        "print('Optimal total cost of transportation is',m3.cost())"
      ],
      "execution_count": 45,
      "outputs": [
        {
          "output_type": "stream",
          "name": "stdout",
          "text": [
            "Optimal total cost of transportation is 1289875.0\n"
          ]
        }
      ]
    },
    {
      "cell_type": "markdown",
      "metadata": {
        "id": "g-kJkPE3k5zt"
      },
      "source": [
        "The optimal cost has increased. this is because Lucknow -Simla and Kolkata-Agartala routes has a nonzero flow in the original problem, and since these have to be zero now, a more costly combination of routes has to be chosen."
      ]
    },
    {
      "cell_type": "code",
      "metadata": {
        "id": "5NPnezM6lbLz"
      },
      "source": [
        ""
      ],
      "execution_count": null,
      "outputs": []
    }
  ]
}
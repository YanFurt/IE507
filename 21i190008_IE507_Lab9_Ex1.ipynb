{
  "nbformat": 4,
  "nbformat_minor": 0,
  "metadata": {
    "colab": {
      "name": "21i190008_IE507_Lab9_Ex1.ipynb",
      "provenance": []
    },
    "kernelspec": {
      "name": "python3",
      "display_name": "Python 3"
    },
    "language_info": {
      "name": "python"
    }
  },
  "cells": [
    {
      "cell_type": "code",
      "metadata": {
        "colab": {
          "base_uri": "https://localhost:8080/"
        },
        "id": "8oaAC5lfwlFZ",
        "outputId": "d4894f81-1f14-464c-9de6-80ecd3247731"
      },
      "source": [
        "%%bash\n",
        "rm -fv ipopt*\n",
        "apt install -q -yy libgfortran5\n",
        "sleep 1\n",
        "wget -q https://www.ieor.iitb.ac.in/files/faculty/amahajan/ipopt\n",
        "wget -q https://www.ieor.iitb.ac.in/files/faculty/amahajan/test.nl\n",
        "chmod u+rx ipopt"
      ],
      "execution_count": null,
      "outputs": [
        {
          "output_type": "stream",
          "name": "stdout",
          "text": [
            "Reading package lists...\n",
            "Building dependency tree...\n",
            "Reading state information...\n",
            "The following NEW packages will be installed:\n",
            "  libgfortran5\n",
            "0 upgraded, 1 newly installed, 0 to remove and 37 not upgraded.\n",
            "Need to get 589 kB of archives.\n",
            "After this operation, 2,660 kB of additional disk space will be used.\n",
            "Get:1 http://archive.ubuntu.com/ubuntu bionic-updates/universe amd64 libgfortran5 amd64 8.4.0-1ubuntu1~18.04 [589 kB]\n",
            "Fetched 589 kB in 1s (1,001 kB/s)\n",
            "Selecting previously unselected package libgfortran5:amd64.\r\n",
            "(Reading database ... \r(Reading database ... 5%\r(Reading database ... 10%\r(Reading database ... 15%\r(Reading database ... 20%\r(Reading database ... 25%\r(Reading database ... 30%\r(Reading database ... 35%\r(Reading database ... 40%\r(Reading database ... 45%\r(Reading database ... 50%\r(Reading database ... 55%\r(Reading database ... 60%\r(Reading database ... 65%\r(Reading database ... 70%\r(Reading database ... 75%\r(Reading database ... 80%\r(Reading database ... 85%\r(Reading database ... 90%\r(Reading database ... 95%\r(Reading database ... 100%\r(Reading database ... 155047 files and directories currently installed.)\r\n",
            "Preparing to unpack .../libgfortran5_8.4.0-1ubuntu1~18.04_amd64.deb ...\r\n",
            "Unpacking libgfortran5:amd64 (8.4.0-1ubuntu1~18.04) ...\r\n",
            "Setting up libgfortran5:amd64 (8.4.0-1ubuntu1~18.04) ...\r\n",
            "Processing triggers for libc-bin (2.27-3ubuntu1.3) ...\r\n",
            "/sbin/ldconfig.real: /usr/local/lib/python3.7/dist-packages/ideep4py/lib/libmkldnn.so.0 is not a symbolic link\r\n",
            "\r\n"
          ]
        },
        {
          "output_type": "stream",
          "name": "stderr",
          "text": [
            "\n",
            "WARNING: apt does not have a stable CLI interface. Use with caution in scripts.\n",
            "\n"
          ]
        }
      ]
    },
    {
      "cell_type": "code",
      "metadata": {
        "colab": {
          "base_uri": "https://localhost:8080/"
        },
        "id": "-6EdfEySw3Wh",
        "outputId": "fa4965f6-94dd-423b-a225-19573755c51d"
      },
      "source": [
        "!pip install -q pyomo"
      ],
      "execution_count": null,
      "outputs": [
        {
          "output_type": "stream",
          "name": "stdout",
          "text": [
            "\u001b[K     |████████████████████████████████| 9.1 MB 29.9 MB/s \n",
            "\u001b[K     |████████████████████████████████| 49 kB 6.1 MB/s \n",
            "\u001b[?25h"
          ]
        }
      ]
    },
    {
      "cell_type": "code",
      "metadata": {
        "id": "7Dlw-75tw_pJ"
      },
      "source": [
        "import numpy as np\n",
        "from pyomo.environ import *"
      ],
      "execution_count": null,
      "outputs": []
    },
    {
      "cell_type": "markdown",
      "metadata": {
        "id": "46jjPr2GzxN7"
      },
      "source": [
        "##2)"
      ]
    },
    {
      "cell_type": "code",
      "metadata": {
        "colab": {
          "base_uri": "https://localhost:8080/"
        },
        "id": "lP7cc6ogxPNm",
        "outputId": "e67eff09-d1fc-447d-fa07-9a7c7779fb1c"
      },
      "source": [
        "model = ConcreteModel()\n",
        "model.x1 = Var(bounds=(5,10))\n",
        "model.x2 = Var(bounds=(5,10))\n",
        "\n",
        "\n",
        "\n",
        "model.obj = Objective(expr = 100.0*(model.x2-model.x1**2)**2 + (1-model.x1)**2, sense=minimize)"
      ],
      "execution_count": null,
      "outputs": [
        {
          "output_type": "stream",
          "name": "stdout",
          "text": [
            "2 Var Declarations\n",
            "    x1 : Size=1, Index=None\n",
            "        Key  : Lower : Value : Upper : Fixed : Stale : Domain\n",
            "        None :     5 :  None :    10 : False :  True :  Reals\n",
            "    x2 : Size=1, Index=None\n",
            "        Key  : Lower : Value : Upper : Fixed : Stale : Domain\n",
            "        None :     5 :  None :    10 : False :  True :  Reals\n",
            "\n",
            "1 Objective Declarations\n",
            "    obj : Size=1, Index=None, Active=True\n",
            "        Key  : Active : Sense    : Expression\n",
            "        None :   True : minimize : 100.0*(x2 - x1**2)**2 + (1 - x1)**2\n",
            "\n",
            "3 Declarations: x1 x2 obj\n"
          ]
        }
      ]
    },
    {
      "cell_type": "code",
      "metadata": {
        "colab": {
          "base_uri": "https://localhost:8080/"
        },
        "id": "SCQiGFOLxWs3",
        "outputId": "5df25be3-e4ea-4fed-8e1b-6bcb42d1c44b"
      },
      "source": [
        "opt_ipopt = SolverFactory('ipopt')\n",
        "result = opt_ipopt.solve(model)\n",
        "print(result)\n",
        "\n",
        "print('Solver status:', result.solver.status)\n",
        "print('Solver termination condition:',result.solver.termination_condition)\n",
        "print('\\nObjective = ', model.obj())\n",
        "\n",
        "print('\\nDecision Variables')\n",
        "print('x1 = ', model.x1.value)  \n",
        "print('x2 = ', model.x2.value)  "
      ],
      "execution_count": null,
      "outputs": [
        {
          "output_type": "stream",
          "name": "stdout",
          "text": [
            "\n",
            "Problem: \n",
            "- Lower bound: -inf\n",
            "  Upper bound: inf\n",
            "  Number of objectives: 1\n",
            "  Number of constraints: 0\n",
            "  Number of variables: 2\n",
            "  Sense: unknown\n",
            "Solver: \n",
            "- Status: ok\n",
            "  Message: Ipopt 3.13.2\\x3a Optimal Solution Found\n",
            "  Termination condition: optimal\n",
            "  Id: 0\n",
            "  Error rc: 0\n",
            "  Time: 0.02171158790588379\n",
            "Solution: \n",
            "- number of solutions: 0\n",
            "  number of solutions displayed: 0\n",
            "\n",
            "Solver status: ok\n",
            "Solver termination condition: optimal\n",
            "\n",
            "Objective =  22516.0\n",
            "\n",
            "Decision Variables\n",
            "x1 =  5.0\n",
            "x2 =  10.0\n"
          ]
        }
      ]
    },
    {
      "cell_type": "markdown",
      "metadata": {
        "id": "NuEmr1l_0UO1"
      },
      "source": [
        "##3)"
      ]
    },
    {
      "cell_type": "code",
      "metadata": {
        "id": "RDr6EByLx-Jv"
      },
      "source": [
        "m1 = ConcreteModel()\n",
        "m1.x1=Var(bounds=(5,10))\n",
        "m1.x2 = Var(bounds=(5,10))\n",
        "m1.c = Constraint(expr=m1.x1**2 - 14*m1.x1 + m1.x2**2 -12*m1.x2 <= -83)\n",
        "m1.obj = Objective(expr = 100.0*(m1.x2-m1.x1**2)**2 + (1-m1.x1)**2, sense=minimize)"
      ],
      "execution_count": null,
      "outputs": []
    },
    {
      "cell_type": "code",
      "metadata": {
        "colab": {
          "base_uri": "https://localhost:8080/"
        },
        "id": "bsd9LXw2yjjB",
        "outputId": "7033c3a8-d33b-4578-9d78-24a676c4a253"
      },
      "source": [
        "result2 = opt_ipopt.solve(m1)\n",
        "print(result2)\n",
        "\n",
        "print('Solver status:', result2.solver.status)\n",
        "print('Solver termination condition:',result2.solver.termination_condition)\n",
        "print('\\nObjective = ', m1.obj())\n",
        "\n",
        "print('\\nDecision Variables')\n",
        "print('x1 = ', m1.x1.value)  \n",
        "print('x2 = ', m1.x2.value)"
      ],
      "execution_count": null,
      "outputs": [
        {
          "output_type": "stream",
          "name": "stdout",
          "text": [
            "\n",
            "Problem: \n",
            "- Lower bound: -inf\n",
            "  Upper bound: inf\n",
            "  Number of objectives: 1\n",
            "  Number of constraints: 1\n",
            "  Number of variables: 2\n",
            "  Sense: unknown\n",
            "Solver: \n",
            "- Status: ok\n",
            "  Message: Ipopt 3.13.2\\x3a Optimal Solution Found\n",
            "  Termination condition: optimal\n",
            "  Id: 0\n",
            "  Error rc: 0\n",
            "  Time: 0.02369999885559082\n",
            "Solution: \n",
            "- number of solutions: 0\n",
            "  number of solutions displayed: 0\n",
            "\n",
            "Solver status: ok\n",
            "Solver termination condition: optimal\n",
            "\n",
            "Objective =  63212.329736600055\n",
            "\n",
            "Decision Variables\n",
            "x1 =  5.591404989467179\n",
            "x2 =  6.125940169333781\n"
          ]
        }
      ]
    },
    {
      "cell_type": "code",
      "metadata": {
        "colab": {
          "base_uri": "https://localhost:8080/"
        },
        "id": "7TA5-hmNzOWW",
        "outputId": "2840b6f3-0a01-4b71-ccd5-e170f88ca2d4"
      },
      "source": [
        "m1.c.display()"
      ],
      "execution_count": null,
      "outputs": [
        {
          "output_type": "stream",
          "name": "stdout",
          "text": [
            "c : Size=1\n",
            "    Key  : Lower : Body               : Upper\n",
            "    None :  None : -82.99999917005022 : -83.0\n"
          ]
        }
      ]
    },
    {
      "cell_type": "markdown",
      "metadata": {
        "id": "T3koiVA10f0z"
      },
      "source": [
        "The upper bound on x1 and the lower bound on x2 are not tight."
      ]
    },
    {
      "cell_type": "markdown",
      "metadata": {
        "id": "dcXPkyPP0Q4I"
      },
      "source": [
        "##4)"
      ]
    },
    {
      "cell_type": "code",
      "metadata": {
        "id": "O3jl7Xy5zd-F"
      },
      "source": [
        "m2 = model.clone()\n",
        "m2.x1.setlb(5)\n",
        "m2.x2.setub(10)\n",
        "m2.c = Constraint(expr=m2.x1**2 - 14*m2.x1 + m2.x2**2 -12*m2.x2 <= -83)"
      ],
      "execution_count": null,
      "outputs": []
    },
    {
      "cell_type": "code",
      "metadata": {
        "colab": {
          "base_uri": "https://localhost:8080/"
        },
        "id": "PUNQjEgK1bYh",
        "outputId": "45d8213c-fb70-4819-8611-a4eaaa6629c4"
      },
      "source": [
        "result3 = opt_ipopt.solve(m2)\n",
        "print(result3)\n",
        "\n",
        "print('Solver status:', result3.solver.status)\n",
        "print('Solver termination condition:',result3.solver.termination_condition)\n",
        "print('\\nObjective = ', m2.obj())\n",
        "\n",
        "print('\\nDecision Variables')\n",
        "print('x1 = ', m2.x1.value)  \n",
        "print('x2 = ', m2.x2.value)"
      ],
      "execution_count": null,
      "outputs": [
        {
          "output_type": "stream",
          "name": "stdout",
          "text": [
            "\n",
            "Problem: \n",
            "- Lower bound: -inf\n",
            "  Upper bound: inf\n",
            "  Number of objectives: 1\n",
            "  Number of constraints: 1\n",
            "  Number of variables: 2\n",
            "  Sense: unknown\n",
            "Solver: \n",
            "- Status: ok\n",
            "  Message: Ipopt 3.13.2\\x3a Optimal Solution Found\n",
            "  Termination condition: optimal\n",
            "  Id: 0\n",
            "  Error rc: 0\n",
            "  Time: 0.025879383087158203\n",
            "Solution: \n",
            "- number of solutions: 0\n",
            "  number of solutions displayed: 0\n",
            "\n",
            "Solver status: ok\n",
            "Solver termination condition: optimal\n",
            "\n",
            "Objective =  63212.3297363497\n",
            "\n",
            "Decision Variables\n",
            "x1 =  5.591404989462348\n",
            "x2 =  6.125940169329545\n"
          ]
        }
      ]
    },
    {
      "cell_type": "markdown",
      "metadata": {
        "id": "x9ZQ-Cui1mv5"
      },
      "source": [
        "There is no change in optimal solution"
      ]
    },
    {
      "cell_type": "code",
      "metadata": {
        "id": "_gHhWob51hwg"
      },
      "source": [
        ""
      ],
      "execution_count": null,
      "outputs": []
    }
  ]
}
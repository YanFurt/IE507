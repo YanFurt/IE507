{
  "nbformat": 4,
  "nbformat_minor": 0,
  "metadata": {
    "kernelspec": {
      "display_name": "Python 3",
      "language": "python",
      "name": "python3"
    },
    "language_info": {
      "codemirror_mode": {
        "name": "ipython",
        "version": 3
      },
      "file_extension": ".py",
      "mimetype": "text/x-python",
      "name": "python",
      "nbconvert_exporter": "python",
      "pygments_lexer": "ipython3",
      "version": "3.7.4"
    },
    "colab": {
      "name": "21i190008_ie507_Lab6_Ex1.ipynb",
      "provenance": []
    }
  },
  "cells": [
    {
      "cell_type": "code",
      "metadata": {
        "id": "Td-6g035Kgxd",
        "colab": {
          "base_uri": "https://localhost:8080/"
        },
        "outputId": "2b4bad69-c410-4277-f956-a1cdb2bf0262"
      },
      "source": [
        "!pip install -q pyomo"
      ],
      "execution_count": 1,
      "outputs": [
        {
          "output_type": "stream",
          "name": "stdout",
          "text": [
            "\u001b[K     |████████████████████████████████| 9.1 MB 30.7 MB/s \n",
            "\u001b[K     |████████████████████████████████| 49 kB 6.0 MB/s \n",
            "\u001b[?25h"
          ]
        }
      ]
    },
    {
      "cell_type": "code",
      "metadata": {
        "id": "mUQCmJ5NKjRU",
        "colab": {
          "base_uri": "https://localhost:8080/"
        },
        "outputId": "39691828-6d28-493e-8f48-e01d50052986"
      },
      "source": [
        "!apt-get install -y -qq coinor-cbc"
      ],
      "execution_count": 2,
      "outputs": [
        {
          "output_type": "stream",
          "name": "stdout",
          "text": [
            "Selecting previously unselected package coinor-libcoinutils3v5.\n",
            "(Reading database ... 148492 files and directories currently installed.)\n",
            "Preparing to unpack .../0-coinor-libcoinutils3v5_2.10.14+repack1-1_amd64.deb ...\n",
            "Unpacking coinor-libcoinutils3v5 (2.10.14+repack1-1) ...\n",
            "Selecting previously unselected package coinor-libosi1v5.\n",
            "Preparing to unpack .../1-coinor-libosi1v5_0.107.9+repack1-1_amd64.deb ...\n",
            "Unpacking coinor-libosi1v5 (0.107.9+repack1-1) ...\n",
            "Selecting previously unselected package coinor-libclp1.\n",
            "Preparing to unpack .../2-coinor-libclp1_1.16.11+repack1-1_amd64.deb ...\n",
            "Unpacking coinor-libclp1 (1.16.11+repack1-1) ...\n",
            "Selecting previously unselected package coinor-libcgl1.\n",
            "Preparing to unpack .../3-coinor-libcgl1_0.59.10+repack1-1_amd64.deb ...\n",
            "Unpacking coinor-libcgl1 (0.59.10+repack1-1) ...\n",
            "Selecting previously unselected package coinor-libcbc3.\n",
            "Preparing to unpack .../4-coinor-libcbc3_2.9.9+repack1-1_amd64.deb ...\n",
            "Unpacking coinor-libcbc3 (2.9.9+repack1-1) ...\n",
            "Selecting previously unselected package coinor-cbc.\n",
            "Preparing to unpack .../5-coinor-cbc_2.9.9+repack1-1_amd64.deb ...\n",
            "Unpacking coinor-cbc (2.9.9+repack1-1) ...\n",
            "Setting up coinor-libcoinutils3v5 (2.10.14+repack1-1) ...\n",
            "Setting up coinor-libosi1v5 (0.107.9+repack1-1) ...\n",
            "Setting up coinor-libclp1 (1.16.11+repack1-1) ...\n",
            "Setting up coinor-libcgl1 (0.59.10+repack1-1) ...\n",
            "Setting up coinor-libcbc3 (2.9.9+repack1-1) ...\n",
            "Setting up coinor-cbc (2.9.9+repack1-1) ...\n",
            "Processing triggers for man-db (2.8.3-2ubuntu0.1) ...\n",
            "Processing triggers for libc-bin (2.27-3ubuntu1.2) ...\n",
            "/sbin/ldconfig.real: /usr/local/lib/python3.7/dist-packages/ideep4py/lib/libmkldnn.so.0 is not a symbolic link\n",
            "\n"
          ]
        }
      ]
    },
    {
      "cell_type": "code",
      "metadata": {
        "id": "IIveLKV1KeDf"
      },
      "source": [
        "from pyomo.environ import *\n",
        "import numpy as np"
      ],
      "execution_count": 3,
      "outputs": []
    },
    {
      "cell_type": "code",
      "metadata": {
        "id": "0AmrvQxtKeDi"
      },
      "source": [
        "coef = np.loadtxt('lab6_practice_coef.txt', delimiter=',')"
      ],
      "execution_count": 4,
      "outputs": []
    },
    {
      "cell_type": "code",
      "metadata": {
        "id": "vJKo-OsiKeDj"
      },
      "source": [
        "N = coef.shape[1]-1\n",
        "M = len(coef)-1"
      ],
      "execution_count": 5,
      "outputs": []
    },
    {
      "cell_type": "code",
      "metadata": {
        "id": "AYgMQmfhKeDj"
      },
      "source": [
        "obj_coef = coef[0,:-1]\n",
        "\n",
        "cons_coef = coef[1:,:-1]\n",
        "cons_rhs = coef[1:,-1]"
      ],
      "execution_count": 6,
      "outputs": []
    },
    {
      "cell_type": "code",
      "metadata": {
        "id": "tI_IPkkkKeDk"
      },
      "source": [
        "cols_x = np.arange(int(N/2))\n",
        "cols_u = np.arange(int(N/2))\n",
        "\n",
        "rows = np.arange(M)"
      ],
      "execution_count": 7,
      "outputs": []
    },
    {
      "cell_type": "code",
      "metadata": {
        "id": "hFDcvUi7KeDk"
      },
      "source": [
        "m1 = ConcreteModel()\n",
        "m1.x = Var(cols_x)\n",
        "m1.u = Var(cols_u,domain=NonNegativeReals)\n",
        "\n",
        "m1.cons = ConstraintList()"
      ],
      "execution_count": 8,
      "outputs": []
    },
    {
      "cell_type": "code",
      "metadata": {
        "id": "Z8RxW7_GKeDl"
      },
      "source": [
        "for i in range(M):\n",
        "    m1.cons.add(sum(cons_coef[i][j]*m1.x[j] + cons_coef[i][j+5]*m1.u[j] for j in cols_x)>=cons_rhs[i])"
      ],
      "execution_count": 9,
      "outputs": []
    },
    {
      "cell_type": "code",
      "metadata": {
        "id": "-xSCIUvCKeDl"
      },
      "source": [
        "m1.obj = Objective(expr=summation(m1.u))"
      ],
      "execution_count": 10,
      "outputs": []
    },
    {
      "cell_type": "code",
      "metadata": {
        "id": "tc8qzP0rKeDm"
      },
      "source": [
        "solver= SolverFactory('cbc')\n",
        "opt1 = solver.solve(m1)"
      ],
      "execution_count": 11,
      "outputs": []
    },
    {
      "cell_type": "code",
      "metadata": {
        "id": "VpUAYpHRKeDn"
      },
      "source": [
        ""
      ],
      "execution_count": 11,
      "outputs": []
    },
    {
      "cell_type": "markdown",
      "metadata": {
        "id": "Mdjs2gRzkyco"
      },
      "source": [
        "### 2)"
      ]
    },
    {
      "cell_type": "code",
      "metadata": {
        "id": "ulsO2QOEKeDn",
        "colab": {
          "base_uri": "https://localhost:8080/"
        },
        "outputId": "e622f864-e32d-4046-9467-e4c94da8123b"
      },
      "source": [
        "print('Solver status:', opt1.solver.status)\n",
        "print('Solver termination condition:',opt1.solver.termination_condition)"
      ],
      "execution_count": 12,
      "outputs": [
        {
          "output_type": "stream",
          "name": "stdout",
          "text": [
            "Solver status: ok\n",
            "Solver termination condition: optimal\n"
          ]
        }
      ]
    },
    {
      "cell_type": "markdown",
      "metadata": {
        "id": "Vl3oGDB_k0if"
      },
      "source": [
        "### 3)"
      ]
    },
    {
      "cell_type": "code",
      "metadata": {
        "id": "zEBT-FIBK_qe",
        "colab": {
          "base_uri": "https://localhost:8080/"
        },
        "outputId": "72d08afa-65d8-43ec-b0e9-0af5d2837fd7"
      },
      "source": [
        "# display solution\n",
        "print('\\nObjective = ', m1.obj())\n",
        "\n",
        "print('\\nDecision Variables')\n",
        "for j in cols_x:\n",
        "    print('x[',j+1,']:', m1.x[j].value)\n",
        "\n",
        "for j in cols_u:\n",
        "    print('u[',j+1,']:', m1.u[j].value)\n",
        "\n",
        "print('\\nConstraints')\n",
        "m1.cons.display()"
      ],
      "execution_count": 13,
      "outputs": [
        {
          "output_type": "stream",
          "name": "stdout",
          "text": [
            "\n",
            "Objective =  0.547955725\n",
            "\n",
            "Decision Variables\n",
            "x[ 1 ]: -0.046448575\n",
            "x[ 2 ]: 0.18612441\n",
            "x[ 3 ]: -0.17131802\n",
            "x[ 4 ]: 0.0\n",
            "x[ 5 ]: -0.14406472\n",
            "u[ 1 ]: 0.046448575\n",
            "u[ 2 ]: 0.18612441\n",
            "u[ 3 ]: 0.17131802\n",
            "u[ 4 ]: 0.0\n",
            "u[ 5 ]: 0.14406472\n",
            "\n",
            "Constraints\n",
            "cons : Size=16\n",
            "    Key : Lower : Body               : Upper\n",
            "      1 :   1.0 : 0.9999996250000001 :  None\n",
            "      2 :   1.0 : 0.9999997599999997 :  None\n",
            "      3 :   1.0 :  1.458337769999999 :  None\n",
            "      4 :   1.0 : 1.0000002550000002 :  None\n",
            "      5 :   1.0 :  1.000000215000001 :  None\n",
            "      6 :   1.0 : 5.2549776999999995 :  None\n",
            "      7 :   0.0 :         0.09289715 :  None\n",
            "      8 :   0.0 :                0.0 :  None\n",
            "      9 :   0.0 :         0.34263604 :  None\n",
            "     10 :   0.0 :                0.0 :  None\n",
            "     11 :   0.0 :         0.28812944 :  None\n",
            "     12 :   0.0 :                0.0 :  None\n",
            "     13 :   0.0 :         0.37224882 :  None\n",
            "     14 :   0.0 :                0.0 :  None\n",
            "     15 :   0.0 :                0.0 :  None\n",
            "     16 :   0.0 :                0.0 :  None\n"
          ]
        }
      ]
    },
    {
      "cell_type": "markdown",
      "metadata": {
        "id": "uXgs_BHPEg3a"
      },
      "source": [
        "Constraints 1,2,4,5,8,10,12,14,15,16 are active constraints.\n",
        "We can also see that the value of each u-i is equal to the absolute value of corrensponding x-i. Hence the solution to our reformulation can also give us the solution to the original linear program. "
      ]
    },
    {
      "cell_type": "code",
      "metadata": {
        "id": "opu4_hwWLW07"
      },
      "source": [
        ""
      ],
      "execution_count": 13,
      "outputs": []
    },
    {
      "cell_type": "code",
      "metadata": {
        "id": "mA5X7vtWNqJi"
      },
      "source": [
        "coef2 = np.loadtxt('lab6_practice_coef_OP2.txt', delimiter=',')"
      ],
      "execution_count": 14,
      "outputs": []
    },
    {
      "cell_type": "code",
      "metadata": {
        "id": "hV0jafSxNqUs"
      },
      "source": [
        "obj_coef2 = coef2[0,:-1]\n",
        "cons_coef2 = coef2[1:,:-1]\n",
        "cons_rhs2 = coef2[1:,-1]"
      ],
      "execution_count": 15,
      "outputs": []
    },
    {
      "cell_type": "code",
      "metadata": {
        "id": "mXqdkv5SN6xq"
      },
      "source": [
        "N2 = coef2.shape[1]-1\n",
        "M2 = len(coef2)-1\n",
        "\n",
        "cols_a = np.arange(int(N2/2))\n",
        "cols_b = np.arange(int(N2/2))\n",
        "\n",
        "rows = np.arange(M2)"
      ],
      "execution_count": 16,
      "outputs": []
    },
    {
      "cell_type": "code",
      "metadata": {
        "id": "PQ9FIIeZOcFo"
      },
      "source": [
        "m12 = ConcreteModel()\n",
        "m12.a = Var(cols_a,domain=NonNegativeReals)\n",
        "m12.b = Var(cols_b,domain=NonNegativeReals)\n",
        "\n",
        "m12.cons = ConstraintList()\n",
        "for i in range(M2):\n",
        "    m12.cons.add(sum(cons_coef2[i][j]*m12.a[j] + cons_coef2[i][j+len(m12.a)]*m12.b[j] for j in cols_a)>=cons_rhs2[i])\n",
        "\n",
        "m12.obj = Objective(expr=summation(m12.a)+summation(m12.b))    \n",
        "\n",
        "\n",
        "\n"
      ],
      "execution_count": 17,
      "outputs": []
    },
    {
      "cell_type": "code",
      "metadata": {
        "id": "wH-j-b18PREC"
      },
      "source": [
        "opt2 = solver.solve(m12)"
      ],
      "execution_count": 18,
      "outputs": []
    },
    {
      "cell_type": "markdown",
      "metadata": {
        "id": "RGGN1-7jkpV5"
      },
      "source": [
        "### 9)"
      ]
    },
    {
      "cell_type": "code",
      "metadata": {
        "id": "Q8KDI93bPaOY",
        "colab": {
          "base_uri": "https://localhost:8080/"
        },
        "outputId": "c16389a5-46e4-479c-d428-df21e1fcb68a"
      },
      "source": [
        "print('Solver status:', opt2.solver.status)\n",
        "print('Solver termination condition:',opt2.solver.termination_condition)"
      ],
      "execution_count": 19,
      "outputs": [
        {
          "output_type": "stream",
          "name": "stdout",
          "text": [
            "Solver status: ok\n",
            "Solver termination condition: optimal\n"
          ]
        }
      ]
    },
    {
      "cell_type": "markdown",
      "metadata": {
        "id": "XFmdwco1kkey"
      },
      "source": [
        "### 10)"
      ]
    },
    {
      "cell_type": "code",
      "metadata": {
        "id": "haGxW_i0P3r2",
        "colab": {
          "base_uri": "https://localhost:8080/"
        },
        "outputId": "f473511c-fc49-4546-ec15-376edae42eed"
      },
      "source": [
        "print('\\nObjective = ', m12.obj())\n",
        "\n",
        "print('\\nDecision Variables')\n",
        "for j in cols_a:\n",
        "    print('a[',j+1,']:', m12.a[j].value)\n",
        "\n",
        "for j in cols_b:\n",
        "    print('b[',j+1,']:', m12.b[j].value)\n",
        "\n",
        "print('\\nConstraints')\n",
        "m12.cons.display()"
      ],
      "execution_count": 20,
      "outputs": [
        {
          "output_type": "stream",
          "name": "stdout",
          "text": [
            "\n",
            "Objective =  0.547955725\n",
            "\n",
            "Decision Variables\n",
            "a[ 1 ]: 0.0\n",
            "a[ 2 ]: 0.18612441\n",
            "a[ 3 ]: 0.0\n",
            "a[ 4 ]: 0.0\n",
            "a[ 5 ]: 0.0\n",
            "b[ 1 ]: 0.046448575\n",
            "b[ 2 ]: 0.0\n",
            "b[ 3 ]: 0.17131802\n",
            "b[ 4 ]: 0.0\n",
            "b[ 5 ]: 0.14406472\n",
            "\n",
            "Constraints\n",
            "cons : Size=6\n",
            "    Key : Lower : Body               : Upper\n",
            "      1 :   1.0 : 0.9999996250000001 :  None\n",
            "      2 :   1.0 : 0.9999997599999997 :  None\n",
            "      3 :   1.0 :  1.458337769999999 :  None\n",
            "      4 :   1.0 : 1.0000002550000002 :  None\n",
            "      5 :   1.0 :  1.000000215000001 :  None\n",
            "      6 :   1.0 : 5.2549776999999995 :  None\n"
          ]
        }
      ]
    },
    {
      "cell_type": "markdown",
      "metadata": {
        "id": "iiZnpXYhBJGN"
      },
      "source": [
        "Constraints 1,2,4,5 are active constraints."
      ]
    },
    {
      "cell_type": "markdown",
      "metadata": {
        "id": "0hmkslgEkeld"
      },
      "source": [
        "### 11)"
      ]
    },
    {
      "cell_type": "code",
      "metadata": {
        "id": "NB-EM2qfQElk",
        "colab": {
          "base_uri": "https://localhost:8080/"
        },
        "outputId": "52cab0fb-e450-498f-ff58-dc9504d4e95e"
      },
      "source": [
        "for i in range(N2//2):\n",
        "  print(f'Value of x{i+1} is', m12.a[i]()-m12.b[i]())"
      ],
      "execution_count": 21,
      "outputs": [
        {
          "output_type": "stream",
          "name": "stdout",
          "text": [
            "Value of x1 is -0.046448575\n",
            "Value of x2 is 0.18612441\n",
            "Value of x3 is -0.17131802\n",
            "Value of x4 is 0.0\n",
            "Value of x5 is -0.14406472\n"
          ]
        }
      ]
    },
    {
      "cell_type": "markdown",
      "metadata": {
        "id": "AGhAjfA9kaUj"
      },
      "source": [
        "### 12)"
      ]
    },
    {
      "cell_type": "code",
      "metadata": {
        "id": "mc9aZJXKRoH5",
        "colab": {
          "base_uri": "https://localhost:8080/"
        },
        "outputId": "6d7b4b03-33e7-4aca-f4c3-8fc95511d349"
      },
      "source": [
        "print('         OP1',' '*18,'OP2')\n",
        "for j in cols_x:\n",
        "    print('x[',j+1,']:','%13.10f'%m1.x[j].value,' '*8 ,'%13.10f'%(m12.a[j]()-m12.b[j]()))"
      ],
      "execution_count": 22,
      "outputs": [
        {
          "output_type": "stream",
          "name": "stdout",
          "text": [
            "         OP1                    OP2\n",
            "x[ 1 ]: -0.0464485750          -0.0464485750\n",
            "x[ 2 ]:  0.1861244100           0.1861244100\n",
            "x[ 3 ]: -0.1713180200          -0.1713180200\n",
            "x[ 4 ]:  0.0000000000           0.0000000000\n",
            "x[ 5 ]: -0.1440647200          -0.1440647200\n"
          ]
        }
      ]
    },
    {
      "cell_type": "markdown",
      "metadata": {
        "id": "Bcb533N_jnIs"
      },
      "source": [
        "The value of all Xis are the same in OP1 and OP2. This is because they are equivalent LPs "
      ]
    },
    {
      "cell_type": "code",
      "metadata": {
        "id": "eADrw2ggij-6"
      },
      "source": [
        ""
      ],
      "execution_count": 22,
      "outputs": []
    }
  ]
}
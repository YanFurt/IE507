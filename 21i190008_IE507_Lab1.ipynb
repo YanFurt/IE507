{
  "nbformat": 4,
  "nbformat_minor": 0,
  "metadata": {
    "colab": {
      "name": "21i190008_IE507_Lab1.ipynb",
      "provenance": [],
      "collapsed_sections": []
    },
    "kernelspec": {
      "name": "python3",
      "display_name": "Python 3"
    },
    "language_info": {
      "name": "python"
    }
  },
  "cells": [
    {
      "cell_type": "code",
      "metadata": {
        "id": "5NgfaI1jTMUd"
      },
      "source": [
        "!pip install -q pyomo"
      ],
      "execution_count": null,
      "outputs": []
    },
    {
      "cell_type": "code",
      "metadata": {
        "id": "BSIBq6OwTQdt"
      },
      "source": [
        "!apt-get install -y -qq glpk-utils"
      ],
      "execution_count": null,
      "outputs": []
    },
    {
      "cell_type": "code",
      "metadata": {
        "id": "aFz07AbXTbOf"
      },
      "source": [
        "from pyomo.environ import *"
      ],
      "execution_count": 3,
      "outputs": []
    },
    {
      "cell_type": "markdown",
      "metadata": {
        "id": "nfSTJw5urSbb"
      },
      "source": [
        "## EXERCISE 1"
      ]
    },
    {
      "cell_type": "code",
      "metadata": {
        "id": "_sD8nd_mTgN4"
      },
      "source": [
        "m1 = ConcreteModel()\n",
        "m1.x1 = Var(domain=Reals)\n",
        "m1.x2 = Var(domain=Reals)\n",
        "m1.x3 = Var(domain=Reals)\n",
        "m1.x4 = Var(domain=Reals)\n",
        "m1.x5 = Var(domain=Reals)\n",
        "m1.x6 = Var(domain=Reals)\n",
        "m1.x7 = Var(domain=Reals)"
      ],
      "execution_count": 4,
      "outputs": []
    },
    {
      "cell_type": "code",
      "metadata": {
        "id": "fCwSJsi7T57k"
      },
      "source": [
        "m1.cost = Objective(expr=2*m1.x1-5*m1.x2+14*m1.x3+7*m1.x4-11*m1.x5+0.17*m1.x6-10.2*m1.x7, sense=minimize)"
      ],
      "execution_count": 5,
      "outputs": []
    },
    {
      "cell_type": "code",
      "metadata": {
        "id": "f9NO2dSHUjOY"
      },
      "source": [
        "m1.c1 = Constraint(expr = m1.x1+m1.x2+m1.x3+m1.x4+m1.x5+m1.x6+m1.x7==280)\n",
        "m1.c2 = Constraint(expr=m1.x1-m1.x2>=10)\n",
        "m1.c3 = Constraint(expr=-3*m1.x3+m1.x6-3*m1.x7<=205)\n",
        "m1.c4 = Constraint(expr=20*m1.x1+42*m1.x6+m1.x5>=35)\n",
        "m1.c5 = Constraint(expr= m1.x2- m1.x3 + 4*m1.x7 >= 24)\n",
        "m1.c6 = Constraint(expr=m1.x1>=12)\n",
        "m1.c7 = Constraint(expr=m1.x2>=0)\n",
        "m1.c8 = Constraint(expr=m1.x3>=-5)\n",
        "m1.c9 = Constraint(expr=m1.x4>=3)\n",
        "m1.c10 = Constraint(expr=m1.x5>=10)\n",
        "m1.c11 = Constraint(expr=m1.x6>=-4)\n",
        "m1.c12 = Constraint(expr=m1.x7>=0)\n"
      ],
      "execution_count": 6,
      "outputs": []
    },
    {
      "cell_type": "code",
      "metadata": {
        "id": "EdayV2FOXuqR",
        "colab": {
          "base_uri": "https://localhost:8080/"
        },
        "outputId": "a9890998-41e6-4951-bce7-e2702b13f40d"
      },
      "source": [
        "SolverFactory('glpk', executable='/usr/bin/glpsol').solve(m1).write()"
      ],
      "execution_count": 7,
      "outputs": [
        {
          "output_type": "stream",
          "text": [
            "# ==========================================================\n",
            "# = Solver Results                                         =\n",
            "# ==========================================================\n",
            "# ----------------------------------------------------------\n",
            "#   Problem Information\n",
            "# ----------------------------------------------------------\n",
            "Problem: \n",
            "- Name: unknown\n",
            "  Lower bound: -3035.88\n",
            "  Upper bound: -3035.88\n",
            "  Number of objectives: 1\n",
            "  Number of constraints: 13\n",
            "  Number of variables: 8\n",
            "  Number of nonzeros: 26\n",
            "  Sense: minimize\n",
            "# ----------------------------------------------------------\n",
            "#   Solver Information\n",
            "# ----------------------------------------------------------\n",
            "Solver: \n",
            "- Status: ok\n",
            "  Termination condition: optimal\n",
            "  Statistics: \n",
            "    Branch and bound: \n",
            "      Number of bounded subproblems: 0\n",
            "      Number of created subproblems: 0\n",
            "  Error rc: 0\n",
            "  Time: 0.01173853874206543\n",
            "# ----------------------------------------------------------\n",
            "#   Solution Information\n",
            "# ----------------------------------------------------------\n",
            "Solution: \n",
            "- number of solutions: 0\n",
            "  number of solutions displayed: 0\n"
          ],
          "name": "stdout"
        }
      ]
    },
    {
      "cell_type": "markdown",
      "metadata": {
        "id": "6uRsOReFu9-K"
      },
      "source": [
        "**Exercise1 Q3**"
      ]
    },
    {
      "cell_type": "code",
      "metadata": {
        "colab": {
          "base_uri": "https://localhost:8080/"
        },
        "id": "NSGmWlIevTUS",
        "outputId": "61b7162f-0a02-478f-e669-792df2c80f52"
      },
      "source": [
        "vars1 =[m1.x1(),m1.x2(),m1.x3() ,m1.x4() ,m1.x5() ,m1.x6() ,m1.x7()]\n",
        "print('Value of objective function is',m1.cost())\n",
        "print('Decision variables')\n",
        "for i in range(len(vars1)):\n",
        "  print('x'+str(i+1)+ '=', vars1[i])"
      ],
      "execution_count": 8,
      "outputs": [
        {
          "output_type": "stream",
          "text": [
            "Value of objective function is -3035.8799999999997\n",
            "Decision variables\n",
            "x1= 12.0\n",
            "x2= 0.0\n",
            "x3= -5.0\n",
            "x4= 3.0\n",
            "x5= 269.25\n",
            "x6= -4.0\n",
            "x7= 4.75\n"
          ],
          "name": "stdout"
        }
      ]
    },
    {
      "cell_type": "markdown",
      "metadata": {
        "id": "--QUpnM2VTeX"
      },
      "source": [
        "**Exercise 1 Q4**"
      ]
    },
    {
      "cell_type": "code",
      "metadata": {
        "colab": {
          "base_uri": "https://localhost:8080/"
        },
        "id": "7Cda4vv2Yjsc",
        "outputId": "5867056b-56dc-47be-b48c-e225ba495917"
      },
      "source": [
        "constraints1 =[m1.c1(),m1.c2(),m1.c3() ,m1.c4() ,m1.c5() ,m1.c6() ,m1.c7(),m1.c8(),m1.c9(),m1.c10() ,m1.c11(),m1.c12() ]\n",
        "for i in range(12):\n",
        "  print('Value of constraint {} is'.format(i+1), constraints1[i])"
      ],
      "execution_count": 9,
      "outputs": [
        {
          "output_type": "stream",
          "text": [
            "Value of constraint 1 is 280.0\n",
            "Value of constraint 2 is 12.0\n",
            "Value of constraint 3 is -3.25\n",
            "Value of constraint 4 is 341.25\n",
            "Value of constraint 5 is 24.0\n",
            "Value of constraint 6 is 12.0\n",
            "Value of constraint 7 is 0.0\n",
            "Value of constraint 8 is -5.0\n",
            "Value of constraint 9 is 3.0\n",
            "Value of constraint 10 is 269.25\n",
            "Value of constraint 11 is -4.0\n",
            "Value of constraint 12 is 4.75\n"
          ],
          "name": "stdout"
        }
      ]
    },
    {
      "cell_type": "markdown",
      "metadata": {
        "id": "vgCFhsaZVkSi"
      },
      "source": [
        "Constraint 1 satisfies equality\\\n",
        "Constraint 2 doesn't satisfy equality\\\n",
        "Constraint 3 doesn't satisfy equality\\\n",
        "Constraint 4 doesn't satisfy equality\n"
      ]
    },
    {
      "cell_type": "code",
      "metadata": {
        "id": "oJKjHR_LZoM4"
      },
      "source": [
        ""
      ],
      "execution_count": 9,
      "outputs": []
    },
    {
      "cell_type": "code",
      "metadata": {
        "id": "v0wt8kEzbuZU"
      },
      "source": [
        ""
      ],
      "execution_count": 9,
      "outputs": []
    },
    {
      "cell_type": "markdown",
      "metadata": {
        "id": "VdA8Fx4SrIQi"
      },
      "source": [
        "## **EXERCISE 2**"
      ]
    },
    {
      "cell_type": "markdown",
      "metadata": {
        "id": "a9xxIDcv5q7x"
      },
      "source": [
        "Exercise 2 Q1"
      ]
    },
    {
      "cell_type": "markdown",
      "metadata": {
        "id": "6QI0DMA4bvIW"
      },
      "source": [
        "\n",
        "The optimsation problem can be written as a linear program in the following way:\\\n",
        "$\\max \\ 0.043x_1 + 0.027x_2 + 0.025x_3 + 0.022x_4 + 0.045x_5 - 0.0275y $\\\n",
        "subject to:\\\n",
        "$x_1 + 3x_2 + x_3 + 7x_4 + x_5 -y <= 100\\\\\n",
        "x_2 + 2x_3 + 4x_4 >= 60\\\\\n",
        "-0.8x_1 + 4.8x_2 - 1.8x_3 + 3.8x_4 + 2.2x_5 <= 0\\\\\n",
        "-x_1 + 12x_2 + x_3 + 3x_4 - 5x_5 <=0\\\\\n",
        "x_1 >= 0 \\\\\n",
        "x_2 >= 0\\\\\n",
        "x_3 >= 0\\\\\n",
        "x_4 >= 0\\\\\n",
        "x_5 >= 0\\\\\n",
        "y >= 0\\\\\n",
        "y <= 2.25$\n",
        "\n",
        "\n",
        "Assumptions:\n",
        "\n",
        "$\n",
        " x_1 - x_2 + x_3 - x_4 + x_5 >= 0\\\\\n",
        " x_1 + x_2 + x_3 - x_5 >= 0\n",
        "$\n",
        "\n",
        "These assumptions were made because the expressions were in the denominators of 2 constraints of the original optimisation problem.\n",
        "If the expressions took a negative value, then the inequality sign of the constraint would have to be flipped, on cross-multiplying. Since i considered the original sign (<=) for both, i had to ensure that the value of the denominator remains positive.\n"
      ]
    },
    {
      "cell_type": "code",
      "metadata": {
        "id": "QcuxpuuNfbhY"
      },
      "source": [
        "m2 = ConcreteModel()"
      ],
      "execution_count": 10,
      "outputs": []
    },
    {
      "cell_type": "code",
      "metadata": {
        "id": "5XdEH5vEkngc"
      },
      "source": [
        "m2.x1 = Var(domain = Reals)\n",
        "m2.x2 = Var(domain = Reals)\n",
        "m2.x3 = Var(domain = Reals)\n",
        "m2.x4 = Var(domain = Reals)\n",
        "m2.y = Var(domain = Reals)\n",
        "m2.x5 = Var(domain=Reals)"
      ],
      "execution_count": 11,
      "outputs": []
    },
    {
      "cell_type": "code",
      "metadata": {
        "id": "RG1w51iGk6Z2"
      },
      "source": [
        "m2.cost = Objective(expr= 0.043*m2.x1 + 0.027*m2.x2 + 0.025*m2.x3 + 0.022*m2.x4 + 0.045*m2.x5- 0.0275*m2.y,sense=maximize)"
      ],
      "execution_count": 12,
      "outputs": []
    },
    {
      "cell_type": "code",
      "metadata": {
        "id": "IVb2dKHYlipz"
      },
      "source": [
        "m2.c1 = Constraint(expr=m2.x1+3*m2.x2+m2.x3+7*m2.x4+m2.x5-m2.y<=100)\n",
        "m2.c2 = Constraint(expr=m2.x2+2*m2.x3+4*m2.x4>=60)\n",
        "m2.c3 = Constraint(expr=-0.8*m2.x1+4.8*m2.x2-1.8*m2.x3+3.8*m2.x4 + 2.2*m2.x5 <= 0)\n",
        "m2.c4 = Constraint(expr=-m2.x1+12*m2.x2+m2.x3+3*m2.x4-5*m2.x5<=0)\n",
        "m2.c5 = Constraint(expr=m2.x1>=0)\n",
        "m2.c6 = Constraint(expr=m2.x2>=0)\n",
        "m2.c7 = Constraint(expr=m2.x3>=0)\n",
        "m2.c8 = Constraint(expr=m2.x4>=0)\n",
        "m2.c9 = Constraint(expr=m2.x5>=0)\n",
        "m2.c10 = Constraint(expr=m2.y>=0)\n",
        "m2.c11 = Constraint(expr=m2.y<=2.25)\n",
        "\n",
        "m2.c12 = Constraint(expr = m2.x1-m2.x2+m2.x3-m2.x4+m2.x5>=0)\n",
        "m2.c13 = Constraint(expr = m2.x1+m2.x2+m2.x3-m2.x5>=0)"
      ],
      "execution_count": 13,
      "outputs": []
    },
    {
      "cell_type": "code",
      "metadata": {
        "colab": {
          "base_uri": "https://localhost:8080/"
        },
        "id": "a-SY9GCFt-_4",
        "outputId": "f5a2cff7-35bc-46b1-b11a-f131a34b609d"
      },
      "source": [
        "SolverFactory('glpk', executable='/usr/bin/glpsol').solve(m2).write()"
      ],
      "execution_count": 14,
      "outputs": [
        {
          "output_type": "stream",
          "text": [
            "# ==========================================================\n",
            "# = Solver Results                                         =\n",
            "# ==========================================================\n",
            "# ----------------------------------------------------------\n",
            "#   Problem Information\n",
            "# ----------------------------------------------------------\n",
            "Problem: \n",
            "- Name: unknown\n",
            "  Lower bound: 3.86940833333333\n",
            "  Upper bound: 3.86940833333333\n",
            "  Number of objectives: 1\n",
            "  Number of constraints: 14\n",
            "  Number of variables: 7\n",
            "  Number of nonzeros: 36\n",
            "  Sense: maximize\n",
            "# ----------------------------------------------------------\n",
            "#   Solver Information\n",
            "# ----------------------------------------------------------\n",
            "Solver: \n",
            "- Status: ok\n",
            "  Termination condition: optimal\n",
            "  Statistics: \n",
            "    Branch and bound: \n",
            "      Number of bounded subproblems: 0\n",
            "      Number of created subproblems: 0\n",
            "  Error rc: 0\n",
            "  Time: 0.012133359909057617\n",
            "# ----------------------------------------------------------\n",
            "#   Solution Information\n",
            "# ----------------------------------------------------------\n",
            "Solution: \n",
            "- number of solutions: 0\n",
            "  number of solutions displayed: 0\n"
          ],
          "name": "stdout"
        }
      ]
    },
    {
      "cell_type": "markdown",
      "metadata": {
        "id": "_Fp6gmhK5kX_"
      },
      "source": [
        "Exercise 2 Q3\n"
      ]
    },
    {
      "cell_type": "code",
      "metadata": {
        "colab": {
          "base_uri": "https://localhost:8080/"
        },
        "id": "rDWr0gzcuNSI",
        "outputId": "690032a4-e3ae-45af-aa24-97823e280113"
      },
      "source": [
        "vars2 =[m2.x1(),m2.x2(),m2.x3() ,m2.x4() ,m2.x5() ,m2.y()]\n",
        "print('Value of objective function is',m2.cost())\n",
        "print('Decision variables')\n",
        "for i in range(len(vars2)-1):\n",
        "  print('x'+str(i+1)+ '=', vars2[i])\n",
        "print('y=',m2.y())  "
      ],
      "execution_count": 15,
      "outputs": [
        {
          "output_type": "stream",
          "text": [
            "Value of objective function is 3.869408333333333\n",
            "Decision variables\n",
            "x1= 34.9833333333333\n",
            "x2= 0.0\n",
            "x3= 30.0\n",
            "x4= 0.0\n",
            "x5= 37.2666666666667\n",
            "y= 2.25\n"
          ],
          "name": "stdout"
        }
      ]
    },
    {
      "cell_type": "code",
      "metadata": {
        "colab": {
          "base_uri": "https://localhost:8080/"
        },
        "id": "sL3ovGWk6NAn",
        "outputId": "1c7e03da-a478-4989-bf81-64a09f357bbd"
      },
      "source": [
        "constraints2 = [m2.c1(),m2.c2(),m2.c3() ,m2.c4() ,m2.c5() ,m2.c6() ,m2.c7(),m2.c8(),m2.c9(),m2.c10() ,m2.c11(),m2.c12(),m2.c13()]\n",
        "for i in range(13):\n",
        "  print('Value of constraint {} is'.format(i+1), constraints2[i])"
      ],
      "execution_count": 16,
      "outputs": [
        {
          "output_type": "stream",
          "text": [
            "Value of constraint 1 is 100.0\n",
            "Value of constraint 2 is 60.0\n",
            "Value of constraint 3 is 1.1368683772161603e-13\n",
            "Value of constraint 4 is -191.3166666666668\n",
            "Value of constraint 5 is 34.9833333333333\n",
            "Value of constraint 6 is 0.0\n",
            "Value of constraint 7 is 30.0\n",
            "Value of constraint 8 is 0.0\n",
            "Value of constraint 9 is 37.2666666666667\n",
            "Value of constraint 10 is 2.25\n",
            "Value of constraint 11 is 2.25\n",
            "Value of constraint 12 is 102.25\n",
            "Value of constraint 13 is 27.71666666666659\n"
          ],
          "name": "stdout"
        }
      ]
    },
    {
      "cell_type": "markdown",
      "metadata": {
        "id": "OS5tYQxKEdYo"
      },
      "source": [
        "**Exercise 2 Q4**"
      ]
    },
    {
      "cell_type": "markdown",
      "metadata": {
        "id": "BcImuGfnX1Rb"
      },
      "source": [
        "In case no assumptions could be made, I would create 4 different LPPs, with the objective function and following constraints common to all.\\\n",
        "$x_1 + 3x_2 + x_3 + 7x_4 + x_5 -y <= 100\\\\\n",
        "x_2 + 2x_3 + 4x_4 >= 60\\\\\n",
        "x_1 >= 0 \\\\\n",
        "x_2 >= 0\\\\\n",
        "x_3 >= 0\\\\\n",
        "x_4 >= 0\\\\\n",
        "x_5 >= 0\\\\\n",
        "y >= 0\\\\\n",
        "y <= 2.25$\n",
        "\n",
        "the remaining constraints in each LPP will be as follows\\\n",
        "LP 1.\\\n",
        "$-0.8x_1 + 4.8x_2 - 1.8x_3 + 3.8x_4 + 2.2x_5 <= 0\\\\\n",
        "-x_1 + 12x_2 + x_3 + 3x_4 - 5x_5 <=0\\\\\n",
        "x_1 - x_2 + x_3 - x_4 + x_5 >= 0\\\\\n",
        " x_1 + x_2 + x_3 - x_5 >= 0\\\\\n",
        " $\n",
        "\n",
        " LP 2.\\\n",
        " $-0.8x_1 + 4.8x_2 - 1.8x_3 + 3.8x_4 + 2.2x_5 >= 0\\\\\n",
        "-x_1 + 12x_2 + x_3 + 3x_4 - 5x_5 <=0\\\\\n",
        "x_1 - x_2 + x_3 - x_4 + x_5 <= 0\\\\\n",
        " x_1 + x_2 + x_3 - x_5 >= 0\\\\\n",
        " $\n",
        "\n",
        " LP 3.\\\n",
        " $-0.8x_1 + 4.8x_2 - 1.8x_3 + 3.8x_4 + 2.2x_5 <= 0\\\\\n",
        "-x_1 + 12x_2 + x_3 + 3x_4 - 5x_5 >=0\\\\\n",
        "x_1 - x_2 + x_3 - x_4 + x_5 >= 0\\\\\n",
        " x_1 + x_2 + x_3 - x_5 <= 0\\\\\n",
        " $\n",
        "\n",
        "LP 4.\\\n",
        "$-0.8x_1 + 4.8x_2 - 1.8x_3 + 3.8x_4 + 2.2x_5 >= 0\\\\\n",
        "-x_1 + 12x_2 + x_3 + 3x_4 - 5x_5 >=0\\\\\n",
        "x_1 - x_2 + x_3 - x_4 + x_5 <= 0\\\\\n",
        " x_1 + x_2 + x_3 - x_5 <= 0\\\\\n",
        " $\\\n",
        " This is to ensure the correct inequality in the fractional constraints depending upon whether the denominators were positive or negative\n",
        "\n",
        " Out of these 4 i would see which ones have an optimal solution, and among those, i would select the solution of the LP which has the maximum value of the objective function as the solution of the original equation."
      ]
    },
    {
      "cell_type": "code",
      "metadata": {
        "id": "sKoi4P6-7qvn"
      },
      "source": [
        ""
      ],
      "execution_count": 16,
      "outputs": []
    },
    {
      "cell_type": "markdown",
      "metadata": {
        "id": "fobexm6BIkIW"
      },
      "source": [
        "EXERCISE 3"
      ]
    },
    {
      "cell_type": "markdown",
      "metadata": {
        "id": "ENJ9KyfvIpca"
      },
      "source": [
        "**Exercise 3 Q1**"
      ]
    },
    {
      "cell_type": "markdown",
      "metadata": {
        "id": "eYuTj0RZIzKJ"
      },
      "source": [
        "Decision variables:\\\n",
        "p (quantity in kgs of P produced)\\\n",
        "q (quantity in kgs of q produced)\n",
        "\n",
        "LPP:\n",
        "Minimize 145p + 280q\\\n",
        "s.t.\n",
        "1. p + q >= 274\n",
        "2. p >= 84\n",
        "3. q >= 80\\\n",
        "4. 55p + 69q <= 25800\n",
        "______________________________________________\n",
        "1. p+q gives total production of P and Q combined. This must meet total demand (potential demand for september + demand of major customer)\n",
        "2. Total production of P must be at least equal to the demands from customer\n",
        "3. Total production of Q must be at least equal to the demands from customer\n",
        "4. Time taken for production of P and Q must not exceed available manufacturing time (all timings converted to minutes)"
      ]
    },
    {
      "cell_type": "code",
      "metadata": {
        "id": "-uSN2AhxIuZv"
      },
      "source": [
        "m3 = ConcreteModel()\n",
        "m3.p = Var(domain=Reals)\n",
        "m3.q = Var(domain=Reals)\n",
        "\n",
        "m3.c1 = Constraint(expr = m3.p+m3.q>=274)\n",
        "m3.c2 = Constraint(expr = m3.p>=84,)\n",
        "m3.c3 = Constraint(expr = m3.q >= 80)\n",
        "m3.c4 = Constraint(expr = 55*m3.p+69*m3.q <= 25800)\n",
        "\n",
        "m3.cost = Objective(expr = 145*m3.p+280*m3.q)"
      ],
      "execution_count": 17,
      "outputs": []
    },
    {
      "cell_type": "code",
      "metadata": {
        "colab": {
          "base_uri": "https://localhost:8080/"
        },
        "id": "vlIxAyWJK3At",
        "outputId": "9871b2b2-217e-49f5-e976-43fa42cc0b8c"
      },
      "source": [
        "SolverFactory('glpk', executable='/usr/bin/glpsol').solve(m3).write()"
      ],
      "execution_count": 18,
      "outputs": [
        {
          "output_type": "stream",
          "text": [
            "# ==========================================================\n",
            "# = Solver Results                                         =\n",
            "# ==========================================================\n",
            "# ----------------------------------------------------------\n",
            "#   Problem Information\n",
            "# ----------------------------------------------------------\n",
            "Problem: \n",
            "- Name: unknown\n",
            "  Lower bound: 50530.0\n",
            "  Upper bound: 50530.0\n",
            "  Number of objectives: 1\n",
            "  Number of constraints: 5\n",
            "  Number of variables: 3\n",
            "  Number of nonzeros: 7\n",
            "  Sense: minimize\n",
            "# ----------------------------------------------------------\n",
            "#   Solver Information\n",
            "# ----------------------------------------------------------\n",
            "Solver: \n",
            "- Status: ok\n",
            "  Termination condition: optimal\n",
            "  Statistics: \n",
            "    Branch and bound: \n",
            "      Number of bounded subproblems: 0\n",
            "      Number of created subproblems: 0\n",
            "  Error rc: 0\n",
            "  Time: 0.015134572982788086\n",
            "# ----------------------------------------------------------\n",
            "#   Solution Information\n",
            "# ----------------------------------------------------------\n",
            "Solution: \n",
            "- number of solutions: 0\n",
            "  number of solutions displayed: 0\n"
          ],
          "name": "stdout"
        }
      ]
    },
    {
      "cell_type": "markdown",
      "metadata": {
        "id": "1vDk4ybHOGaW"
      },
      "source": [
        "**Exercise 3 Q3**"
      ]
    },
    {
      "cell_type": "code",
      "metadata": {
        "colab": {
          "base_uri": "https://localhost:8080/"
        },
        "id": "ijFNuHBOLFt2",
        "outputId": "47e1f7b0-24d2-49a3-8a41-f1479bf2449e"
      },
      "source": [
        "\n",
        "print('Optimal production cost(in Rs) is ', m3.cost())\n",
        "print('Production (kgs) of P is', m3.p())\n",
        "print('Production (kgs) of Q is', m3.q())\n",
        "print('Constraint 1 =', m3.c1())\n",
        "print('Constraint 2 =', m3.c2())\n",
        "print('Constraint 3 =', m3.c3())\n",
        "print('Constraint 4 =', m3.c4())"
      ],
      "execution_count": 19,
      "outputs": [
        {
          "output_type": "stream",
          "text": [
            "Optimal production cost(in Rs) is  50530.0\n",
            "Production (kgs) of P is 194.0\n",
            "Production (kgs) of Q is 80.0\n",
            "Constraint 1 = 274.0\n",
            "Constraint 2 = 194.0\n",
            "Constraint 3 = 80.0\n",
            "Constraint 4 = 16190.0\n"
          ],
          "name": "stdout"
        }
      ]
    },
    {
      "cell_type": "markdown",
      "metadata": {
        "id": "f6m4PPRBNgGx"
      },
      "source": [
        "Constraint 1 satisfies equality\\\n",
        "Constraint 2 doesn't satisfy equality\\\n",
        "Constraint 3 satisfies equality\\\n",
        "Constraint 4 doesn't satisfy equality\\"
      ]
    },
    {
      "cell_type": "markdown",
      "metadata": {
        "id": "JUEY8qGnOeaK"
      },
      "source": [
        "**Exercise 3 Q4**"
      ]
    },
    {
      "cell_type": "markdown",
      "metadata": {
        "id": "I9qjJHcyO7Dw"
      },
      "source": [
        "New LPP\n",
        "\n",
        "Decision variables:\\\n",
        "p (quantity in kgs of P produced)\\\n",
        "q (quantity in kgs of q produced)\n",
        "\n",
        "LPP:\n",
        "Minimize 145p + 280q\\\n",
        "s.t.\n",
        "1. p + q >= 493\n",
        "2. p >= 186\n",
        "3. q >= 197\n",
        "4. 55p + 69q <= 25800\n",
        "\n",
        "------------------------------\n",
        "145p + 280q gives total cost of production.This must be minimised\n",
        "\n",
        "1. p+q gives total production of P and Q combined. This must meet total demand (potential demand for september + demands of both customers)\n",
        "2. Total production of P must be at least equal to the demands from both customers\n",
        "3. Total production of Q must be at least equal to the demands from both customers\n",
        "4. Time taken for production of P and Q must not exceed available manufacturing time (all timings converted to minutes)"
      ]
    },
    {
      "cell_type": "code",
      "metadata": {
        "id": "j3yfypxZMOU-"
      },
      "source": [
        "m4 = ConcreteModel()\n",
        "m4.p = Var(domain=Reals)\n",
        "m4.q = Var(domain=Reals)\n",
        "\n",
        "m4.c1 = Constraint(expr = m4.p+m4.q>=493)\n",
        "m4.c2 = Constraint(expr = m4.p>=186)\n",
        "m4.c3 = Constraint(expr = m4.q >= 197)\n",
        "m4.c4 = Constraint(expr = 55*m4.p+69*m4.q <= 25800)\n",
        "\n",
        "m4.cost = Objective(expr = 145*m4.p+280*m4.q)"
      ],
      "execution_count": 20,
      "outputs": []
    },
    {
      "cell_type": "code",
      "metadata": {
        "colab": {
          "base_uri": "https://localhost:8080/"
        },
        "id": "YecY_pN5SqHj",
        "outputId": "cd982da9-af24-4517-e661-219a0fc4c9d6"
      },
      "source": [
        "SolverFactory('glpk', executable='/usr/bin/glpsol').solve(m4).write()"
      ],
      "execution_count": 21,
      "outputs": [
        {
          "output_type": "stream",
          "text": [
            "# ==========================================================\n",
            "# = Solver Results                                         =\n",
            "# ==========================================================\n",
            "# ----------------------------------------------------------\n",
            "#   Problem Information\n",
            "# ----------------------------------------------------------\n",
            "Problem: \n",
            "- Name: unknown\n",
            "  Lower bound: -inf\n",
            "  Upper bound: inf\n",
            "  Number of objectives: 1\n",
            "  Number of constraints: 5\n",
            "  Number of variables: 3\n",
            "  Number of nonzeros: 7\n",
            "  Sense: minimize\n",
            "# ----------------------------------------------------------\n",
            "#   Solver Information\n",
            "# ----------------------------------------------------------\n",
            "Solver: \n",
            "- Status: ok\n",
            "  Termination condition: other\n",
            "  Statistics: \n",
            "    Branch and bound: \n",
            "      Number of bounded subproblems: 0\n",
            "      Number of created subproblems: 0\n",
            "  Error rc: 0\n",
            "  Time: 0.013710975646972656\n"
          ],
          "name": "stdout"
        }
      ]
    },
    {
      "cell_type": "markdown",
      "metadata": {
        "id": "j7K_mjVBUHTx"
      },
      "source": [
        "**Exercise3 Q6**"
      ]
    },
    {
      "cell_type": "markdown",
      "metadata": {
        "id": "OwQXlMLJUTDs"
      },
      "source": [
        "The LPP has no solution. This is probably due to the fact that the manufacturing time is not sufficient for such a high quantity of parts.\n",
        "I would advise the company to only consider the 2 customers orders. Consider the customer2's order instead of the general September expected demand since it would give a higher profit."
      ]
    },
    {
      "cell_type": "code",
      "metadata": {
        "id": "1s5JUbzrSupj"
      },
      "source": [
        ""
      ],
      "execution_count": 21,
      "outputs": []
    },
    {
      "cell_type": "code",
      "metadata": {
        "id": "VwQekPZwUA7u"
      },
      "source": [
        ""
      ],
      "execution_count": 21,
      "outputs": []
    }
  ]
}
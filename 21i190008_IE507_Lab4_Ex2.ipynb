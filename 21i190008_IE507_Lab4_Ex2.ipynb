{
  "nbformat": 4,
  "nbformat_minor": 0,
  "metadata": {
    "kernelspec": {
      "display_name": "Python 3",
      "language": "python",
      "name": "python3"
    },
    "language_info": {
      "codemirror_mode": {
        "name": "ipython",
        "version": 3
      },
      "file_extension": ".py",
      "mimetype": "text/x-python",
      "name": "python",
      "nbconvert_exporter": "python",
      "pygments_lexer": "ipython3",
      "version": "3.7.4"
    },
    "colab": {
      "name": "21i190008_IE507_Lab4_Ex2.ipynb",
      "provenance": []
    }
  },
  "cells": [
    {
      "cell_type": "code",
      "metadata": {
        "id": "PYiIQe4F0Dfi"
      },
      "source": [
        "#!pip install -q pyomo\n",
        "#!apt-get install -y -qq coinor-cbc"
      ],
      "execution_count": 16,
      "outputs": []
    },
    {
      "cell_type": "code",
      "metadata": {
        "id": "Wv8MJQ4X18LN"
      },
      "source": [
        ""
      ],
      "execution_count": 16,
      "outputs": []
    },
    {
      "cell_type": "code",
      "metadata": {
        "id": "Q9Pi6y8j0BYY"
      },
      "source": [
        "from pyomo.environ import *\n",
        "import numpy as np"
      ],
      "execution_count": 2,
      "outputs": []
    },
    {
      "cell_type": "code",
      "metadata": {
        "id": "R4-4aXWf0BYc"
      },
      "source": [
        "coefs = np.loadtxt('sample_data/lab4_ex2_lp_ip_coef.txt',delimiter=',')"
      ],
      "execution_count": 5,
      "outputs": []
    },
    {
      "cell_type": "code",
      "metadata": {
        "id": "iUOU7DeO0BYd"
      },
      "source": [
        "consrhs = coefs[1:,-1]\n",
        "concoefs = coefs[1:,:-1]\n",
        "n=500\n",
        "m = 5\n",
        "\n",
        "objcoef = coefs[0,:-1]\n",
        "cols = np.arange(n)\n",
        "rows=np.arange(m)"
      ],
      "execution_count": 6,
      "outputs": []
    },
    {
      "cell_type": "code",
      "metadata": {
        "id": "5hZGtf7t0BYd"
      },
      "source": [
        "m2 = ConcreteModel()\n",
        "m2.cons = ConstraintList()\n",
        "m2.x = Var(cols,domain=Binary)\n",
        "\n",
        "for i in rows:\n",
        "    m2.cons.add(summation(concoefs[i],m2.x)<=consrhs[i])\n",
        "\n",
        "m2.cost = Objective(expr = summation(objcoef,m2.x),sense=maximize)"
      ],
      "execution_count": 7,
      "outputs": []
    },
    {
      "cell_type": "code",
      "metadata": {
        "id": "oA-FbYht0BYe"
      },
      "source": [
        "solver = SolverFactory('cbc')\n",
        "opt1 = solver.solve(m2)\n",
        "#opt1.write()"
      ],
      "execution_count": 17,
      "outputs": []
    },
    {
      "cell_type": "markdown",
      "metadata": {
        "id": "EQTvhi3i0BYf"
      },
      "source": [
        "### 3)"
      ]
    },
    {
      "cell_type": "code",
      "metadata": {
        "colab": {
          "base_uri": "https://localhost:8080/"
        },
        "id": "vTUIXDgq0BYf",
        "outputId": "c378a1ee-59ac-4c9c-b04c-7acfa412fd2d"
      },
      "source": [
        "print('Optimal value of the objective function for the MILP is',m2.cost())"
      ],
      "execution_count": 9,
      "outputs": [
        {
          "output_type": "stream",
          "text": [
            "Optimal value of the objective function for the MILP is 295828.0\n"
          ],
          "name": "stdout"
        }
      ]
    },
    {
      "cell_type": "markdown",
      "metadata": {
        "id": "DpvonE4p0BYh"
      },
      "source": [
        "### 4)"
      ]
    },
    {
      "cell_type": "code",
      "metadata": {
        "colab": {
          "base_uri": "https://localhost:8080/"
        },
        "id": "jCzBDcuD0BYi",
        "outputId": "9ed856c1-a6b1-4939-a002-679e32c641b9"
      },
      "source": [
        "print('Time taken for solving the problem as an MILP is',opt1.solver.time,'seconds')"
      ],
      "execution_count": 18,
      "outputs": [
        {
          "output_type": "stream",
          "text": [
            "Time taken for solving the problem as an MILP is 64.79064297676086 seconds\n"
          ],
          "name": "stdout"
        }
      ]
    },
    {
      "cell_type": "code",
      "metadata": {
        "id": "I83SU_1r0BYj"
      },
      "source": [
        "m2a = m2.clone()\n",
        "m2a.x.domain=Reals\n",
        "\n",
        "for i in cols:\n",
        "    m2a.x[i].setub(1)\n",
        "    m2a.x[i].setlb(0)\n",
        "    "
      ],
      "execution_count": 11,
      "outputs": []
    },
    {
      "cell_type": "code",
      "metadata": {
        "id": "_ASyPRn60BYk"
      },
      "source": [
        "opt2 = solver.solve(m2a)\n"
      ],
      "execution_count": 12,
      "outputs": []
    },
    {
      "cell_type": "markdown",
      "metadata": {
        "id": "0VJrM2pm0BYk"
      },
      "source": [
        "### 5)"
      ]
    },
    {
      "cell_type": "code",
      "metadata": {
        "colab": {
          "base_uri": "https://localhost:8080/"
        },
        "id": "1Pr45n2D0BYl",
        "outputId": "100d589d-e63e-41ac-84b6-38ac081563fd"
      },
      "source": [
        "print('Optimal value of the objective function for the LP (without integer constraint) is',m2a.cost())"
      ],
      "execution_count": 13,
      "outputs": [
        {
          "output_type": "stream",
          "text": [
            "Optimal value of the objective function for the LP (without integer constraint) is 295896.37697236\n"
          ],
          "name": "stdout"
        }
      ]
    },
    {
      "cell_type": "markdown",
      "metadata": {
        "id": "y8Z0PsWD0BYl"
      },
      "source": [
        "### 6)"
      ]
    },
    {
      "cell_type": "code",
      "metadata": {
        "colab": {
          "base_uri": "https://localhost:8080/"
        },
        "id": "DBTiz3IA0BYl",
        "outputId": "0822fc37-81e5-448f-e93d-15a8fc46f023"
      },
      "source": [
        "print('Time taken for solving the problem as an LP is',opt2.solver.time,'seconds')"
      ],
      "execution_count": 14,
      "outputs": [
        {
          "output_type": "stream",
          "text": [
            "Time taken for solving the problem as an LP is 0.023173809051513672 seconds\n"
          ],
          "name": "stdout"
        }
      ]
    },
    {
      "cell_type": "markdown",
      "metadata": {
        "id": "HY_zeFU14iaz"
      },
      "source": [
        "Time taken to solve the LP is much less than time take to solve the MILP (approx 3000 times less in this case). this is because practically, the MILP has more constraints ( integer constraints of 500 variables) and hence more sub-problems.(shown in the following cells)"
      ]
    },
    {
      "cell_type": "code",
      "metadata": {
        "id": "hI2tA9wm41Z-"
      },
      "source": [
        ""
      ],
      "execution_count": 19,
      "outputs": []
    },
    {
      "cell_type": "markdown",
      "metadata": {
        "id": "9RB0jVWZ0BYm"
      },
      "source": [
        "### 7)"
      ]
    },
    {
      "cell_type": "code",
      "metadata": {
        "colab": {
          "base_uri": "https://localhost:8080/"
        },
        "id": "8uWazYv60BYm",
        "outputId": "b9968c4b-6135-4334-8382-4a6dc8c61bda"
      },
      "source": [
        "print('For MILP,the statistics are as follows\\n', opt1.solver.statistics)\n",
        "print('For LP,the statistics are as follows\\n', opt2.solver.statistics)"
      ],
      "execution_count": 15,
      "outputs": [
        {
          "output_type": "stream",
          "text": [
            "For MILP,the statistics are as follows\n",
            " \n",
            "Branch and bound: \n",
            "  Number of bounded subproblems: 347044\n",
            "  Number of created subproblems: 347044\n",
            "Black box: \n",
            "  Number of iterations: 1407089\n",
            "\n",
            "For LP,the statistics are as follows\n",
            " \n",
            "Branch and bound: \n",
            "  Number of bounded subproblems: None\n",
            "  Number of created subproblems: None\n",
            "Black box: \n",
            "  Number of iterations: 18\n",
            "\n"
          ],
          "name": "stdout"
        }
      ]
    },
    {
      "cell_type": "code",
      "metadata": {
        "id": "o5p9I66X0BYm"
      },
      "source": [
        ""
      ],
      "execution_count": 15,
      "outputs": []
    }
  ]
}
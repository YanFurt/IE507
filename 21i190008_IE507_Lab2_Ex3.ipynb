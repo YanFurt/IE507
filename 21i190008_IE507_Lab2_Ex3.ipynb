{
 "cells": [
  {
   "cell_type": "code",
   "execution_count": 1,
   "metadata": {},
   "outputs": [],
   "source": [
    "!pip install -q pyomo\n",
    "!apt-get install -y -qq glpk-utils"
   ]
  },
  {
   "cell_type": "markdown",
   "metadata": {
    "id": "eVvk7lqUo_-m"
   },
   "source": [
    "### Q"
   ]
  },
  {
   "cell_type": "markdown",
   "metadata": {
    "id": "ah2grn9G_GeA"
   },
   "source": [
    "The Linear program can be written as follows:\\\n",
    "\n",
    "$\\text{Decision variables:}\\\\ a_i  \\text{ -amount(in tons) of alloy A-i from inhouse stock.      i= 1,2,3...10} \\\\\n",
    "b_i \\text{ -amount (in tons) of alloy A-i purchased from market.     i=1,2,3....10}$\\\n",
    "\n",
    "$\\text{Let A= }\\ (a_1, a_2,.....,a_{10}) \\text{ and B= }\\ (b_1, b_2......b_{10})  $\n",
    "\n",
    "\\\n",
    "Objective:  \\\n",
    "$\\text{minimize }\\  C^{T}A + M^{T}B$\n",
    "\n",
    "S.T \\\n",
    "\n",
    "$ \\ Ch^{T}(A+B) = 20250\\\\\n",
    "Co^{T}(A+B) = 15750\\\\\n",
    "S^{T}(A+B) = 9000$\\\n",
    "\n",
    "Where\n",
    "\n",
    "C = [ 35,  50,  58,  60,  44,  39,  45,  55,  35,  40]\n",
    "\n",
    "M= [72,  95, 110, 125,  88,  74,  95, 115,  60,  84]\n",
    "\n",
    "Ch =  [15, 15, 10, 20, 25, 10, 50, 15, 30, 55]\n",
    "\n",
    "Co = [80, 75, 75, 60, 55, 55, 40, 35, 30, 30]\n",
    "\n",
    "Si = [5, 10, 15, 20, 20, 35, 10, 50, 40, 15]\\\n",
    "\n",
    "\n",
    "\n",
    "(The constraint that sum of quantities = 450 is included within the 3 constraints since 450 is substituted as the denominator while calculating the relative percentage of each metal in the overall mixture. We can do this since all the constraints have a strict equality sign)\n",
    "\n"
   ]
  },
  {
   "cell_type": "code",
   "execution_count": null,
   "metadata": {
    "colab": {
     "base_uri": "https://localhost:8080/"
    },
    "id": "6w8Lvw1p27L-",
    "outputId": "4810e649-f983-469d-b03c-075918b6e04e"
   },
   "outputs": [],
   "source": []
  },
  {
   "cell_type": "code",
   "execution_count": 2,
   "metadata": {
    "id": "IyDMFiRR27O_"
   },
   "outputs": [],
   "source": [
    "from pyomo.environ import *\n",
    "import numpy as np"
   ]
  },
  {
   "cell_type": "code",
   "execution_count": 3,
   "metadata": {
    "id": "NqNwN5qa27Se"
   },
   "outputs": [],
   "source": [
    "chr_qty = [15, 15, 10, 20, 25, 10, 50, 15, 30, 55]\n",
    "cop_qty = [80, 75, 75, 60, 55, 55, 40, 35, 30, 30]\n",
    "sil_qty = [5, 10, 15, 20, 20, 35, 10, 50, 40, 15]\n",
    "\n",
    "inhouse = [12, 9, 16, 25, 4 ,5 ,10, 13, 0 ,6]\n",
    "inhouse_cost = [35, 50, 58, 60, 44, 39, 45, 55, 35, 40]\n",
    "\n",
    "mkt_cost = [72, 95, 110, 125 ,88 ,74, 95, 115 ,60, 84]"
   ]
  },
  {
   "cell_type": "code",
   "execution_count": 4,
   "metadata": {
    "id": "DDVJHIa3FrVT"
   },
   "outputs": [],
   "source": [
    "cons_rhs = [15750,20250,9000]#,450]"
   ]
  },
  {
   "cell_type": "code",
   "execution_count": 5,
   "metadata": {
    "id": "rNfyRd-JF9X4"
   },
   "outputs": [],
   "source": [
    "ub = [12, 9 ,16, 25, 4 ,5 ,10, 13, 0, 6,np.inf, np.inf, np.inf, np.inf, np.inf, np.inf, np.inf, np.inf, np.inf, np.inf]\n",
    "lb = [0]*20"
   ]
  },
  {
   "cell_type": "code",
   "execution_count": 6,
   "metadata": {
    "id": "vYFcnanjGJ7C"
   },
   "outputs": [],
   "source": [
    "tcost = np.array(inhouse_cost+mkt_cost)"
   ]
  },
  {
   "cell_type": "code",
   "execution_count": 7,
   "metadata": {
    "colab": {
     "base_uri": "https://localhost:8080/"
    },
    "id": "__AyRfyJPnkP",
    "outputId": "29c7f195-0282-4338-dabe-c06e06cc8fbd"
   },
   "outputs": [
    {
     "data": {
      "text/plain": [
       "array([ 35,  50,  58,  60,  44,  39,  45,  55,  35,  40,  72,  95, 110,\n",
       "       125,  88,  74,  95, 115,  60,  84])"
      ]
     },
     "execution_count": 7,
     "metadata": {},
     "output_type": "execute_result"
    }
   ],
   "source": [
    "tcost"
   ]
  },
  {
   "cell_type": "code",
   "execution_count": 8,
   "metadata": {
    "id": "EOrQT-2lDc7B"
   },
   "outputs": [],
   "source": [
    "N = 20\n",
    "M = 3\n",
    "colinds = np.arange(N)\n",
    "rowinds = np.arange(M)\n"
   ]
  },
  {
   "cell_type": "code",
   "execution_count": 9,
   "metadata": {
    "id": "1KSHlMZO7-BW"
   },
   "outputs": [],
   "source": [
    "m3 = ConcreteModel()\n",
    "m3.x = Var(colinds)\n",
    "m3.cons = ConstraintList()"
   ]
  },
  {
   "cell_type": "code",
   "execution_count": 10,
   "metadata": {
    "id": "nsNcUSjJCr2r"
   },
   "outputs": [],
   "source": [
    "cons_coeffs = np.array([chr_qty*2,cop_qty*2,sil_qty*2])"
   ]
  },
  {
   "cell_type": "code",
   "execution_count": 11,
   "metadata": {
    "id": "PAyw_vzHCr6V"
   },
   "outputs": [],
   "source": [
    "for j in range(M):\n",
    "    m3.cons.add(sum(cons_coeffs[j][i]*m3.x[i] for i in range(N))==cons_rhs[j])"
   ]
  },
  {
   "cell_type": "code",
   "execution_count": 12,
   "metadata": {
    "id": "TwnjRLw8Cr_S"
   },
   "outputs": [],
   "source": [
    "for i in range(N):\n",
    "    m3.x[i].setlb(lb[i])\n",
    "    m3.x[i].setub(ub[i])\n",
    "\n"
   ]
  },
  {
   "cell_type": "code",
   "execution_count": 13,
   "metadata": {
    "id": "z2mNxx5fCsDJ"
   },
   "outputs": [],
   "source": [
    "m3.cost = Objective(expr = sum(m3.x[i]*tcost[i] for i in range(20)), sense = minimize)"
   ]
  },
  {
   "cell_type": "code",
   "execution_count": 14,
   "metadata": {
    "colab": {
     "base_uri": "https://localhost:8080/"
    },
    "id": "Lc7pWgSHCsG2",
    "outputId": "9363bbe5-14ed-4dbc-8061-2bf27d7b8e17"
   },
   "outputs": [
    {
     "name": "stdout",
     "output_type": "stream",
     "text": [
      "2 Set Declarations\n",
      "    cons_index : Size=1, Index=None, Ordered=Insertion\n",
      "        Key  : Dimen : Domain : Size : Members\n",
      "        None :     1 :    Any :    3 : {1, 2, 3}\n",
      "    x_index : Size=1, Index=None, Ordered=False\n",
      "        Key  : Dimen : Domain : Size : Members\n",
      "        None :     1 :    Any :   20 : {0, 1, 2, 3, 4, 5, 6, 7, 8, 9, 10, 11, 12, 13, 14, 15, 16, 17, 18, 19}\n",
      "\n",
      "1 Var Declarations\n",
      "    x : Size=20, Index=x_index\n",
      "        Key : Lower : Value : Upper : Fixed : Stale : Domain\n",
      "          0 :     0 :  None :    12 : False :  True :  Reals\n",
      "          1 :     0 :  None :     9 : False :  True :  Reals\n",
      "          2 :     0 :  None :    16 : False :  True :  Reals\n",
      "          3 :     0 :  None :    25 : False :  True :  Reals\n",
      "          4 :     0 :  None :     4 : False :  True :  Reals\n",
      "          5 :     0 :  None :     5 : False :  True :  Reals\n",
      "          6 :     0 :  None :    10 : False :  True :  Reals\n",
      "          7 :     0 :  None :    13 : False :  True :  Reals\n",
      "          8 :     0 :  None :     0 : False :  True :  Reals\n",
      "          9 :     0 :  None :     6 : False :  True :  Reals\n",
      "         10 :     0 :  None :   inf : False :  True :  Reals\n",
      "         11 :     0 :  None :   inf : False :  True :  Reals\n",
      "         12 :     0 :  None :   inf : False :  True :  Reals\n",
      "         13 :     0 :  None :   inf : False :  True :  Reals\n",
      "         14 :     0 :  None :   inf : False :  True :  Reals\n",
      "         15 :     0 :  None :   inf : False :  True :  Reals\n",
      "         16 :     0 :  None :   inf : False :  True :  Reals\n",
      "         17 :     0 :  None :   inf : False :  True :  Reals\n",
      "         18 :     0 :  None :   inf : False :  True :  Reals\n",
      "         19 :     0 :  None :   inf : False :  True :  Reals\n",
      "\n",
      "1 Objective Declarations\n",
      "    cost : Size=1, Index=None, Active=True\n",
      "        Key  : Active : Sense    : Expression\n",
      "        None :   True : minimize : 35*x[0] + 50*x[1] + 58*x[2] + 60*x[3] + 44*x[4] + 39*x[5] + 45*x[6] + 55*x[7] + 35*x[8] + 40*x[9] + 72*x[10] + 95*x[11] + 110*x[12] + 125*x[13] + 88*x[14] + 74*x[15] + 95*x[16] + 115*x[17] + 60*x[18] + 84*x[19]\n",
      "\n",
      "1 Constraint Declarations\n",
      "    cons : Size=3, Index=cons_index, Active=True\n",
      "        Key : Lower   : Body                                                                                                                                                                                                            : Upper   : Active\n",
      "          1 : 15750.0 : 15*x[0] + 15*x[1] + 10*x[2] + 20*x[3] + 25*x[4] + 10*x[5] + 50*x[6] + 15*x[7] + 30*x[8] + 55*x[9] + 15*x[10] + 15*x[11] + 10*x[12] + 20*x[13] + 25*x[14] + 10*x[15] + 50*x[16] + 15*x[17] + 30*x[18] + 55*x[19] : 15750.0 :   True\n",
      "          2 : 20250.0 : 80*x[0] + 75*x[1] + 75*x[2] + 60*x[3] + 55*x[4] + 55*x[5] + 40*x[6] + 35*x[7] + 30*x[8] + 30*x[9] + 80*x[10] + 75*x[11] + 75*x[12] + 60*x[13] + 55*x[14] + 55*x[15] + 40*x[16] + 35*x[17] + 30*x[18] + 30*x[19] : 20250.0 :   True\n",
      "          3 :  9000.0 :   5*x[0] + 10*x[1] + 15*x[2] + 20*x[3] + 20*x[4] + 35*x[5] + 10*x[6] + 50*x[7] + 40*x[8] + 15*x[9] + 5*x[10] + 10*x[11] + 15*x[12] + 20*x[13] + 20*x[14] + 35*x[15] + 10*x[16] + 50*x[17] + 40*x[18] + 15*x[19] :  9000.0 :   True\n",
      "\n",
      "5 Declarations: x_index x cons_index cons cost\n"
     ]
    }
   ],
   "source": [
    "m3.pprint()"
   ]
  },
  {
   "cell_type": "code",
   "execution_count": 15,
   "metadata": {
    "colab": {
     "base_uri": "https://localhost:8080/"
    },
    "id": "pficRKj9CsKQ",
    "outputId": "f3fb5e27-bc87-415a-a371-0d801a81312e"
   },
   "outputs": [
    {
     "name": "stdout",
     "output_type": "stream",
     "text": [
      "# ==========================================================\n",
      "# = Solver Results                                         =\n",
      "# ==========================================================\n",
      "# ----------------------------------------------------------\n",
      "#   Problem Information\n",
      "# ----------------------------------------------------------\n",
      "Problem: \n",
      "- Name: unknown\n",
      "  Lower bound: 31013.4\n",
      "  Upper bound: 31013.4\n",
      "  Number of objectives: 1\n",
      "  Number of constraints: 4\n",
      "  Number of variables: 21\n",
      "  Number of nonzeros: 61\n",
      "  Sense: minimize\n",
      "# ----------------------------------------------------------\n",
      "#   Solver Information\n",
      "# ----------------------------------------------------------\n",
      "Solver: \n",
      "- Status: ok\n",
      "  Termination condition: optimal\n",
      "  Statistics: \n",
      "    Branch and bound: \n",
      "      Number of bounded subproblems: 0\n",
      "      Number of created subproblems: 0\n",
      "  Error rc: 0\n",
      "  Time: 0.4041469097137451\n",
      "# ----------------------------------------------------------\n",
      "#   Solution Information\n",
      "# ----------------------------------------------------------\n",
      "Solution: \n",
      "- number of solutions: 0\n",
      "  number of solutions displayed: 0\n"
     ]
    }
   ],
   "source": [
    "SolverFactory('glpk', executable='/usr/bin/glpsol').solve(m3).write()"
   ]
  },
  {
   "cell_type": "markdown",
   "metadata": {},
   "source": [
    "### Q"
   ]
  },
  {
   "cell_type": "code",
   "execution_count": 16,
   "metadata": {
    "colab": {
     "base_uri": "https://localhost:8080/"
    },
    "id": "02v6m0y-HwFs",
    "outputId": "aa017eb2-fa08-426c-b2ed-22ca0c6a22f8"
   },
   "outputs": [
    {
     "name": "stdout",
     "output_type": "stream",
     "text": [
      "Optimal cost is  31013.40000000001\n"
     ]
    }
   ],
   "source": [
    "print('Optimal cost is ',m3.cost())"
   ]
  },
  {
   "cell_type": "code",
   "execution_count": 17,
   "metadata": {
    "colab": {
     "base_uri": "https://localhost:8080/"
    },
    "id": "NBv7RYFfHwI7",
    "outputId": "4387b3cf-d10b-49e8-f72a-91a676db85c9"
   },
   "outputs": [
    {
     "name": "stdout",
     "output_type": "stream",
     "text": [
      "The value of a1 is 12.0 and value of b1 is 79.0000000000001\n",
      "The value of a2 is 9.0 and value of b2 is 0.0\n",
      "The value of a3 is 16.0 and value of b3 is 0.0\n",
      "The value of a4 is 25.0 and value of b4 is 0.0\n",
      "The value of a5 is 4.0 and value of b5 is 0.0\n",
      "The value of a6 is 5.0 and value of b6 is 0.0\n",
      "The value of a7 is 10.0 and value of b7 is 0.0\n",
      "The value of a8 is 0.0 and value of b8 is 0.0\n",
      "The value of a9 is 0.0 and value of b9 is 120.4\n",
      "The value of a10 is 6.0 and value of b10 is 163.6\n"
     ]
    }
   ],
   "source": [
    "for i in range(10):\n",
    "    print('The value of a%d is'%(i+1), m3.x[i](), 'and value of b%d is'%(i+1), m3.x[i+10]())"
   ]
  },
  {
   "cell_type": "code",
   "execution_count": 18,
   "metadata": {
    "colab": {
     "base_uri": "https://localhost:8080/"
    },
    "id": "bUWciQz7HwMw",
    "outputId": "cd76c61b-85e1-463d-e9f6-363cfcdf0708"
   },
   "outputs": [],
   "source": [
    "mktdats = sorted(filter(lambda i: i[1]>0, enumerate([m3.x[i+10]() for i in range(10) ])),reverse=True, key = lambda i:i[1])"
   ]
  },
  {
   "cell_type": "code",
   "execution_count": 19,
   "metadata": {},
   "outputs": [
    {
     "data": {
      "text/plain": [
       "[(9, 163.6), (8, 120.4), (0, 79.0000000000001)]"
      ]
     },
     "execution_count": 19,
     "metadata": {},
     "output_type": "execute_result"
    }
   ],
   "source": [
    "mktdats"
   ]
  },
  {
   "cell_type": "markdown",
   "metadata": {},
   "source": [
    "### Q"
   ]
  },
  {
   "cell_type": "code",
   "execution_count": 20,
   "metadata": {
    "id": "9erTQ14OHwPz"
   },
   "outputs": [
    {
     "name": "stdout",
     "output_type": "stream",
     "text": [
      "The 3 Most bought alloys are :\n",
      "Alloy A-10, (163.60 tons)\n",
      "Alloy A-9, (120.40 tons)\n",
      "Alloy A-1, (79.00 tons)\n"
     ]
    }
   ],
   "source": [
    "print(\"The 3 Most bought alloys are :\")\n",
    "for i in range(3):\n",
    "    print('Alloy A-%d, (%.2f tons)'%(mktdats[i][0]+1,mktdats[i][1]))"
   ]
  },
  {
   "cell_type": "code",
   "execution_count": 21,
   "metadata": {
    "id": "y-LMEWN_HwSy"
   },
   "outputs": [
    {
     "name": "stdout",
     "output_type": "stream",
     "text": [
      "The 3 least bought alloys are (from among the ones that needed to be bought) :\n",
      "Alloy A-1, (79.00 tons)\n",
      "Alloy A-9, (120.40 tons)\n",
      "Alloy A-10, (163.60 tons)\n"
     ]
    }
   ],
   "source": [
    "print(\"The 3 least bought alloys are (from among the ones that needed to be bought) :\")\n",
    "for i in range(1,4):\n",
    "    print('Alloy A-%d, (%.2f tons)'%(mktdats[-i][0]+1,mktdats[-i][1]))"
   ]
  },
  {
   "cell_type": "markdown",
   "metadata": {},
   "source": [
    "### Q"
   ]
  },
  {
   "cell_type": "code",
   "execution_count": 22,
   "metadata": {
    "id": "Gu7jJHyRHwV2"
   },
   "outputs": [
    {
     "name": "stdout",
     "output_type": "stream",
     "text": [
      "Stocks of Alloy A-1, Alloy A-2, Alloy A-3, Alloy A-4, Alloy A-5, Alloy A-6, Alloy A-7, Alloy A-9, Alloy A-10, have been completely utilised\n"
     ]
    }
   ],
   "source": [
    "print('Stocks of ',end = '')\n",
    "for i in range(10):\n",
    "    if m3.x[i]()==m3.x[i].ub:\n",
    "        print('Alloy A-%d, '%(i+1), end='')\n",
    "print('have been completely utilised')        \n",
    "        "
   ]
  },
  {
   "cell_type": "markdown",
   "metadata": {},
   "source": [
    "### Q"
   ]
  },
  {
   "cell_type": "code",
   "execution_count": 23,
   "metadata": {
    "id": "6HYMci47HwZU"
   },
   "outputs": [
    {
     "name": "stdout",
     "output_type": "stream",
     "text": [
      "Stocks of Alloy A-2, Alloy A-3, Alloy A-4, Alloy A-5, Alloy A-6, Alloy A-7, Alloy A-8, have not been bought from the market\n",
      "This is due to the fact that amount of in house stock was sufficient\n"
     ]
    }
   ],
   "source": [
    "print('Stocks of ',end = '')\n",
    "for i in range(11,20):\n",
    "    if m3.x[i]()==0:\n",
    "        print('Alloy A-%d, '%(i-9), end='')\n",
    "print('have not been bought from the market')\n",
    "print('This is due to the fact that amount of in house stock was sufficient')"
   ]
  },
  {
   "cell_type": "code",
   "execution_count": null,
   "metadata": {},
   "outputs": [],
   "source": []
  }
 ],
 "metadata": {
  "colab": {
   "name": "21i190008_IE507_Lab2_Ex3.ipynb",
   "provenance": []
  },
  "kernelspec": {
   "display_name": "Python 3",
   "language": "python",
   "name": "python3"
  },
  "language_info": {
   "codemirror_mode": {
    "name": "ipython",
    "version": 3
   },
   "file_extension": ".py",
   "mimetype": "text/x-python",
   "name": "python",
   "nbconvert_exporter": "python",
   "pygments_lexer": "ipython3",
   "version": "3.7.4"
  }
 },
 "nbformat": 4,
 "nbformat_minor": 1
}

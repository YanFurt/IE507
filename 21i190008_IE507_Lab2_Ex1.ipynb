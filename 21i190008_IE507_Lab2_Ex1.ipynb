{
 "cells": [
  {
   "cell_type": "code",
   "execution_count": 1,
   "metadata": {
    "id": "_xj7El-vXwy1"
   },
   "outputs": [],
   "source": [
    "!pip install -q pyomo\n",
    "!apt-get install -y -qq glpk-utils"
   ]
  },
  {
   "cell_type": "code",
   "execution_count": 2,
   "metadata": {
    "id": "9c2Nu4rAYXob"
   },
   "outputs": [],
   "source": [
    "from pyomo.environ import *\n",
    "import numpy as np\n"
   ]
  },
  {
   "cell_type": "code",
   "execution_count": 3,
   "metadata": {
    "id": "UNIBfzBqYhKW"
   },
   "outputs": [],
   "source": [
    "m1 = ConcreteModel()"
   ]
  },
  {
   "cell_type": "code",
   "execution_count": 4,
   "metadata": {
    "id": "ShjjvYdEYqnj"
   },
   "outputs": [],
   "source": [
    "n = 12"
   ]
  },
  {
   "cell_type": "code",
   "execution_count": 5,
   "metadata": {
    "id": "NJhBbvm9Yt3V"
   },
   "outputs": [],
   "source": [
    "obj_coefs = np.array([-8.1, 10.15, 30.5, 50.05, 0.05, 80.5, -0.25, -31.02, 50.65, 0.725, -0.8, 100.6])\n",
    "c1_coefs = np.array([1 for i in range(12)])\n",
    "c2_coefs =  np.array([0, 1.6, -2.02, 0, 1.01, -2.005, 0, 1.39, 1, -1.214, 0, -5.32])\n",
    "\n",
    "c1_rhs = 161.2\n",
    "c2_rhs = 54.6"
   ]
  },
  {
   "cell_type": "code",
   "execution_count": 6,
   "metadata": {
    "id": "8oViGarkZbJD"
   },
   "outputs": [],
   "source": [
    "lb = np.array([-np.inf, 1, 0, 0, 7, 0, -np.inf, -np.inf, 1, 1, -5, 2])\n",
    "ub = np.array([4, 3, np.inf, 2, 10, np.inf, 13, 20, np.inf, 21, 5, 60])"
   ]
  },
  {
   "cell_type": "code",
   "execution_count": 7,
   "metadata": {
    "id": "N7rMJ78mZ1O1"
   },
   "outputs": [],
   "source": [
    "col_indices = np.arange(n)"
   ]
  },
  {
   "cell_type": "code",
   "execution_count": 8,
   "metadata": {
    "id": "e_IDTBN5av89"
   },
   "outputs": [],
   "source": [
    "m1.x = Var(col_indices)"
   ]
  },
  {
   "cell_type": "code",
   "execution_count": null,
   "metadata": {
    "id": "mWmx8un4c_p3"
   },
   "outputs": [],
   "source": []
  },
  {
   "cell_type": "code",
   "execution_count": 9,
   "metadata": {
    "colab": {
     "base_uri": "https://localhost:8080/"
    },
    "id": "2jQPtye-axd8",
    "outputId": "165bc736-fc6d-4be8-b79a-503f62e9ffcd"
   },
   "outputs": [
    {
     "data": {
      "text/plain": [
       "<pyomo.core.base.constraint._GeneralConstraintData at 0x7985490>"
      ]
     },
     "execution_count": 9,
     "metadata": {},
     "output_type": "execute_result"
    }
   ],
   "source": [
    "m1.constraints = ConstraintList()\n",
    "m1.constraints.add(sum(c1_coefs[j]*m1.x[j] for j in col_indices ) <= c1_rhs)\n",
    "m1.constraints.add(sum(c2_coefs[j]*m1.x[j] for j in col_indices ) == c2_rhs)"
   ]
  },
  {
   "cell_type": "code",
   "execution_count": 10,
   "metadata": {
    "id": "ApaZVtkHb8rP"
   },
   "outputs": [],
   "source": [
    "for j in col_indices:\n",
    "  m1.x[j].setlb(lb[j])\n",
    "  m1.x[j].setub(ub[j])"
   ]
  },
  {
   "cell_type": "code",
   "execution_count": 11,
   "metadata": {
    "id": "tOV57ZxhcZMi"
   },
   "outputs": [],
   "source": [
    "m1.obj = Objective(expr= sum(obj_coefs[j]*m1.x[j] for j in col_indices),sense = minimize)"
   ]
  },
  {
   "cell_type": "code",
   "execution_count": 12,
   "metadata": {
    "colab": {
     "base_uri": "https://localhost:8080/"
    },
    "id": "rFaIP3AZcuDn",
    "outputId": "2f0674f9-ef34-4188-c3a4-ae61b973c314"
   },
   "outputs": [
    {
     "name": "stdout",
     "output_type": "stream",
     "text": [
      "2 Set Declarations\n",
      "    constraints_index : Size=1, Index=None, Ordered=Insertion\n",
      "        Key  : Dimen : Domain : Size : Members\n",
      "        None :     1 :    Any :    2 : {1, 2}\n",
      "    x_index : Size=1, Index=None, Ordered=False\n",
      "        Key  : Dimen : Domain : Size : Members\n",
      "        None :     1 :    Any :   12 : {0, 1, 2, 3, 4, 5, 6, 7, 8, 9, 10, 11}\n",
      "\n",
      "1 Var Declarations\n",
      "    x : Size=12, Index=x_index\n",
      "        Key : Lower : Value : Upper : Fixed : Stale : Domain\n",
      "          0 :  -inf :  None :   4.0 : False :  True :  Reals\n",
      "          1 :   1.0 :  None :   3.0 : False :  True :  Reals\n",
      "          2 :   0.0 :  None :   inf : False :  True :  Reals\n",
      "          3 :   0.0 :  None :   2.0 : False :  True :  Reals\n",
      "          4 :   7.0 :  None :  10.0 : False :  True :  Reals\n",
      "          5 :   0.0 :  None :   inf : False :  True :  Reals\n",
      "          6 :  -inf :  None :  13.0 : False :  True :  Reals\n",
      "          7 :  -inf :  None :  20.0 : False :  True :  Reals\n",
      "          8 :   1.0 :  None :   inf : False :  True :  Reals\n",
      "          9 :   1.0 :  None :  21.0 : False :  True :  Reals\n",
      "         10 :  -5.0 :  None :   5.0 : False :  True :  Reals\n",
      "         11 :   2.0 :  None :  60.0 : False :  True :  Reals\n",
      "\n",
      "1 Objective Declarations\n",
      "    obj : Size=1, Index=None, Active=True\n",
      "        Key  : Active : Sense    : Expression\n",
      "        None :   True : minimize : -8.1*x[0] + 10.15*x[1] + 30.5*x[2] + 50.05*x[3] + 0.05*x[4] + 80.5*x[5] - 0.25*x[6] - 31.02*x[7] + 50.65*x[8] + 0.725*x[9] - 0.8*x[10] + 100.6*x[11]\n",
      "\n",
      "1 Constraint Declarations\n",
      "    constraints : Size=2, Index=constraints_index, Active=True\n",
      "        Key : Lower : Body                                                                                       : Upper : Active\n",
      "          1 :  -Inf :        x[0] + x[1] + x[2] + x[3] + x[4] + x[5] + x[6] + x[7] + x[8] + x[9] + x[10] + x[11] : 161.2 :   True\n",
      "          2 :  54.6 : 1.6*x[1] - 2.02*x[2] + 1.01*x[4] - 2.005*x[5] + 1.39*x[7] + x[8] - 1.214*x[9] - 5.32*x[11] :  54.6 :   True\n",
      "\n",
      "5 Declarations: x_index x constraints_index constraints obj\n"
     ]
    }
   ],
   "source": [
    "m1.pprint()"
   ]
  },
  {
   "cell_type": "code",
   "execution_count": 14,
   "metadata": {
    "colab": {
     "base_uri": "https://localhost:8080/"
    },
    "id": "KirQ50c9daYf",
    "outputId": "43424711-57cc-4ad7-84a1-01ea9db216af"
   },
   "outputs": [
    {
     "name": "stdout",
     "output_type": "stream",
     "text": [
      "# ==========================================================\n",
      "# = Solver Results                                         =\n",
      "# ==========================================================\n",
      "# ----------------------------------------------------------\n",
      "#   Problem Information\n",
      "# ----------------------------------------------------------\n",
      "Problem: \n",
      "- Name: unknown\n",
      "  Lower bound: 775.965100000001\n",
      "  Upper bound: 775.965100000001\n",
      "  Number of objectives: 1\n",
      "  Number of constraints: 3\n",
      "  Number of variables: 13\n",
      "  Number of nonzeros: 21\n",
      "  Sense: minimize\n",
      "# ----------------------------------------------------------\n",
      "#   Solver Information\n",
      "# ----------------------------------------------------------\n",
      "Solver: \n",
      "- Status: ok\n",
      "  Termination condition: optimal\n",
      "  Statistics: \n",
      "    Branch and bound: \n",
      "      Number of bounded subproblems: 0\n",
      "      Number of created subproblems: 0\n",
      "  Error rc: 0\n",
      "  Time: 0.32103943824768066\n",
      "# ----------------------------------------------------------\n",
      "#   Solution Information\n",
      "# ----------------------------------------------------------\n",
      "Solution: \n",
      "- number of solutions: 0\n",
      "  number of solutions displayed: 0\n"
     ]
    }
   ],
   "source": [
    "SolverFactory('glpk', executable='/usr/bin/glpsol').solve(m1).write()"
   ]
  },
  {
   "cell_type": "markdown",
   "metadata": {
    "id": "1i19C5yYdnwj"
   },
   "source": [
    "### Q"
   ]
  },
  {
   "cell_type": "code",
   "execution_count": 15,
   "metadata": {
    "colab": {
     "base_uri": "https://localhost:8080/"
    },
    "id": "H7I9hdBMebu6",
    "outputId": "bacf1b5c-aae1-4b0c-f6db-5f077fa0684c"
   },
   "outputs": [
    {
     "name": "stdout",
     "output_type": "stream",
     "text": [
      "Optimal value of objective functn is  775.9651000000001\n",
      "The value of x[1] is 4.0\n",
      "The value of x[2] is 3.0\n",
      "The value of x[3] is 0.0\n",
      "The value of x[4] is 0.0\n",
      "The value of x[5] is 10.0\n",
      "The value of x[6] is 0.0\n",
      "The value of x[7] is 13.0\n",
      "The value of x[8] is 20.0\n",
      "The value of x[9] is 23.754\n",
      "The value of x[10] is 1.0\n",
      "The value of x[11] is 5.0\n",
      "The value of x[12] is 2.0\n"
     ]
    }
   ],
   "source": [
    "print('Optimal value of objective functn is ', m1.obj())\n",
    "for i in range(12):\n",
    "  print(\"The value of x[\",i+1,'] is ',m1.x[i](), sep='')"
   ]
  },
  {
   "cell_type": "code",
   "execution_count": null,
   "metadata": {
    "id": "DdvWPTs5ez9F"
   },
   "outputs": [],
   "source": []
  }
 ],
 "metadata": {
  "colab": {
   "name": "21i190008_IE507_Lab2_Ex1.ipynb",
   "provenance": []
  },
  "kernelspec": {
   "display_name": "Python 3",
   "language": "python",
   "name": "python3"
  },
  "language_info": {
   "codemirror_mode": {
    "name": "ipython",
    "version": 3
   },
   "file_extension": ".py",
   "mimetype": "text/x-python",
   "name": "python",
   "nbconvert_exporter": "python",
   "pygments_lexer": "ipython3",
   "version": "3.7.4"
  }
 },
 "nbformat": 4,
 "nbformat_minor": 1
}

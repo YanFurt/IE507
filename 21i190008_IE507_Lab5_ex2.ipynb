{
  "nbformat": 4,
  "nbformat_minor": 0,
  "metadata": {
    "colab": {
      "name": "21i190008_IE507_Lab5_ex2.ipynb",
      "provenance": [],
      "collapsed_sections": []
    },
    "kernelspec": {
      "name": "python3",
      "display_name": "Python 3"
    },
    "language_info": {
      "name": "python"
    }
  },
  "cells": [
    {
      "cell_type": "code",
      "metadata": {
        "id": "xhOVLKvj0MJW"
      },
      "source": [
        "!pip install -q pyomo\n",
        "!apt-get install -y -qq coinor-cbc"
      ],
      "execution_count": 25,
      "outputs": []
    },
    {
      "cell_type": "markdown",
      "metadata": {
        "id": "n7KhcYabR90d"
      },
      "source": [
        "## 1)"
      ]
    },
    {
      "cell_type": "markdown",
      "metadata": {
        "id": "PLn-jgf3Edk9"
      },
      "source": [
        "Let $x_{ij}$ denote placement of facility $i$ in a location $j$. \\\n",
        " $x_{ij} = 1$ if facility $i$ is placed at location $j$, and  $x_{ij} = 0$ otherwise \\\n",
        "\n",
        "Let C be the matrix:\\\n",
        "\\begin{equation}\n",
        "   \\begin{matrix} \n",
        "22&22&19&22&22&24&18&17&21&23&19&21\\\\\n",
        "18&12&18&19&22&21&17&20&16&17&17&24\\\\\n",
        "19&21&17&19&17&19&24&16&18&16&20&24\\\\\n",
        "18&24&20&21&21&21&22&19&18&21&23&23\\\\\n",
        "23&20&19&18&20&23&22&25&24&19&21&23\\\\\n",
        "24&16&15&16&24&21&23&21&20&20&22&19\\\\\n",
        "22&22&21&23&18&17&16&19&24&20&20&23\\\\\n",
        "23&17&17&17&22&24&23&20&22&19&23&21\\\\\n",
        "21&22&21&24&20&23&19&18&23&15&25&21\\\\\n",
        "19&19&18&19&26&24&19&17&18&20&21&20\\\\\n",
        "20&22&23&20&22&20&20&19&17&19&20&24\\\\ \n",
        "21&25&21&19&21&19&18&16&22&24&25&24\n",
        "   \\end{matrix} \n",
        "\\end{equation}  \n",
        "\n",
        "Let $c_{ij}$ denote element of row $i$ and column $j$ of C. \\"
      ]
    },
    {
      "cell_type": "markdown",
      "metadata": {
        "id": "SR2EpklDIyeb"
      },
      "source": [
        "## Model\n",
        "\n",
        "Decision variables: $x_{i,j} \\qquad i = 1,2,3...12 \\ ,\\ j=1,2,3...12$\n",
        "\n",
        "Objective: $\\ minimize \\sum_{i=1}^{12} \\sum_{j=1}^{12} c_{ij}x_{ij}$\n",
        "\n",
        "Subject to:\n",
        "\\begin{align}\n",
        "\\sum_{j=1}^{12} x_{1,j} &= 1 \\nonumber \\\\\n",
        "\\sum_{j=1}^{12} x_{2,j} &= 1 \\nonumber \\\\\n",
        "\\sum_{j=1}^{12} x_{3,j} &= 1 \\nonumber \\\\\n",
        "\\sum_{j=1}^{12} x_{4,j} &= 1 \\nonumber \\\\\n",
        "\\sum_{j=1}^{12} x_{5,j} &= 1 \\nonumber \\\\\n",
        "\\sum_{j=1}^{12} x_{6,j} &= 1 \\nonumber \\\\\n",
        "\\sum_{j=1}^{12} x_{7,j} &= 1 \\nonumber \\\\\n",
        "\\sum_{j=1}^{12} x_{8,j} &= 1 \\nonumber \\\\\n",
        "\\sum_{j=1}^{12} x_{9,j} &= 1 \\nonumber \\\\\n",
        "\\sum_{j=1}^{12} x_{10,j} &= 1 \\nonumber \\\\\n",
        "\\sum_{j=1}^{12} x_{11,j} &= 1 \\nonumber \\\\\n",
        "\\sum_{j=1}^{12} x_{12,j} &= 1 \\nonumber \\\\\n",
        "\\sum_{i=1}^{12} x_{i,1} &= 1 \\nonumber \\\\\n",
        "\\sum_{i=1}^{12} x_{i,2} &= 1 \\nonumber \\\\\n",
        "\\sum_{i=1}^{12} x_{i,3} &= 1 \\nonumber \\\\\n",
        "\\sum_{i=1}^{12} x_{i,4} &= 1 \\nonumber \\\\\n",
        "\\sum_{i=1}^{12} x_{i,5} &= 1 \\nonumber \\\\\n",
        "\\sum_{i=1}^{12} x_{i,6} &= 1 \\nonumber \\\\\n",
        "\\sum_{i=1}^{12} x_{i,7} &= 1 \\nonumber \\\\\n",
        "\\sum_{i=1}^{12} x_{i,8} &= 1 \\nonumber \\\\\n",
        "\\sum_{i=1}^{12} x_{i,9} &= 1 \\nonumber \\\\\n",
        "\\sum_{i=1}^{12} x_{i,10} &= 1 \\nonumber \\\\\n",
        "\\sum_{i=1}^{12} x_{i,11} &= 1 \\nonumber \\\\\n",
        "\\sum_{i=1}^{12} x_{i,12} &= 1 \\nonumber \\\\\n",
        "\\end{align}\n",
        "$x_{ij} \\in \\{0,1\\}\\ \\  \\forall \\  i \\in \\{1,2,3,4,5,6,7,8,9,10,11,12\\},\\ \\  \\ \\forall \\ j \\in \\{1,2,3,4,5,6,7,8,9,10,11,12\\}$"
      ]
    },
    {
      "cell_type": "code",
      "metadata": {
        "id": "w8QmvAMZ0UwW"
      },
      "source": [
        "from pyomo.environ import *\n",
        "import numpy as np\n",
        "import pandas as pd"
      ],
      "execution_count": 26,
      "outputs": []
    },
    {
      "cell_type": "markdown",
      "metadata": {
        "id": "KDxQ6mbClYyN"
      },
      "source": [
        "### 2)"
      ]
    },
    {
      "cell_type": "code",
      "metadata": {
        "id": "hx3RpLLCkO5v"
      },
      "source": [
        "#A general model can be created as follows:\n",
        "# Assume costarr is cost array loaded from given txt file\n",
        "\n",
        "def n_assignment_model(n,costarr):\n",
        "  genmodel = ConcreteModel()\n",
        "  genmodel.x = Var(np.arange(n),np.arange(n),domain=Binary)\n",
        "  genmodel.cons = ConstraintList()\n",
        "  for i in range(n):\n",
        "    genmodel.cons.add(sum(genmodel.x[i,j] for j in range(n))==1)\n",
        "    \n",
        "  for j in range(n):\\\n",
        "    genmodel.cons.add(sum(genmodel.x[i,j] for i in range(n))==1)\n",
        "\n",
        "  genmodel.cost = Objective(expr = summation(costarr,genmodel.x))  \n",
        "  return genmodel "
      ],
      "execution_count": 27,
      "outputs": []
    },
    {
      "cell_type": "code",
      "metadata": {
        "id": "x6RJx2Sa0Z2c"
      },
      "source": [
        "df = np.loadtxt('lab5_ex2.txt')\n"
      ],
      "execution_count": 28,
      "outputs": []
    },
    {
      "cell_type": "code",
      "metadata": {
        "id": "owbTSEUu0Z56"
      },
      "source": [
        "costs = df[1:,1:]\n",
        "M = len(costs)\n",
        "\n",
        "rows = np.arange(M)\n"
      ],
      "execution_count": 29,
      "outputs": []
    },
    {
      "cell_type": "code",
      "metadata": {
        "id": "X7YtpGc7a00s"
      },
      "source": [
        ""
      ],
      "execution_count": 29,
      "outputs": []
    },
    {
      "cell_type": "markdown",
      "metadata": {
        "id": "py39xblObEHZ"
      },
      "source": [
        "### 6)"
      ]
    },
    {
      "cell_type": "code",
      "metadata": {
        "id": "oE2qvHlRelEI"
      },
      "source": [
        "m2 = n_assignment_model(M,costs)"
      ],
      "execution_count": 30,
      "outputs": []
    },
    {
      "cell_type": "code",
      "metadata": {
        "id": "eU03U_K7JIco"
      },
      "source": [
        "solver = SolverFactory('cbc')\n",
        "\n",
        "opt1 = solver.solve(m2)"
      ],
      "execution_count": 31,
      "outputs": []
    },
    {
      "cell_type": "code",
      "metadata": {
        "id": "j6pmY0OeJo5l"
      },
      "source": [
        ""
      ],
      "execution_count": 31,
      "outputs": []
    },
    {
      "cell_type": "markdown",
      "metadata": {
        "id": "OoX64hAPLnZb"
      },
      "source": [
        "### 8)"
      ]
    },
    {
      "cell_type": "code",
      "metadata": {
        "colab": {
          "base_uri": "https://localhost:8080/"
        },
        "id": "0nKObl-7JxrD",
        "outputId": "ab20d94e-f145-4371-aa45-67adcdbf0c9f"
      },
      "source": [
        "for i in rows:\n",
        "  for j in rows:\n",
        "    val = m2.x[i,j]()\n",
        "    if val == 1:\n",
        "      print('Facility {} is placed at location {}'.format(i+1,j+1))\n",
        "      break"
      ],
      "execution_count": 32,
      "outputs": [
        {
          "output_type": "stream",
          "name": "stdout",
          "text": [
            "Facility 1 is placed at location 7\n",
            "Facility 2 is placed at location 2\n",
            "Facility 3 is placed at location 5\n",
            "Facility 4 is placed at location 1\n",
            "Facility 5 is placed at location 11\n",
            "Facility 6 is placed at location 3\n",
            "Facility 7 is placed at location 6\n",
            "Facility 8 is placed at location 4\n",
            "Facility 9 is placed at location 10\n",
            "Facility 10 is placed at location 12\n",
            "Facility 11 is placed at location 9\n",
            "Facility 12 is placed at location 8\n"
          ]
        }
      ]
    },
    {
      "cell_type": "code",
      "metadata": {
        "colab": {
          "base_uri": "https://localhost:8080/"
        },
        "id": "Tu5Dq2NOLGm2",
        "outputId": "0a6f9886-cd0c-46e0-8a19-ee543460b831"
      },
      "source": [
        "print('The optimal cost is',m2.cost())"
      ],
      "execution_count": 33,
      "outputs": [
        {
          "output_type": "stream",
          "name": "stdout",
          "text": [
            "The optimal cost is 203.0\n"
          ]
        }
      ]
    },
    {
      "cell_type": "markdown",
      "metadata": {
        "id": "UdrJm39yM7VU"
      },
      "source": [
        "### 9)"
      ]
    },
    {
      "cell_type": "code",
      "metadata": {
        "id": "1Gx2uZT6Li2x"
      },
      "source": [
        "m21 = m2.clone()\n",
        "m21.x.domain=NonNegativeReals\n",
        "for i in rows:\n",
        "  for j in rows:\n",
        "    m21.x[i,j].setub(1)"
      ],
      "execution_count": 34,
      "outputs": []
    },
    {
      "cell_type": "code",
      "metadata": {
        "id": "TwyVf8vnNboz"
      },
      "source": [
        "opt21=solver.solve(m21)"
      ],
      "execution_count": 35,
      "outputs": []
    },
    {
      "cell_type": "code",
      "metadata": {
        "colab": {
          "base_uri": "https://localhost:8080/"
        },
        "id": "ZJ30V6xHNe7L",
        "outputId": "fb0324e7-8b9d-4406-c76b-7ff5bd7dbfbd"
      },
      "source": [
        "for i in rows:\n",
        "  for j in rows:\n",
        "    val = m21.x[i,j]()\n",
        "    if val != 0:\n",
        "      print('Value of x({},{}) is {}'.format(i+1,j+1,val))\n",
        "print('Value of remaining variables are 0')      "
      ],
      "execution_count": 36,
      "outputs": [
        {
          "output_type": "stream",
          "name": "stdout",
          "text": [
            "Value of x(1,7) is 1.0\n",
            "Value of x(2,2) is 1.0\n",
            "Value of x(3,5) is 1.0\n",
            "Value of x(4,1) is 1.0\n",
            "Value of x(5,11) is 1.0\n",
            "Value of x(6,3) is 1.0\n",
            "Value of x(7,6) is 1.0\n",
            "Value of x(8,4) is 1.0\n",
            "Value of x(9,10) is 1.0\n",
            "Value of x(10,12) is 1.0\n",
            "Value of x(11,9) is 1.0\n",
            "Value of x(12,8) is 1.0\n"
          ]
        }
      ]
    },
    {
      "cell_type": "code",
      "metadata": {
        "colab": {
          "base_uri": "https://localhost:8080/"
        },
        "id": "J0ffnHkbNkZ9",
        "outputId": "098074e9-0ac2-4d32-dab3-998dc1c0ba0a"
      },
      "source": [
        "print('The optimal cost is',m21.cost())"
      ],
      "execution_count": 37,
      "outputs": [
        {
          "output_type": "stream",
          "name": "stdout",
          "text": [
            "The optimal cost is 203.0\n"
          ]
        }
      ]
    },
    {
      "cell_type": "markdown",
      "metadata": {
        "id": "oTR5wJuwcNGN"
      },
      "source": [
        "Optimal cost is same, and solution is still integer-valued even when we remove the integer constraint from the original program."
      ]
    },
    {
      "cell_type": "markdown",
      "metadata": {
        "id": "QAJqiS-6SIBG"
      },
      "source": [
        "This is because an assignment problem is a special case of minimum-cost flow problem(MCFP).\n",
        "We know that MCFPs give integer optimal solution if the upper and lower bounds on the variables are integers and net flow through a node is an integer.\n",
        "In the case of this assignment problem without integrality constraints, bounds are 0 and 1 which are integers, and net flows will also be 0,-1 or 1 which are integers\\\n",
        "Hence, we will get optimal solution which is integral"
      ]
    },
    {
      "cell_type": "markdown",
      "metadata": {
        "id": "TfeXVqQqd-LO"
      },
      "source": [
        "### 11)"
      ]
    },
    {
      "cell_type": "code",
      "metadata": {
        "id": "Qr2wrr-JNtiB"
      },
      "source": [
        "costs2 = costs.copy()\n",
        "costs2 = np.where(costs2>20,costs2*0.875,costs2*1.42)\n"
      ],
      "execution_count": 38,
      "outputs": []
    },
    {
      "cell_type": "code",
      "metadata": {
        "id": "-LtMzt7OSmpA"
      },
      "source": [
        "m22 = m21.clone()\n",
        "m22.cost.deactivate()\n",
        "m22.cost2 = Objective(expr=summation(costs2,m22.x))"
      ],
      "execution_count": 39,
      "outputs": []
    },
    {
      "cell_type": "code",
      "metadata": {
        "id": "srxQN0K-T934"
      },
      "source": [
        "opt22 = solver.solve(m22)"
      ],
      "execution_count": 40,
      "outputs": []
    },
    {
      "cell_type": "code",
      "metadata": {
        "colab": {
          "base_uri": "https://localhost:8080/"
        },
        "id": "1XnEu6G2UBx7",
        "outputId": "7d58298e-fa7d-4fea-e0ff-282642a50eb1"
      },
      "source": [
        "for i in rows:\n",
        "  for j in rows:\n",
        "    val = m22.x[i,j]()\n",
        "    if val != 0:\n",
        "      print('Value of x({},{}) is {}'.format(i+1,j+1,val))\n",
        "print('Value of remaining variables are 0')        "
      ],
      "execution_count": 46,
      "outputs": [
        {
          "output_type": "stream",
          "name": "stdout",
          "text": [
            "Value of x(1,4) is 1.0\n",
            "Value of x(2,6) is 1.0\n",
            "Value of x(3,2) is 1.0\n",
            "Value of x(4,10) is 1.0\n",
            "Value of x(5,7) is 1.0\n",
            "Value of x(6,8) is 1.0\n",
            "Value of x(7,3) is 1.0\n",
            "Value of x(8,9) is 1.0\n",
            "Value of x(9,12) is 1.0\n",
            "Value of x(10,11) is 1.0\n",
            "Value of x(11,5) is 1.0\n",
            "Value of x(12,1) is 1.0\n",
            "Value of remaining variables are 0\n"
          ]
        }
      ]
    },
    {
      "cell_type": "markdown",
      "metadata": {
        "id": "sOBC0ZlTe3ZL"
      },
      "source": [
        "The solution is still integral when the costs have fractional values.\n",
        "same reason as previous question, since it is MCFP, and even though the costs are fractions, the variable bounds and the flows will still be integers."
      ]
    },
    {
      "cell_type": "markdown",
      "metadata": {
        "id": "8SsN5lZKVnN1"
      },
      "source": [
        "### 12)"
      ]
    },
    {
      "cell_type": "code",
      "metadata": {
        "id": "tmTVxChpYA9d"
      },
      "source": [
        "m23 = m2.clone()"
      ],
      "execution_count": 42,
      "outputs": []
    },
    {
      "cell_type": "markdown",
      "metadata": {
        "id": "Kxp0U2KHYfv9"
      },
      "source": [
        "We can modify the model appropriately by setting $\\quad x_{2,4}, \\ x_{10,6},\\  x_{6,11} = 0$\\\n",
        "to ensure facility 2 is not placed at location 4, facility 10 is not placed at loc 6, facility 6 is not placed at location 11\n"
      ]
    },
    {
      "cell_type": "code",
      "metadata": {
        "colab": {
          "base_uri": "https://localhost:8080/"
        },
        "id": "S6Sb15lMVom0",
        "outputId": "3f2ede53-d79c-4679-e6a0-8d41d79581af"
      },
      "source": [
        "\n",
        "\n",
        "m23.cons.add(m23.x[1,3]==0)\n",
        "m23.cons.add(m23.x[9,5]==0)\n",
        "m23.cons.add(m23.x[5,10]==0)\n"
      ],
      "execution_count": 43,
      "outputs": [
        {
          "output_type": "execute_result",
          "data": {
            "text/plain": [
              "<pyomo.core.base.constraint._GeneralConstraintData at 0x7f38f2393fa0>"
            ]
          },
          "metadata": {},
          "execution_count": 43
        }
      ]
    },
    {
      "cell_type": "code",
      "metadata": {
        "id": "YwmxKFF0WAta"
      },
      "source": [
        "opt23 = solver.solve(m23)\n"
      ],
      "execution_count": 44,
      "outputs": []
    },
    {
      "cell_type": "code",
      "metadata": {
        "colab": {
          "base_uri": "https://localhost:8080/"
        },
        "id": "mv77UU5NWM4C",
        "outputId": "57531ba1-bd15-428f-f9ea-69f3be7d0209"
      },
      "source": [
        "for i in rows:\n",
        "  for j in rows:\n",
        "    val = m23.x[i,j]()\n",
        "    if val != 0:\n",
        "      print('Value of x({0},{1}) is {2}. (Facility {0} is placed at location {1})'.format(i+1,j+1,val))\n",
        "print('Value of remaining variables are 0')        \n",
        "print('The optimal cost is',m23.cost())      "
      ],
      "execution_count": 47,
      "outputs": [
        {
          "output_type": "stream",
          "name": "stdout",
          "text": [
            "Value of x(1,7) is 1.0. (Facility 1 is placed at location 7)\n",
            "Value of x(2,2) is 1.0. (Facility 2 is placed at location 2)\n",
            "Value of x(3,5) is 1.0. (Facility 3 is placed at location 5)\n",
            "Value of x(4,1) is 1.0. (Facility 4 is placed at location 1)\n",
            "Value of x(5,11) is 1.0. (Facility 5 is placed at location 11)\n",
            "Value of x(6,3) is 1.0. (Facility 6 is placed at location 3)\n",
            "Value of x(7,6) is 1.0. (Facility 7 is placed at location 6)\n",
            "Value of x(8,4) is 1.0. (Facility 8 is placed at location 4)\n",
            "Value of x(9,10) is 1.0. (Facility 9 is placed at location 10)\n",
            "Value of x(10,12) is 1.0. (Facility 10 is placed at location 12)\n",
            "Value of x(11,9) is 1.0. (Facility 11 is placed at location 9)\n",
            "Value of x(12,8) is 1.0. (Facility 12 is placed at location 8)\n",
            "Value of remaining variables are 0\n",
            "The optimal cost is 203.0\n"
          ]
        }
      ]
    },
    {
      "cell_type": "markdown",
      "metadata": {
        "id": "vGgkdKX8XJkG"
      },
      "source": [
        "The optimal solution is same as solution of the original problem inspite of adding the location constraints of facilities 2,10 and 6.\\\n",
        "This is because these constraints were anyways satisfied in the original problem."
      ]
    },
    {
      "cell_type": "markdown",
      "metadata": {
        "id": "yBl6P5bPdcaI"
      },
      "source": [
        "Alternately, we can also solve the problem by giving very high costs to the restricted facility-location combinations, we will get the same solution."
      ]
    },
    {
      "cell_type": "code",
      "metadata": {
        "id": "gyPD19bGGYhM"
      },
      "source": [
        ""
      ],
      "execution_count": 45,
      "outputs": []
    }
  ]
}
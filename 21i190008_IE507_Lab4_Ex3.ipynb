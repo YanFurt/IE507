{
  "nbformat": 4,
  "nbformat_minor": 0,
  "metadata": {
    "kernelspec": {
      "display_name": "Python 3",
      "language": "python",
      "name": "python3"
    },
    "language_info": {
      "codemirror_mode": {
        "name": "ipython",
        "version": 3
      },
      "file_extension": ".py",
      "mimetype": "text/x-python",
      "name": "python",
      "nbconvert_exporter": "python",
      "pygments_lexer": "ipython3",
      "version": "3.7.4"
    },
    "colab": {
      "name": "21i190008_IE507_Lab4_Ex3.ipynb",
      "provenance": []
    }
  },
  "cells": [
    {
      "cell_type": "markdown",
      "metadata": {
        "id": "P1hqrOmpflsI"
      },
      "source": [
        ""
      ]
    },
    {
      "cell_type": "code",
      "metadata": {
        "id": "mTwBBpjufnlL"
      },
      "source": [
        "#!pip install -q pyomo\n",
        "#!apt-get install -y -qq coinor-cbc"
      ],
      "execution_count": 2,
      "outputs": []
    },
    {
      "cell_type": "code",
      "metadata": {
        "id": "8OqcW_EHgCva"
      },
      "source": [
        ""
      ],
      "execution_count": 6,
      "outputs": []
    },
    {
      "cell_type": "markdown",
      "metadata": {
        "id": "aX3534SUkL2U"
      },
      "source": [
        "### 4)"
      ]
    },
    {
      "cell_type": "markdown",
      "metadata": {
        "id": "rUjnF1YPg_C4"
      },
      "source": [
        "The problem can be modeled as follows\n",
        "\n",
        "Decision variables :\n",
        " $x_1 , x_2 , x_3 , x_4 , x_5$\n",
        "\n",
        "Objective:\\\n",
        "$\\text{maximize} \\quad 12x_1 + 14x_2 + 10x_3 + 15x_4 + 14x_5$\n",
        "\n",
        "S.T\\\n",
        "$\\begin{align}\n",
        "6x_1 + 7.5x_2 + 9.5x_3 + 10x_4 + 12.5x_5 \\leq 59\\\\\n",
        "4.25x_1 + 3.25x_2 + 2.5x_3 + 3.45x_4 + 2.25x_5 \\leq 73\\\\\n",
        "x_1,x_2,x_3,x_4,x_5 \\in \\mathbb{Z}_{\\geq 0} \n",
        "\\end{align}$"
      ]
    },
    {
      "cell_type": "code",
      "metadata": {
        "id": "VMktL6noe8PJ"
      },
      "source": [
        "from pyomo.environ import *\n",
        "import numpy as np\n",
        "import pandas as pd"
      ],
      "execution_count": 3,
      "outputs": []
    },
    {
      "cell_type": "code",
      "metadata": {
        "id": "xeWgA4FMe8PO"
      },
      "source": [
        "df = pd.read_csv('sample_data/lab4_ex3.csv')"
      ],
      "execution_count": 6,
      "outputs": []
    },
    {
      "cell_type": "code",
      "metadata": {
        "colab": {
          "base_uri": "https://localhost:8080/",
          "height": 203
        },
        "id": "RMfrZ0lEe8PP",
        "outputId": "8c285b68-1cad-49a9-ccb0-1f6cdbff1305"
      },
      "source": [
        "df"
      ],
      "execution_count": 7,
      "outputs": [
        {
          "output_type": "execute_result",
          "data": {
            "text/html": [
              "<div>\n",
              "<style scoped>\n",
              "    .dataframe tbody tr th:only-of-type {\n",
              "        vertical-align: middle;\n",
              "    }\n",
              "\n",
              "    .dataframe tbody tr th {\n",
              "        vertical-align: top;\n",
              "    }\n",
              "\n",
              "    .dataframe thead th {\n",
              "        text-align: right;\n",
              "    }\n",
              "</style>\n",
              "<table border=\"1\" class=\"dataframe\">\n",
              "  <thead>\n",
              "    <tr style=\"text-align: right;\">\n",
              "      <th></th>\n",
              "      <th>Drone_Model</th>\n",
              "      <th>Carrying_Capacity</th>\n",
              "      <th>Cost</th>\n",
              "      <th>Parking_space</th>\n",
              "    </tr>\n",
              "  </thead>\n",
              "  <tbody>\n",
              "    <tr>\n",
              "      <th>0</th>\n",
              "      <td>MANAS</td>\n",
              "      <td>12</td>\n",
              "      <td>6.0</td>\n",
              "      <td>4.25</td>\n",
              "    </tr>\n",
              "    <tr>\n",
              "      <th>1</th>\n",
              "      <td>JAY</td>\n",
              "      <td>14</td>\n",
              "      <td>7.5</td>\n",
              "      <td>3.25</td>\n",
              "    </tr>\n",
              "    <tr>\n",
              "      <th>2</th>\n",
              "      <td>VEER</td>\n",
              "      <td>10</td>\n",
              "      <td>9.5</td>\n",
              "      <td>2.50</td>\n",
              "    </tr>\n",
              "    <tr>\n",
              "      <th>3</th>\n",
              "      <td>SPASHT</td>\n",
              "      <td>15</td>\n",
              "      <td>10.0</td>\n",
              "      <td>3.45</td>\n",
              "    </tr>\n",
              "    <tr>\n",
              "      <th>4</th>\n",
              "      <td>DHAKSH</td>\n",
              "      <td>14</td>\n",
              "      <td>12.5</td>\n",
              "      <td>2.25</td>\n",
              "    </tr>\n",
              "  </tbody>\n",
              "</table>\n",
              "</div>"
            ],
            "text/plain": [
              "  Drone_Model  Carrying_Capacity  Cost  Parking_space \n",
              "0      MANAS                  12   6.0            4.25\n",
              "1        JAY                  14   7.5            3.25\n",
              "2       VEER                  10   9.5            2.50\n",
              "3      SPASHT                 15  10.0            3.45\n",
              "4      DHAKSH                 14  12.5            2.25"
            ]
          },
          "metadata": {},
          "execution_count": 7
        }
      ]
    },
    {
      "cell_type": "code",
      "metadata": {
        "colab": {
          "base_uri": "https://localhost:8080/"
        },
        "id": "7nvnefiGe8PR",
        "outputId": "a38a07b7-2f05-4f4b-84f2-5ddeccd1e239"
      },
      "source": [
        "df['Cost']"
      ],
      "execution_count": 8,
      "outputs": [
        {
          "output_type": "execute_result",
          "data": {
            "text/plain": [
              "0     6.0\n",
              "1     7.5\n",
              "2     9.5\n",
              "3    10.0\n",
              "4    12.5\n",
              "Name: Cost, dtype: float64"
            ]
          },
          "metadata": {},
          "execution_count": 8
        }
      ]
    },
    {
      "cell_type": "code",
      "metadata": {
        "id": "pSPMFhKHe8PT"
      },
      "source": [
        "n = len(df)\n",
        "m = 2\n",
        "\n",
        "cols = np.arange(n)\n",
        "rows = np.arange(m)\n",
        "\n",
        "cons_name = ['Cost','Parking_space ']\n",
        "consrhs = [59,73]"
      ],
      "execution_count": 9,
      "outputs": []
    },
    {
      "cell_type": "code",
      "metadata": {
        "id": "85DxhEYwe8PU"
      },
      "source": [
        "m3 = ConcreteModel()\n",
        "m3.x = Var(cols, domain = NonNegativeIntegers)\n",
        "m3.cons = ConstraintList()\n",
        "\n",
        "for i in rows:\n",
        "    m3.cons.add(summation(df[cons_name[i]],m3.x)<=consrhs[i])\n",
        "    \n",
        "m3.capacity = Objective(expr = summation(df['Carrying_Capacity'],m3.x),sense=maximize)    "
      ],
      "execution_count": 10,
      "outputs": []
    },
    {
      "cell_type": "code",
      "metadata": {
        "id": "4XF_vvyWe8PV"
      },
      "source": [
        ""
      ],
      "execution_count": 10,
      "outputs": []
    },
    {
      "cell_type": "code",
      "metadata": {
        "id": "bCZGlRGze8PX"
      },
      "source": [
        "solver = SolverFactory('cbc')\n",
        "opt1 = solver.solve(m3)"
      ],
      "execution_count": 11,
      "outputs": []
    },
    {
      "cell_type": "markdown",
      "metadata": {
        "id": "PysWN181e8PY"
      },
      "source": [
        "### 6)"
      ]
    },
    {
      "cell_type": "code",
      "metadata": {
        "colab": {
          "base_uri": "https://localhost:8080/"
        },
        "id": "W6BSdbzSe8PZ",
        "outputId": "b4f4eccf-cb13-4a8b-f328-ea89624c4235"
      },
      "source": [
        "print('Optimal carrying capacity achievable is ',m3.capacity(),'kgs')\n",
        "\n",
        "for i in range(n):\n",
        "    print('The number of {} drones is {:.0f}'.format(df['Drone_Model'][i],m3.x[i]()))"
      ],
      "execution_count": 12,
      "outputs": [
        {
          "output_type": "stream",
          "text": [
            "Optimal carrying capacity achievable is  114.0 kgs\n",
            "The number of MANAS  drones is 6\n",
            "The number of JAY  drones is 3\n",
            "The number of VEER  drones is 0\n",
            "The number of SPASHT drones is 0\n",
            "The number of DHAKSH drones is 0\n"
          ],
          "name": "stdout"
        }
      ]
    },
    {
      "cell_type": "markdown",
      "metadata": {
        "id": "iEwhMJlre8Pb"
      },
      "source": [
        "### 7)"
      ]
    },
    {
      "cell_type": "code",
      "metadata": {
        "id": "N3onrB_Ee8Pb"
      },
      "source": [
        "m3a = m3.clone()\n",
        "m3a.x.domain = NonNegativeReals\n",
        "\n",
        "opt2 = solver.solve(m3a)"
      ],
      "execution_count": 13,
      "outputs": []
    },
    {
      "cell_type": "code",
      "metadata": {
        "colab": {
          "base_uri": "https://localhost:8080/"
        },
        "id": "c7Gv3zHOe8Pc",
        "outputId": "8d46c8c5-7698-4b7a-8687-70a4fc8d659d"
      },
      "source": [
        "print('Optimal carrying capacity  achievable for the LP is ',m3a.capacity(),'kgs')\n",
        "for i in range(n):\n",
        "    print('The number of {} drones is {}'.format(df['Drone_Model'][i],m3a.x[i]()))"
      ],
      "execution_count": 22,
      "outputs": [
        {
          "output_type": "stream",
          "text": [
            "Optimal carrying capacity  achievable for the LP is  117.9999996 kgs\n",
            "The number of MANAS  drones is 9.8333333\n",
            "The number of JAY  drones is 0.0\n",
            "The number of VEER  drones is 0.0\n",
            "The number of SPASHT drones is 0.0\n",
            "The number of DHAKSH drones is 0.0\n"
          ],
          "name": "stdout"
        }
      ]
    },
    {
      "cell_type": "code",
      "metadata": {
        "colab": {
          "base_uri": "https://localhost:8080/"
        },
        "id": "lzoojf0Re8Pd",
        "outputId": "f63fd88e-f3cb-45e4-c070-bfae9e3e577b"
      },
      "source": [
        "m3a.cons.display()"
      ],
      "execution_count": 15,
      "outputs": [
        {
          "output_type": "stream",
          "text": [
            "cons : Size=2\n",
            "    Key : Lower : Body         : Upper\n",
            "      1 :  None :   58.9999998 :  59.0\n",
            "      2 :  None : 41.791666525 :  73.0\n"
          ],
          "name": "stdout"
        }
      ]
    },
    {
      "cell_type": "markdown",
      "metadata": {
        "id": "9POOyl8ue8Pd"
      },
      "source": [
        "### 8)"
      ]
    },
    {
      "cell_type": "markdown",
      "metadata": {
        "id": "WBelR2A2e8Pe"
      },
      "source": [
        "The solution to MILP cannot be obtained by rounding off solution to LP because , rounding off solution to LP will cause the first constraint to be violated.\n",
        "Also, rounding off 9.83 and 0  don't give 6 and 3 respectively, which are solutions to the MILP"
      ]
    },
    {
      "cell_type": "markdown",
      "metadata": {
        "id": "mR7WDWzte8Pe"
      },
      "source": [
        "### 9)"
      ]
    },
    {
      "cell_type": "code",
      "metadata": {
        "id": "g12YzmoTe8Pe"
      },
      "source": [
        "m3c = m3a.clone()\n",
        "\n",
        "m3c.cons[1].set_value(m3c.cons[1].body<=71)\n",
        "m3c.cons[2].set_value(m3c.cons[2].body<=87)\n",
        "\n",
        "opt3 = solver.solve(m3c)"
      ],
      "execution_count": 16,
      "outputs": []
    },
    {
      "cell_type": "code",
      "metadata": {
        "colab": {
          "base_uri": "https://localhost:8080/"
        },
        "id": "qT2b1Pfre8Pe",
        "outputId": "31260202-9a18-4b95-e377-ee5375465eda"
      },
      "source": [
        "print('Optimal carrying capacity achievable for the new LP is ',m3c.capacity(),'kgs')\n",
        "for i in range(n):\n",
        "    print('The number of {} drones is {}'.format(df['Drone_Model'][i],m3c.x[i]()))"
      ],
      "execution_count": 17,
      "outputs": [
        {
          "output_type": "stream",
          "text": [
            "Optimal carrying capacity achievable for the new LP is  141.999996 kgs\n",
            "The number of MANAS  drones is 11.833333\n",
            "The number of JAY  drones is 0.0\n",
            "The number of VEER  drones is 0.0\n",
            "The number of SPASHT drones is 0.0\n",
            "The number of DHAKSH drones is 0.0\n"
          ],
          "name": "stdout"
        }
      ]
    },
    {
      "cell_type": "code",
      "metadata": {
        "id": "L_BDj9VEe8Pf"
      },
      "source": [
        "\n",
        "\n",
        "m3b = m3.clone()\n",
        "\n",
        "m3b.cons[1].set_value(m3b.cons[1].body<=71)\n",
        "m3b.cons[2].set_value(m3b.cons[2].body<=87)"
      ],
      "execution_count": 18,
      "outputs": []
    },
    {
      "cell_type": "code",
      "metadata": {
        "id": "1nhwPGaie8Pf"
      },
      "source": [
        "opt3 = solver.solve(m3b)"
      ],
      "execution_count": 19,
      "outputs": []
    },
    {
      "cell_type": "code",
      "metadata": {
        "colab": {
          "base_uri": "https://localhost:8080/"
        },
        "id": "r3ZobM9qe8Pg",
        "outputId": "fe8a48ac-4837-41e2-b619-b97afb808cfb"
      },
      "source": [
        "print('Optimal carrying capacity achievable for the new MILP is ',m3b.capacity(),'kgs')\n",
        "for i in range(n):\n",
        "    print('The number of {} drones is {}'.format(df['Drone_Model'][i],m3b.x[i]()))"
      ],
      "execution_count": 20,
      "outputs": [
        {
          "output_type": "stream",
          "text": [
            "Optimal carrying capacity achievable for the new MILP is  138.0 kgs\n",
            "The number of MANAS  drones is 8.0\n",
            "The number of JAY  drones is 3.0\n",
            "The number of VEER  drones is 0.0\n",
            "The number of SPASHT drones is 0.0\n",
            "The number of DHAKSH drones is 0.0\n"
          ],
          "name": "stdout"
        }
      ]
    },
    {
      "cell_type": "markdown",
      "metadata": {
        "id": "cPIaJ7h0e8Pg"
      },
      "source": [
        "### 10)"
      ]
    },
    {
      "cell_type": "code",
      "metadata": {
        "colab": {
          "base_uri": "https://localhost:8080/"
        },
        "id": "PF74yGVIe8Pg",
        "outputId": "c79bd5d0-356d-4fae-87a4-f1d6f1610e3b"
      },
      "source": [
        "newrhs = [[67,88],[65,89],[63,90],[61,91]]\n",
        "milps = [m3.clone() for i in range(4)]\n",
        "lps = [m3a.clone() for i in range(4)]\n",
        "\n",
        "\n",
        "for j in range(4):\n",
        "    milps[j].cons[1].set_value(milps[j].cons[1].body<=newrhs[j][0])\n",
        "    milps[j].cons[2].set_value(milps[j].cons[2].body<=newrhs[j][1])\n",
        "    lps[j].cons[1].set_value(lps[j].cons[1].body<=newrhs[j][0])\n",
        "    lps[j].cons[2].set_value(lps[j].cons[2].body<=newrhs[j][1])\n",
        "    \n",
        "    opta = solver.solve(milps[j])\n",
        "    optb = solver.solve(lps[j])\n",
        "    \n",
        "    print('When budget limit is',newrhs[j][0],'and space limit is',newrhs[j][1],':')\n",
        "    print('\\n')\n",
        "    print('Optimal carrying capacity achievable for MILP is ',milps[j].capacity(),'kgs')\n",
        "    for i in range(n):\n",
        "        print('The number of {} drones is {}'.format(df['Drone_Model'][i],milps[j].x[i]()))\n",
        "    print('\\n')\n",
        "    print('Optimal carrying capacity achievable for LP is ',lps[j].capacity(),'kgs')\n",
        "    for i in range(n):\n",
        "        print('The number of {} drones is {}'.format(df['Drone_Model'][i],lps[j].x[i]()))\n",
        "    print('-'*80)    \n",
        "    print('\\n'*3)\n",
        "    "
      ],
      "execution_count": 21,
      "outputs": [
        {
          "output_type": "stream",
          "text": [
            "When budget limit is 67 and space limit is 88 :\n",
            "\n",
            "\n",
            "Optimal carrying capacity achievable for MILP is  132.0 kgs\n",
            "The number of MANAS  drones is 11.0\n",
            "The number of JAY  drones is 0.0\n",
            "The number of VEER  drones is 0.0\n",
            "The number of SPASHT drones is 0.0\n",
            "The number of DHAKSH drones is 0.0\n",
            "\n",
            "\n",
            "Optimal carrying capacity achievable for LP is  134.000004 kgs\n",
            "The number of MANAS  drones is 11.166667\n",
            "The number of JAY  drones is 0.0\n",
            "The number of VEER  drones is 0.0\n",
            "The number of SPASHT drones is 0.0\n",
            "The number of DHAKSH drones is 0.0\n",
            "--------------------------------------------------------------------------------\n",
            "\n",
            "\n",
            "\n",
            "\n",
            "When budget limit is 65 and space limit is 89 :\n",
            "\n",
            "\n",
            "Optimal carrying capacity achievable for MILP is  126.0 kgs\n",
            "The number of MANAS  drones is 7.0\n",
            "The number of JAY  drones is 3.0\n",
            "The number of VEER  drones is 0.0\n",
            "The number of SPASHT drones is 0.0\n",
            "The number of DHAKSH drones is 0.0\n",
            "\n",
            "\n",
            "Optimal carrying capacity achievable for LP is  129.999996 kgs\n",
            "The number of MANAS  drones is 10.833333\n",
            "The number of JAY  drones is 0.0\n",
            "The number of VEER  drones is 0.0\n",
            "The number of SPASHT drones is 0.0\n",
            "The number of DHAKSH drones is 0.0\n",
            "--------------------------------------------------------------------------------\n",
            "\n",
            "\n",
            "\n",
            "\n",
            "When budget limit is 63 and space limit is 90 :\n",
            "\n",
            "\n",
            "Optimal carrying capacity achievable for MILP is  124.0 kgs\n",
            "The number of MANAS  drones is 8.0\n",
            "The number of JAY  drones is 2.0\n",
            "The number of VEER  drones is 0.0\n",
            "The number of SPASHT drones is 0.0\n",
            "The number of DHAKSH drones is 0.0\n",
            "\n",
            "\n",
            "Optimal carrying capacity achievable for LP is  126.0 kgs\n",
            "The number of MANAS  drones is 10.5\n",
            "The number of JAY  drones is 0.0\n",
            "The number of VEER  drones is 0.0\n",
            "The number of SPASHT drones is 0.0\n",
            "The number of DHAKSH drones is 0.0\n",
            "--------------------------------------------------------------------------------\n",
            "\n",
            "\n",
            "\n",
            "\n",
            "When budget limit is 61 and space limit is 91 :\n",
            "\n",
            "\n",
            "Optimal carrying capacity achievable for MILP is  120.0 kgs\n",
            "The number of MANAS  drones is 10.0\n",
            "The number of JAY  drones is 0.0\n",
            "The number of VEER  drones is 0.0\n",
            "The number of SPASHT drones is 0.0\n",
            "The number of DHAKSH drones is 0.0\n",
            "\n",
            "\n",
            "Optimal carrying capacity achievable for LP is  122.000004 kgs\n",
            "The number of MANAS  drones is 10.166667\n",
            "The number of JAY  drones is 0.0\n",
            "The number of VEER  drones is 0.0\n",
            "The number of SPASHT drones is 0.0\n",
            "The number of DHAKSH drones is 0.0\n",
            "--------------------------------------------------------------------------------\n",
            "\n",
            "\n",
            "\n",
            "\n"
          ],
          "name": "stdout"
        }
      ]
    },
    {
      "cell_type": "markdown",
      "metadata": {
        "id": "fyYJV5jde8Ph"
      },
      "source": [
        "As expected, a decrease in budget limit led to a decrease in number of drones, which in turn led to a decrease in maximum possible carrying capacity. In the original problem, the cost constraint value was closer to its bound than the space constraint value. Hence, we can say that the in the current range of 87 - 91, the changing space is not going to have any effect on the solution.\n",
        "In fact, on observing the data, we can see that on an average, the magnitude of the cost is more than twice thae magnitude of the space. Therefore, as long as the magnitude of  available space (in m) is more than half the value of magnitude of budget (in crores) , it wont have much of an effect on the solution.\n",
        "\n",
        "we can see that in all the LPs, the optimal solution is one in which as many MANAS drones as possible are bought. This is because MANAS has the highest capacity to cost ratio. And the LPs have a slightly better optimal solution than corresponding MILP.  \n",
        "In the MILPs, since the capacity is not always divisible by 6, it is adjusted with JAY drones since it has the second highest capacity to cost ratio. This is why optimal solution is slightly less in the MILP\n",
        "\n",
        "But we can conclude that whenever the budget limit (in Cr) is a multiple of 6, and the available parking is more than budget, optimal solution of corresponding LP and MILP will be the same. "
      ]
    },
    {
      "cell_type": "code",
      "metadata": {
        "id": "JJ1pz0Pke8Ph"
      },
      "source": [
        ""
      ],
      "execution_count": 21,
      "outputs": []
    }
  ]
}
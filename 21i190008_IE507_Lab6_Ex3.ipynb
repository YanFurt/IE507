{
  "nbformat": 4,
  "nbformat_minor": 0,
  "metadata": {
    "kernelspec": {
      "display_name": "Python 3",
      "language": "python",
      "name": "python3"
    },
    "language_info": {
      "codemirror_mode": {
        "name": "ipython",
        "version": 3
      },
      "file_extension": ".py",
      "mimetype": "text/x-python",
      "name": "python",
      "nbconvert_exporter": "python",
      "pygments_lexer": "ipython3",
      "version": "3.7.4"
    },
    "colab": {
      "name": "21i190008_IE507_Lab6_Ex3.ipynb",
      "provenance": []
    }
  },
  "cells": [
    {
      "cell_type": "code",
      "metadata": {
        "id": "dEPdwLxy4rEs"
      },
      "source": [
        "!pip install -q pyomo\n",
        "!apt-get install -y -qq coinor-cbc"
      ],
      "execution_count": null,
      "outputs": []
    },
    {
      "cell_type": "code",
      "metadata": {
        "id": "QyRFmm7g3jQQ"
      },
      "source": [
        "from pyomo.environ import *\n",
        "import numpy as np\n",
        "import pandas as pd\n"
      ],
      "execution_count": 2,
      "outputs": []
    },
    {
      "cell_type": "markdown",
      "metadata": {
        "id": "jkEYnEuv3jQU"
      },
      "source": [
        "### 1)"
      ]
    },
    {
      "cell_type": "markdown",
      "metadata": {
        "id": "dXKYhV1E3jQV"
      },
      "source": [
        "Let \n",
        "P = [175000, 150000, 125000,  90000,  80000, 120000]\\\n",
        "E = [250, 400, 450, 100, 200,  50]\\\n",
        "L = [1800, 2800, 3500,  800,  700,  500]\n",
        "\n",
        "$Let P_i, L_i, E_i\\ \\  \\text{denote the i-th element of  P, L and E respectively}$"
      ]
    },
    {
      "cell_type": "markdown",
      "metadata": {
        "id": "mfIThKof3jQW"
      },
      "source": [
        "The problem can be formulated as:\n",
        "\n",
        "Decision variables: $b_0,\\ b_1,\\ b_2$\\\n",
        "$minimize \\quad \\sum_{i=1}^{6} |P_i - (b_0 + b_1L_i + b_2E_i)|$\\\n",
        "S.T\\\n",
        "$ b_0 \\geq 0$\n"
      ]
    },
    {
      "cell_type": "markdown",
      "metadata": {
        "id": "UT39TG7o3jQW"
      },
      "source": [
        "The above optimisation problem is not linear, since it has modulus terms in the objective function"
      ]
    },
    {
      "cell_type": "code",
      "metadata": {
        "id": "JN_wBG143jQX"
      },
      "source": [
        "df = pd.read_csv('ex3.csv',index_col=0)"
      ],
      "execution_count": 4,
      "outputs": []
    },
    {
      "cell_type": "code",
      "metadata": {
        "id": "9_07ZARE3jQY"
      },
      "source": [
        "n = 4\n",
        "\n",
        "pri = df[' Pi'].values\n",
        "lot = df['Li'].values\n",
        "elev = df['Ei'].values"
      ],
      "execution_count": 5,
      "outputs": []
    },
    {
      "cell_type": "markdown",
      "metadata": {
        "id": "kEeljRii3jQY"
      },
      "source": [
        "### Approach 1\n",
        "\n",
        "The problem can be reformulated as:\n",
        "\n",
        "Decision variables: \n",
        "$b_0,\\ b_1,\\ b_2\\\\\n",
        "z_i \\qquad i = 1,2,3,4,5,6$\\\n",
        "\n",
        "\n",
        "$minimize \\quad \\sum_{i=1}^{6} z_i$\\\n",
        "S.T\\\n",
        "$z_i \\geq P_i - (b_0 + b_1L_i + b_2E_i) \\qquad i = 1,2,3,4,5,6\\\\\n",
        "z_i \\geq -(P_i - (b_0 + b_1L_i + b_2E_i)) \\qquad i = 1,2,3,4,5,6\\\\\n",
        "b_0 \\geq 0$\n"
      ]
    },
    {
      "cell_type": "code",
      "metadata": {
        "id": "FQg9gfWZ3jQZ"
      },
      "source": [
        "# Approach 1\n",
        "\n",
        "m3 = ConcreteModel()\n",
        "m3.b = Var(np.arange(3))\n",
        "m3.z = Var(np.arange(6),domain=NonNegativeReals)\n",
        "m3.b[0].setlb(0)\n",
        "\n",
        "m3.cons = ConstraintList()\n",
        "for i in range(6):\n",
        "    m3.cons.add(m3.z[i]>= m3.b[0] + lot[i]*m3.b[1]+ elev[i]*m3.b[2] - pri[i])\n",
        "    m3.cons.add(-m3.z[i]<= m3.b[0] + lot[i]*m3.b[1]+ elev[i]*m3.b[2] - pri[i])\n",
        "\n",
        "m3.res = Objective(expr = summation(m3.z))    "
      ],
      "execution_count": 6,
      "outputs": []
    },
    {
      "cell_type": "markdown",
      "metadata": {
        "id": "vhXhZMiI3jQa"
      },
      "source": [
        "### Approach 2\n",
        "\n",
        "The problem can be reformulated as:\n",
        "\n",
        "Decision variables: \n",
        "$b_0,\\ b_1,\\ b_2\\\\\n",
        "x_i, y_i \\qquad i = 1,2,3,4,5,6$\\\n",
        "\n",
        "\n",
        "$minimize \\quad \\sum_{i=1}^{6} (x_i + y_i)$\\\n",
        "S.T\\\n",
        "$x_i - yi = P_i - (b_0 + b_1L_i + b_2E_i) \\qquad i = 1,2,3,4,5,6\\\\\n",
        "b_0 \\geq 0$"
      ]
    },
    {
      "cell_type": "code",
      "metadata": {
        "id": "X50TAYGU3jQa"
      },
      "source": [
        "# Approach 2\n",
        "\n",
        "m32 = ConcreteModel()\n",
        "m32.b = Var(np.arange(3))\n",
        "m32.b[0].setlb(0)\n",
        "m32.x = Var(np.arange(6),domain=NonNegativeReals)\n",
        "m32.y = Var(np.arange(6),domain=NonNegativeReals)\n",
        "m32.cons = ConstraintList()\n",
        "\n",
        "m32.res = Objective(expr=summation(m32.x)+summation(m32.y))\n",
        "\n",
        "\n",
        "\n",
        "for i in range(6):\n",
        "    m32.cons.add(m32.x[i]-m32.y[i]== m32.b[0] + lot[i]*m32.b[1]+ elev[i]*m32.b[2] - pri[i])"
      ],
      "execution_count": 7,
      "outputs": []
    },
    {
      "cell_type": "code",
      "metadata": {
        "id": "bCj2dHoD3jQa"
      },
      "source": [
        "solver = SolverFactory('cbc')"
      ],
      "execution_count": 8,
      "outputs": []
    },
    {
      "cell_type": "markdown",
      "metadata": {
        "id": "-ddekloC3jQb"
      },
      "source": [
        "### 5)"
      ]
    },
    {
      "cell_type": "code",
      "metadata": {
        "colab": {
          "base_uri": "https://localhost:8080/"
        },
        "id": "s9NCYjN_3jQb",
        "outputId": "3c911de8-6121-40e4-bbe6-afcd2743ef90"
      },
      "source": [
        "#Approach 1\n",
        "opt1 = solver.solve(m3)\n",
        "print('Solver status:', opt1.solver.status)\n",
        "print('Solver termination condition:',opt1.solver.termination_condition)"
      ],
      "execution_count": 9,
      "outputs": [
        {
          "output_type": "stream",
          "name": "stdout",
          "text": [
            "Solver status: ok\n",
            "Solver termination condition: optimal\n"
          ]
        }
      ]
    },
    {
      "cell_type": "code",
      "metadata": {
        "colab": {
          "base_uri": "https://localhost:8080/"
        },
        "id": "ylQXoxvx3jQc",
        "outputId": "156cd365-d590-4218-9dc7-a4f13cffdb7a"
      },
      "source": [
        "# display solution\n",
        "print('\\nOptimal value of sum of residuals is = ', m3.res())\n",
        "\n",
        "print('\\nDecision Variables:')\n",
        "for i in range(3):\n",
        "    print('Value of b%d is'%i, m3.b[i].value)\n",
        "\n",
        "for j in range(6):\n",
        "    print('Value of z%d is'%(j+1), m3.z[j].value)"
      ],
      "execution_count": 10,
      "outputs": [
        {
          "output_type": "stream",
          "name": "stdout",
          "text": [
            "\n",
            "Optimal value of sum of residuals is =  125454.545\n",
            "\n",
            "Decision Variables:\n",
            "Value of b0 is 104181.82\n",
            "Value of b1 is 67.272727\n",
            "Value of b2 is -356.36364\n",
            "Value of z1 is 38818.182\n",
            "Value of z2 is 0.0\n",
            "Value of z3 is 54272.727\n",
            "Value of z4 is 32363.636\n",
            "Value of z5 is 0.0\n",
            "Value of z6 is 0.0\n"
          ]
        }
      ]
    },
    {
      "cell_type": "code",
      "metadata": {
        "colab": {
          "base_uri": "https://localhost:8080/"
        },
        "id": "zEPRoSXs3jQc",
        "outputId": "b8f35087-f4bb-4437-e969-edd73e859451"
      },
      "source": [
        "#Approach 2\n",
        "\n",
        "opt2 = solver.solve(m32)\n",
        "print('Solver status:',opt2.solver.status)\n",
        "print('Solver termination condition:',opt2.solver.termination_condition)"
      ],
      "execution_count": 11,
      "outputs": [
        {
          "output_type": "stream",
          "name": "stdout",
          "text": [
            "Solver status: ok\n",
            "Solver termination condition: optimal\n"
          ]
        }
      ]
    },
    {
      "cell_type": "code",
      "metadata": {
        "colab": {
          "base_uri": "https://localhost:8080/"
        },
        "id": "qA-t18Dy3jQd",
        "outputId": "ebb4d386-2770-43b9-bc85-bd301b7e4705"
      },
      "source": [
        "print('\\nOptimal value of sum of residuals is = ', m32.res())\n",
        "\n",
        "print('\\nDecision Variables:')\n",
        "for i in range(3):\n",
        "    print('Value of b%d is'%i, m32.b[i].value)\n",
        "print('\\n')\n",
        "for j in range(6):\n",
        "    print('Value of x%d is'%(j+1), m32.x[j].value)\n",
        "    print('Value of y%d is'%(j+1), m32.y[j].value)"
      ],
      "execution_count": 12,
      "outputs": [
        {
          "output_type": "stream",
          "name": "stdout",
          "text": [
            "\n",
            "Optimal value of sum of residuals is =  125454.545\n",
            "\n",
            "Decision Variables:\n",
            "Value of b0 is 104181.82\n",
            "Value of b1 is 67.272727\n",
            "Value of b2 is -356.36364\n",
            "\n",
            "\n",
            "Value of x1 is 0.0\n",
            "Value of y1 is 38818.182\n",
            "Value of x2 is 0.0\n",
            "Value of y2 is 0.0\n",
            "Value of x3 is 54272.727\n",
            "Value of y3 is 0.0\n",
            "Value of x4 is 32363.636\n",
            "Value of y4 is 0.0\n",
            "Value of x5 is 0.0\n",
            "Value of y5 is 0.0\n",
            "Value of x6 is 0.0\n",
            "Value of y6 is 0.0\n"
          ]
        }
      ]
    },
    {
      "cell_type": "markdown",
      "metadata": {
        "id": "4fjI7zCd3jQd"
      },
      "source": [
        "Both methods give the same solution. This shows that they are equivalent. "
      ]
    },
    {
      "cell_type": "code",
      "metadata": {
        "id": "zh9b0Rw23jQd"
      },
      "source": [
        ""
      ],
      "execution_count": null,
      "outputs": []
    },
    {
      "cell_type": "code",
      "metadata": {
        "id": "6ngW2rJx3jQd"
      },
      "source": [
        ""
      ],
      "execution_count": null,
      "outputs": []
    }
  ]
}
{
  "nbformat": 4,
  "nbformat_minor": 0,
  "metadata": {
    "colab": {
      "name": "21i190008_IE507_Lab3_Ex2.ipynb",
      "provenance": [],
      "collapsed_sections": []
    },
    "kernelspec": {
      "name": "python3",
      "display_name": "Python 3"
    },
    "language_info": {
      "name": "python"
    }
  },
  "cells": [
    {
      "cell_type": "code",
      "metadata": {
        "id": "G8BDmcvCca8s"
      },
      "source": [
        ""
      ],
      "execution_count": 64,
      "outputs": []
    },
    {
      "cell_type": "code",
      "metadata": {
        "id": "KLSdZGrqqao6"
      },
      "source": [
        "#!pip install -q pyomo\n",
        "#!apt-get install -y -qq coinor-cbc"
      ],
      "execution_count": 65,
      "outputs": []
    },
    {
      "cell_type": "markdown",
      "metadata": {
        "id": "Caa1ZWf3Lcvk"
      },
      "source": [
        "**Q1)**"
      ]
    },
    {
      "cell_type": "markdown",
      "metadata": {
        "id": "cLTkDrkldQem"
      },
      "source": [
        "The given problem can be modelled as follows:\\\n",
        "\n",
        "Let r = [3,2,6,5,5,4,6,8,8,5,4]\n",
        "\n",
        "$ \\text{Decision  variables} : c_i  \\; \\qquad i = 0,1,2,3....10$ \\\n",
        "Where $c_i$ denoted registration in course Ci ($c_0$ denotes registration in course C0 etc)\\\n",
        "\n",
        "\n",
        "$ \\text{Maximize} \\sum_{i=0}^{10} c_ir_i$\n",
        "\n",
        "S.T\\\n",
        "\\begin{align}\n",
        "c_2 + c_7 \\leq 1, \\\\\n",
        "c_4 + c_9 \\leq 1, \\\\\n",
        "c_2 + c_8 \\leq 1, \\\\\n",
        "c_0 + c_1 + c_2 \\leq 2,\\\\\n",
        "c_5 + c_6 \\leq 1,\\\\\n",
        "c_3+ c_6+ c_9 \\leq 2,\\\\\n",
        "\\sum_{i=0}^{10} c_i \\leq 9,\\\\\n",
        "c_{10} - c_0 \\leq 0, \\\\\n",
        "c_0 + c_1 + c_2 \\geq 1,\\\\\n",
        "\\sum_{i=0}^{10} c_ir_i \\geq 30,\\\\\n",
        "\\sum_{i=0}^{10} c_i \\geq 5,\\\\\n",
        "c_i \\in \\{0,1\\} \\qquad i = 0,1,2 ... 10 \n",
        "\\end{align}\n",
        "\n",
        "Where $c_i = 1$ if course Ci is registered for , and $c_i = 0$ otherwise\\\n",
        "And $r_i$ is the $(i+1)^{th}$ element of r\n",
        "\n",
        "\n",
        "All decision variables are integers"
      ]
    },
    {
      "cell_type": "code",
      "metadata": {
        "id": "wW7bNhiJGxWS"
      },
      "source": [
        "from pyomo.environ import *\n",
        "import numpy as np\n",
        "cbc = SolverFactory('cbc')"
      ],
      "execution_count": 66,
      "outputs": []
    },
    {
      "cell_type": "code",
      "metadata": {
        "id": "GlkHN4BvH2V3"
      },
      "source": [
        "def fx(*coefs):\n",
        "  lst = [0]*11\n",
        "  for i in coefs:\n",
        "    lst[i]=1\n",
        "  return lst  "
      ],
      "execution_count": 67,
      "outputs": []
    },
    {
      "cell_type": "code",
      "metadata": {
        "id": "PaGPFQ_nHIfa"
      },
      "source": [
        "n = 11\n",
        "m = 11\n",
        "r = np.array([3,2,6,5,5,4,6,8,8,5,4])\n",
        "\n",
        "leq_cons_coef = np.array([fx(2,7), fx(4,9), fx(2,8), fx(0,1,2),fx(5,6),fx(3,6,9),fx(*range(11)),[-1, 0, 0, 0, 0, 0, 0, 0, 0, 0, 1]])\n",
        "geq_cons_coef = np.array([fx(0,1,2),r,fx(*range(11))])\n",
        "\n",
        "leq_consrhs = np.array([1,1,1,2,1,2,9,0])\n",
        "geq_consrhs = np.array([1,30,5])\n",
        "\n",
        "rows = np.arange(m)\n",
        "cols=np.arange(n)"
      ],
      "execution_count": 68,
      "outputs": []
    },
    {
      "cell_type": "code",
      "metadata": {
        "id": "mjqRw6pqP5XA"
      },
      "source": [
        "m2 = ConcreteModel()\n",
        "\n",
        "m2.c = Var(cols, domain=Binary)\n",
        "m2.cons = ConstraintList()\n"
      ],
      "execution_count": 69,
      "outputs": []
    },
    {
      "cell_type": "code",
      "metadata": {
        "id": "GDuDxUCwIHy4"
      },
      "source": [
        "for i in range(8):\n",
        "  m2.cons.add(sum(leq_cons_coef[i][j]*m2.c[j] for j in cols)<=leq_consrhs[i])\n",
        "\n",
        "for i in range(3):\n",
        "  m2.cons.add(sum(geq_cons_coef[i][j]*m2.c[j] for j in cols)>=geq_consrhs[i])\n",
        " "
      ],
      "execution_count": 70,
      "outputs": []
    },
    {
      "cell_type": "code",
      "metadata": {
        "id": "B-9BS1R6QHPu"
      },
      "source": [
        "m2.credits = Objective(expr=summation(r,m2.c),sense=maximize)"
      ],
      "execution_count": 71,
      "outputs": []
    },
    {
      "cell_type": "code",
      "metadata": {
        "id": "QmXrsb8ORB8f"
      },
      "source": [
        "opt = cbc.solve(m2)\n",
        "#opt.write()"
      ],
      "execution_count": 72,
      "outputs": []
    },
    {
      "cell_type": "markdown",
      "metadata": {
        "id": "69v2R-9rG8uL"
      },
      "source": [
        "**Q3)**"
      ]
    },
    {
      "cell_type": "code",
      "metadata": {
        "colab": {
          "base_uri": "https://localhost:8080/"
        },
        "id": "r7dm5q6qRTXo",
        "outputId": "b0c854ea-0e46-4990-d0a4-fe04be93257f"
      },
      "source": [
        "print('The optimal value of the objective function is:',m2.credits())\n",
        "for i in range(11):\n",
        "  print('The value of c%d is'%i,m2.c[i]())"
      ],
      "execution_count": 73,
      "outputs": [
        {
          "output_type": "stream",
          "text": [
            "The optimal value of the objective function is: 41.0\n",
            "The value of c0 is 1.0\n",
            "The value of c1 is 1.0\n",
            "The value of c2 is 0.0\n",
            "The value of c3 is 1.0\n",
            "The value of c4 is 1.0\n",
            "The value of c5 is 0.0\n",
            "The value of c6 is 1.0\n",
            "The value of c7 is 1.0\n",
            "The value of c8 is 1.0\n",
            "The value of c9 is 0.0\n",
            "The value of c10 is 1.0\n"
          ],
          "name": "stdout"
        }
      ]
    },
    {
      "cell_type": "code",
      "metadata": {
        "id": "MKKv1SZwa2bi"
      },
      "source": [
        "m2a = m2.clone()\n",
        "m2a.c.domain = PositiveReals\n",
        "m2a.c.setub(1)\n",
        "\n"
      ],
      "execution_count": 74,
      "outputs": []
    },
    {
      "cell_type": "code",
      "metadata": {
        "id": "vI7FP35za-EM"
      },
      "source": [
        ""
      ],
      "execution_count": 74,
      "outputs": []
    },
    {
      "cell_type": "code",
      "metadata": {
        "id": "5N7pYgxQbAZP"
      },
      "source": [
        "opta= cbc.solve(m2a)\n",
        "#opta.write()"
      ],
      "execution_count": 75,
      "outputs": []
    },
    {
      "cell_type": "markdown",
      "metadata": {
        "id": "Bp6VA5qBHc9u"
      },
      "source": [
        "**Q4)**"
      ]
    },
    {
      "cell_type": "code",
      "metadata": {
        "colab": {
          "base_uri": "https://localhost:8080/"
        },
        "id": "CvfN6ErVtv6W",
        "outputId": "d546a9a0-6ddb-472d-a076-dc9f8713d9c0"
      },
      "source": [
        "print('The optimal value of the objective function is:',m2a.credits())\n",
        "for i in range(11):\n",
        "  print('The value of c%d is'%i,m2a.c[i]())"
      ],
      "execution_count": 76,
      "outputs": [
        {
          "output_type": "stream",
          "text": [
            "The optimal value of the objective function is: 41.0\n",
            "The value of c0 is 1.0\n",
            "The value of c1 is 1.0\n",
            "The value of c2 is 0.0\n",
            "The value of c3 is 1.0\n",
            "The value of c4 is 1.0\n",
            "The value of c5 is 0.0\n",
            "The value of c6 is 1.0\n",
            "The value of c7 is 1.0\n",
            "The value of c8 is 1.0\n",
            "The value of c9 is 0.0\n",
            "The value of c10 is 1.0\n"
          ],
          "name": "stdout"
        }
      ]
    },
    {
      "cell_type": "markdown",
      "metadata": {
        "id": "rk3IjKWnK-_t"
      },
      "source": [
        "**Q5)**"
      ]
    },
    {
      "cell_type": "markdown",
      "metadata": {
        "id": "3Dn_yDhxLFAz"
      },
      "source": [
        "For this particular problem, solution to MILP and solution to LP is common.\n",
        "Hence we can obtain solution by rounding off solution of LP.\n",
        "However this is not true in general."
      ]
    },
    {
      "cell_type": "code",
      "metadata": {
        "id": "IuM_1KyTuIeK"
      },
      "source": [
        ""
      ],
      "execution_count": 76,
      "outputs": []
    },
    {
      "cell_type": "markdown",
      "metadata": {
        "id": "XUK7KLIBJYwy"
      },
      "source": [
        "**Q6)**"
      ]
    },
    {
      "cell_type": "markdown",
      "metadata": {
        "id": "8zd6KQA_Jdrl"
      },
      "source": [
        "The given problem can be modified as follows:\\\n",
        "\n",
        "Let r = [3,2,6,5,5,4,6,8,8,5,4,9]\n",
        "\n",
        "$ \\text{Decision  variables} : c_i  \\; \\qquad i = 0,1,2,3....11$ \\\n",
        "Where $c_i$ denoted registration in course Ci ($c_0$ denotes registration in course C0 etc)\\\n",
        "\n",
        "\n",
        "$ \\text{Maximize} \\sum_{i=0}^{11} c_ir_i$\n",
        "\n",
        "S.T\\\n",
        "\\begin{align}\n",
        "c_2 + c_7 \\leq 1, \\\\\n",
        "c_4 + c_9 \\leq 1, \\\\\n",
        "c_2 + c_8 \\leq 1, \\\\\n",
        "c_0 + c_1 + c_2 \\leq 2,\\\\\n",
        "c_5 + c_6 \\leq 1,\\\\\n",
        "c_3+ c_6+ c_9 \\leq 2,\\\\\n",
        "c_{11} + c_7 \\leq 1,\\\\\n",
        "c_{11} + c_8 \\leq 1, \\\\\n",
        "c_{11} + c_9 \\leq 1, \\\\\n",
        "\\sum_{i=0}^{11} c_i \\leq 9,\\\\\n",
        "c_{10} - c_0 \\leq 0, \\\\\n",
        "c_0 + c_1 + c_2 \\geq 1,\\\\\n",
        "\\sum_{i=0}^{11} c_ir_i \\geq 30,\\\\\n",
        "\\sum_{i=0}^{11} c_i \\geq 5,\\\\\n",
        "c_i \\in \\{0,1\\} \\qquad i = 0,1,2 ... 11 \n",
        "\\end{align}\n",
        "\n",
        "Where $c_i = 1$ if course Ci is registered for , and $c_i = 0$ otherwise\\\n",
        "And $r_i$ is the $(i+1)^{th}$ element of r"
      ]
    },
    {
      "cell_type": "code",
      "metadata": {
        "id": "qtGfRqeA2qSd"
      },
      "source": [
        ""
      ],
      "execution_count": 76,
      "outputs": []
    },
    {
      "cell_type": "markdown",
      "metadata": {
        "id": "RsedagEp2qq3"
      },
      "source": [
        "**Q7)**"
      ]
    },
    {
      "cell_type": "code",
      "metadata": {
        "id": "ZUI_GGL92uQr"
      },
      "source": [
        "m2b = m2.clone()\n",
        "m2b.c11 = Var(domain = Binary)\n",
        "m2b.cons.add(m2b.c[7] + m2b.c11<=1)\n",
        "m2b.cons.add(m2b.c[8] + m2b.c11<=1)\n",
        "m2b.cons.add(m2b.c[9] + m2b.c11<=1)\n",
        "\n",
        "m2b.cred2= Objective(expr=summation(r,m2b.c)+9*m2b.c11, sense=maximize)\n",
        "m2b.credits.deactivate()"
      ],
      "execution_count": 77,
      "outputs": []
    },
    {
      "cell_type": "code",
      "metadata": {
        "id": "mDJpaO-_5w_H"
      },
      "source": [
        "optb = cbc.solve(m2b)\n",
        "#optb.write()"
      ],
      "execution_count": 78,
      "outputs": []
    },
    {
      "cell_type": "code",
      "metadata": {
        "colab": {
          "base_uri": "https://localhost:8080/"
        },
        "id": "51v-pzGT8GN4",
        "outputId": "87605119-206b-4541-e782-93e413d325e8"
      },
      "source": [
        "print('The optimal value of the objective function is:',m2b.cred2())\n",
        "for i in range(11):\n",
        "  print('The value of c%d is'%i,m2b.c[i]())\n",
        "\n",
        "print('The value of c11 is',m2b.c11())\n",
        "\n"
      ],
      "execution_count": 79,
      "outputs": [
        {
          "output_type": "stream",
          "text": [
            "The optimal value of the objective function is: 41.0\n",
            "The value of c0 is 1.0\n",
            "The value of c1 is 1.0\n",
            "The value of c2 is 0.0\n",
            "The value of c3 is 1.0\n",
            "The value of c4 is 1.0\n",
            "The value of c5 is 0.0\n",
            "The value of c6 is 1.0\n",
            "The value of c7 is 1.0\n",
            "The value of c8 is 1.0\n",
            "The value of c9 is 0.0\n",
            "The value of c10 is 1.0\n",
            "The value of c11 is 0.0\n"
          ],
          "name": "stdout"
        }
      ]
    },
    {
      "cell_type": "code",
      "metadata": {
        "id": "hX20rJeT-7Ml"
      },
      "source": [
        "m2c = m2b.clone()"
      ],
      "execution_count": 80,
      "outputs": []
    },
    {
      "cell_type": "code",
      "metadata": {
        "id": "QiN0kSGO--dW"
      },
      "source": [
        "m2c.c.domain = PositiveReals\n",
        "m2c.c11.domain= PositiveReals\n",
        "\n",
        "\n",
        "m2c.c.setub(1)\n",
        "m2c.c11.setlb(0)\n",
        "m2c.c11.setub(1)"
      ],
      "execution_count": 81,
      "outputs": []
    },
    {
      "cell_type": "code",
      "metadata": {
        "id": "dVw2t-PW_YPI"
      },
      "source": [
        "optc = cbc.solve(m2c)\n",
        "#optc.write()"
      ],
      "execution_count": 82,
      "outputs": []
    },
    {
      "cell_type": "markdown",
      "metadata": {
        "id": "bueK3tDRIKjh"
      },
      "source": [
        "**Q8)**"
      ]
    },
    {
      "cell_type": "code",
      "metadata": {
        "colab": {
          "base_uri": "https://localhost:8080/"
        },
        "id": "rOnpCFjW_pMd",
        "outputId": "04f2a3d3-5c59-43dd-8e1f-cf88d0db68fc"
      },
      "source": [
        "print('The optimal value of the objective function is:',m2c.cred2())\n",
        "for i in range(11):\n",
        "  print('The value of c%d is'%i,m2c.c[i]())\n",
        "print('The value of c11 is',m2c.c11())\n",
        "    "
      ],
      "execution_count": 83,
      "outputs": [
        {
          "output_type": "stream",
          "text": [
            "The optimal value of the objective function is: 41.0\n",
            "The value of c0 is 1.0\n",
            "The value of c1 is 1.0\n",
            "The value of c2 is 0.0\n",
            "The value of c3 is 1.0\n",
            "The value of c4 is 1.0\n",
            "The value of c5 is 0.0\n",
            "The value of c6 is 1.0\n",
            "The value of c7 is 1.0\n",
            "The value of c8 is 1.0\n",
            "The value of c9 is 0.0\n",
            "The value of c10 is 1.0\n",
            "The value of c11 is 0.0\n"
          ],
          "name": "stdout"
        }
      ]
    },
    {
      "cell_type": "markdown",
      "metadata": {
        "id": "PvL6RAPyTnD4"
      },
      "source": [
        "For this particular problem, solution to MILP and solution to LP is common.\n",
        "Hence we can obtain solution by rounding off solution of LP.\n",
        "However this is not true in general."
      ]
    },
    {
      "cell_type": "code",
      "metadata": {
        "id": "zLbRcvQ4_-HC"
      },
      "source": [
        ""
      ],
      "execution_count": 83,
      "outputs": []
    },
    {
      "cell_type": "code",
      "metadata": {
        "id": "fd8ceQqbACP5"
      },
      "source": [
        ""
      ],
      "execution_count": 83,
      "outputs": []
    }
  ]
}
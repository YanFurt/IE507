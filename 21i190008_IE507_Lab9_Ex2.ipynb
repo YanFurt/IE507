{
  "nbformat": 4,
  "nbformat_minor": 0,
  "metadata": {
    "colab": {
      "name": "21i190008_IE507_Lab9_Ex2.ipynb",
      "provenance": [],
      "collapsed_sections": []
    },
    "kernelspec": {
      "name": "python3",
      "display_name": "Python 3"
    },
    "language_info": {
      "name": "python"
    }
  },
  "cells": [
    {
      "cell_type": "code",
      "metadata": {
        "colab": {
          "base_uri": "https://localhost:8080/"
        },
        "id": "YYgXsbaD5wP9",
        "outputId": "0adc428e-139a-4925-f3b8-26c6c1af0d0d"
      },
      "source": [
        "%%bash\n",
        "rm -fv ipopt*\n",
        "apt install -q -yy libgfortran5\n",
        "sleep 1\n",
        "wget -q https://www.ieor.iitb.ac.in/files/faculty/amahajan/ipopt\n",
        "wget -q https://www.ieor.iitb.ac.in/files/faculty/amahajan/test.nl\n",
        "chmod u+rx ipopt"
      ],
      "execution_count": 1,
      "outputs": [
        {
          "output_type": "stream",
          "name": "stdout",
          "text": [
            "Reading package lists...\n",
            "Building dependency tree...\n",
            "Reading state information...\n",
            "The following NEW packages will be installed:\n",
            "  libgfortran5\n",
            "0 upgraded, 1 newly installed, 0 to remove and 37 not upgraded.\n",
            "Need to get 589 kB of archives.\n",
            "After this operation, 2,660 kB of additional disk space will be used.\n",
            "Get:1 http://archive.ubuntu.com/ubuntu bionic-updates/universe amd64 libgfortran5 amd64 8.4.0-1ubuntu1~18.04 [589 kB]\n",
            "Fetched 589 kB in 1s (412 kB/s)\n",
            "Selecting previously unselected package libgfortran5:amd64.\r\n",
            "(Reading database ... \r(Reading database ... 5%\r(Reading database ... 10%\r(Reading database ... 15%\r(Reading database ... 20%\r(Reading database ... 25%\r(Reading database ... 30%\r(Reading database ... 35%\r(Reading database ... 40%\r(Reading database ... 45%\r(Reading database ... 50%\r(Reading database ... 55%\r(Reading database ... 60%\r(Reading database ... 65%\r(Reading database ... 70%\r(Reading database ... 75%\r(Reading database ... 80%\r(Reading database ... 85%\r(Reading database ... 90%\r(Reading database ... 95%\r(Reading database ... 100%\r(Reading database ... 155047 files and directories currently installed.)\r\n",
            "Preparing to unpack .../libgfortran5_8.4.0-1ubuntu1~18.04_amd64.deb ...\r\n",
            "Unpacking libgfortran5:amd64 (8.4.0-1ubuntu1~18.04) ...\r\n",
            "Setting up libgfortran5:amd64 (8.4.0-1ubuntu1~18.04) ...\r\n",
            "Processing triggers for libc-bin (2.27-3ubuntu1.3) ...\r\n",
            "/sbin/ldconfig.real: /usr/local/lib/python3.7/dist-packages/ideep4py/lib/libmkldnn.so.0 is not a symbolic link\r\n",
            "\r\n"
          ]
        },
        {
          "output_type": "stream",
          "name": "stderr",
          "text": [
            "\n",
            "WARNING: apt does not have a stable CLI interface. Use with caution in scripts.\n",
            "\n"
          ]
        }
      ]
    },
    {
      "cell_type": "code",
      "metadata": {
        "colab": {
          "base_uri": "https://localhost:8080/"
        },
        "id": "i1Ng3yHL6vJf",
        "outputId": "2a2dd092-d159-4ccc-984b-0015c17b57a6"
      },
      "source": [
        "!pip install -q pyomo"
      ],
      "execution_count": 2,
      "outputs": [
        {
          "output_type": "stream",
          "name": "stdout",
          "text": [
            "\u001b[K     |████████████████████████████████| 9.1 MB 4.7 MB/s \n",
            "\u001b[K     |████████████████████████████████| 49 kB 6.0 MB/s \n",
            "\u001b[?25h"
          ]
        }
      ]
    },
    {
      "cell_type": "markdown",
      "metadata": {
        "id": "h8laYQ2mxmYG"
      },
      "source": [
        "##1)"
      ]
    },
    {
      "cell_type": "markdown",
      "metadata": {
        "id": "NtP7J76hvbur"
      },
      "source": [
        "\n",
        "Let position of lake end be denoted by $(x_l, y_l)$\\\n",
        "Let position of farm end be denoted by $(x_f, y_f)$\n",
        "\n",
        "Shreyas will want to minimize total length of the pipe. This length is equal to distance between ends of the pipe.\n",
        "hence, total length is \n",
        "$ \\sqrt{(x_l - x_f)^2 + (y_l - y_f)^2}$\n",
        "\n",
        "if we consider his house to be at (0,0), his farm can be represented as the area bounded by the 4 lines:\n",
        "\n",
        "$\\begin{align}\n",
        "x + 3y &= 0,\\\\\n",
        "x - y &= 0,\\\\\n",
        "x - y - 200 &= 0,\\\\\n",
        "x + y + 200 &= 0,\n",
        "\\end{align}$\n",
        "\\\n",
        "And the lake can be denoted by the eqn:\n",
        "$(x - 200)^2 + (y - 200)^2 = 2500$\n",
        "\n",
        "The constraints are that  $(x_f, y_f)$ should fall in the bounded region, and  $(x_l, y_l)$ should lie in the lake region"
      ]
    },
    {
      "cell_type": "markdown",
      "metadata": {
        "id": "E3QcPkUzEQKP"
      },
      "source": [
        "Decision variables: $x_l, y_l, x_f,y_f$\n",
        "\n",
        "Objective: $\\text{Minimize   } \\sqrt{(x_l - x_f)^2 + (y_l - y_f)^2}$\\\n",
        "S.T\\\n",
        "$\\begin{align}\n",
        "x_f + 3y_f &\\leq 0,\\\\\n",
        "x_f - y_f &\\geq 0,\\\\\n",
        "x_f - y_f - 200 &\\leq 0,\\\\\n",
        "x_f + y_f + 200 &\\geq 0,\\\\\n",
        "(x_l - 200)^2 + (y_l - 200)^2 &\\leq 2500,\n",
        "\\end{align}$"
      ]
    },
    {
      "cell_type": "code",
      "metadata": {
        "id": "N9ebptKuGQfS"
      },
      "source": [
        "import numpy as np\n",
        "from pyomo.environ import *"
      ],
      "execution_count": 3,
      "outputs": []
    },
    {
      "cell_type": "code",
      "metadata": {
        "id": "UTqQ70lrGRz_"
      },
      "source": [
        ""
      ],
      "execution_count": 3,
      "outputs": []
    },
    {
      "cell_type": "code",
      "metadata": {
        "id": "y1E6QMzEGp5Z"
      },
      "source": [
        "m2 = ConcreteModel()\n",
        "m2.xl = Var()\n",
        "m2.yl = Var()\n",
        "m2.xf = Var()\n",
        "m2.yf = Var()\n",
        "\n",
        "m2.c = ConstraintList()\n",
        "m2.c.add(expr= m2.xf + 3*m2.yf <= 0)\n",
        "m2.c.add(expr= m2.xf - m2.yf >= 0)\n",
        "m2.c.add(expr= m2.xf - m2.yf - 200 <= 0)\n",
        "m2.c.add(expr= m2.xf + m2.yf + 200 >= 0)\n",
        "m2.c.add(expr= (m2.xl - 200)**2 + (m2.yl - 200)**2 <= 2500)\n",
        "\n",
        "m2.obj = Objective(expr=sqrt((m2.xl-m2.xf)**2 + (m2.yl - m2.yf)**2+1e-8))\n",
        "#adding small epsilon e-8 to avoid chance of 0 coming in square root expression while iterating as this would make the derivative at that point undefined"
      ],
      "execution_count": 4,
      "outputs": []
    },
    {
      "cell_type": "code",
      "metadata": {
        "id": "egbPXGt9IML8"
      },
      "source": [
        "solver = SolverFactory('ipopt')\n",
        "res1 = solver.solve(m2)"
      ],
      "execution_count": 5,
      "outputs": []
    },
    {
      "cell_type": "code",
      "metadata": {
        "colab": {
          "base_uri": "https://localhost:8080/"
        },
        "id": "go4Lo3ICJEYW",
        "outputId": "4273ab4d-11ab-422d-951c-7397d1b01691"
      },
      "source": [
        "print('\\nDecision Variables')\n",
        "print('xl = ', m2.xl.value)  \n",
        "print('yl = ', m2.yl.value) \n",
        "print('xf = ', m2.xf.value)  \n",
        "print('yf = ', m2.yf.value) "
      ],
      "execution_count": 6,
      "outputs": [
        {
          "output_type": "stream",
          "name": "stdout",
          "text": [
            "\n",
            "Decision Variables\n",
            "xl =  184.18861161834127\n",
            "yl =  152.56583486353156\n",
            "xf =  119.9999999872941\n",
            "yf =  -39.999999995072876\n"
          ]
        }
      ]
    },
    {
      "cell_type": "code",
      "metadata": {
        "colab": {
          "base_uri": "https://localhost:8080/"
        },
        "id": "xR61W2qjIm4n",
        "outputId": "1faa38bb-3491-42ad-ddc9-8c06d4519fe8"
      },
      "source": [
        "print('The minimum length of pipe is ',m2.obj())"
      ],
      "execution_count": 7,
      "outputs": [
        {
          "output_type": "stream",
          "name": "stdout",
          "text": [
            "The minimum length of pipe is  202.98221256534453\n"
          ]
        }
      ]
    },
    {
      "cell_type": "markdown",
      "metadata": {
        "id": "HgRDF7rMvGXb"
      },
      "source": [
        "##3)"
      ]
    },
    {
      "cell_type": "markdown",
      "metadata": {
        "id": "RgrC9lE6LP1Z"
      },
      "source": [
        "One end of the pipe should be placed 40m south and 120m east of his house, and the other end should be placed 184.18m east and 152.56m north of this house."
      ]
    },
    {
      "cell_type": "markdown",
      "metadata": {
        "id": "n0wA3eDuu6Cq"
      },
      "source": [
        "##4)"
      ]
    },
    {
      "cell_type": "markdown",
      "metadata": {
        "id": "wAdcY2eYszIF"
      },
      "source": [
        "Let position of junction be denoted by $(x_j, y_j)$\\\n",
        "Let position of lake end be denoted by $(x_l, y_l)$\\\n",
        "Let position of farm end be denoted by $(x_f, y_f)$\n",
        "\n",
        "Shreyas will want to minimize total cost to set up the pipe. This cost is proportional to length of each part of the pipe. if we assume 1 m of regular pipe costs 1 unit, then 1m of the storehouse pipe will be 0.2 units.\n",
        "hence, total cost is \n",
        "$ \\sqrt{(x_l - x_j)^2 + (y_l - y_j)^2} + \\sqrt{(x_j - x_f)^2 + (y_j - y_f)^2} +0.2\\sqrt{(15 - x_f)^2 + (20 - y_f)^2}$\n",
        "\n",
        "The constraints are same as in Q1"
      ]
    },
    {
      "cell_type": "markdown",
      "metadata": {
        "id": "kl8mWAz6szSv"
      },
      "source": [
        "Problem:\n",
        "\n",
        "Decision variables: $x_l, y_l, x_f,y_f, x_j, y_j$\n",
        "\n",
        "Objective: $\\text{Minimize   } \\sqrt{(x_l - x_f)^2 + (y_l - y_f)^2} + \\sqrt{(x_l - x_f)^2 + (y_l - y_f)^2} +0.2\\sqrt{(x_l - x_f)^2 + (y_l - y_f)^2}$\\\n",
        "S.T\\\n",
        "$\\begin{align}\n",
        "x_f + 3y_f &\\leq 0,\\\\\n",
        "x_f - y_f &\\geq 0,\\\\\n",
        "x_f - y_f - 200 &\\leq 0,\\\\\n",
        "x_f + y_f + 200 &\\geq 0,\\\\\n",
        "(x_l - 200)^2 + (y_l - 200)^2 &\\leq 2500,\n",
        "\\end{align}$"
      ]
    },
    {
      "cell_type": "code",
      "metadata": {
        "id": "YIbgkQ9oPkpA"
      },
      "source": [
        "m21 = ConcreteModel()"
      ],
      "execution_count": 8,
      "outputs": []
    },
    {
      "cell_type": "code",
      "metadata": {
        "id": "VO1ttnj-QpCz"
      },
      "source": [
        "m21.xl = Var()\n",
        "m21.yl = Var()\n",
        "m21.xf = Var()\n",
        "m21.yf = Var()\n",
        "m21.xj = Var()\n",
        "m21.yj = Var()\n"
      ],
      "execution_count": 9,
      "outputs": []
    },
    {
      "cell_type": "code",
      "metadata": {
        "id": "ILSzplG8QxI1"
      },
      "source": [
        "m21.c = ConstraintList()\n",
        "m21.c.add(expr= m21.xf + 3*m21.yf <= 0)\n",
        "m21.c.add(expr= m21.xf - m21.yf >= 0)\n",
        "m21.c.add(expr= m21.xf - m21.yf - 200 <= 0)\n",
        "m21.c.add(expr= m21.xf + m21.yf + 200 >= 0)\n",
        "\n",
        "m21.c.add(expr= (m21.xl - 200)**2 + (m21.yl -200)**2 <= 2500)\n",
        "\n",
        "\n",
        "m21.obj = Objective(expr=sqrt((m21.xl-m21.xj)**2 + (m21.yl - m21.yj)**2 + 1e-8) + sqrt((m21.xf-m21.xj)**2 + (m21.yf - m21.yj)**2+1e-8) + 0.2*sqrt((15-m21.xj)**2 + 0.2*(20-m21.yj)**2 +1e-8))\n",
        "#adding small epsilon e-8 to avoid chance of 0 coming in square root expression while iterating as this would make the derivative at that point undefined"
      ],
      "execution_count": 10,
      "outputs": []
    },
    {
      "cell_type": "code",
      "metadata": {
        "id": "lID4P-6FR33M"
      },
      "source": [
        "res3 = solver.solve(m21)\n",
        "#res3.write()"
      ],
      "execution_count": 11,
      "outputs": []
    },
    {
      "cell_type": "code",
      "metadata": {
        "colab": {
          "base_uri": "https://localhost:8080/"
        },
        "id": "nfFy18XpZPzB",
        "outputId": "154d24a0-cdd4-4b44-a719-e1a9d2750247"
      },
      "source": [
        "print('\\nDecision Variables')\n",
        "print('xl = ', m21.xl.value)  \n",
        "print('yl = ', m21.yl.value) \n",
        "print('xf = ', m21.xf.value)  \n",
        "print('yf = ', m21.yf.value)\n",
        "print('xj = ', m21.xj.value)  \n",
        "print('yj = ', m21.yj.value)  "
      ],
      "execution_count": 12,
      "outputs": [
        {
          "output_type": "stream",
          "name": "stdout",
          "text": [
            "\n",
            "Decision Variables\n",
            "xl =  175.51860079928036\n",
            "yl =  156.40342768147465\n",
            "xf =  73.86507362814709\n",
            "yf =  -24.62169120883139\n",
            "xj =  73.86516918555895\n",
            "yj =  -24.621404536595765\n"
          ]
        }
      ]
    },
    {
      "cell_type": "markdown",
      "metadata": {
        "id": "vc726dgazRBp"
      },
      "source": [
        "##6)"
      ]
    },
    {
      "cell_type": "markdown",
      "metadata": {
        "id": "M03RypBvycWw"
      },
      "source": [
        "The lake end should be 156.4m north and 175.5m east of the house. The farm end should be 73m east and 24.62m south of the house. The junction should be in the same location as the farm end.\n",
        "(Practically speaking, the junction should be as close as possible to the the farm end)"
      ]
    },
    {
      "cell_type": "code",
      "metadata": {
        "id": "g3wn1Ttzme7K"
      },
      "source": [
        ""
      ],
      "execution_count": 12,
      "outputs": []
    }
  ]
}
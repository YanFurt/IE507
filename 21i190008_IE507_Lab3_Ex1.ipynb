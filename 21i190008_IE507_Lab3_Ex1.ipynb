{
  "nbformat": 4,
  "nbformat_minor": 0,
  "metadata": {
    "colab": {
      "name": "21i190008_Lab3_Ex1.ipynb",
      "provenance": [],
      "collapsed_sections": []
    },
    "kernelspec": {
      "name": "python3",
      "display_name": "Python 3"
    },
    "language_info": {
      "name": "python"
    }
  },
  "cells": [
    {
      "cell_type": "code",
      "metadata": {
        "id": "LzPgnNlxZpDH",
        "colab": {
          "base_uri": "https://localhost:8080/"
        },
        "outputId": "d352ae5a-e0b8-4aff-ed6c-accf5ed495f4"
      },
      "source": [
        "!pip install -q pyomo\n",
        "!apt-get install -y -qq glpk-utils\n",
        "!apt-get install -y -qq coinor-cbc"
      ],
      "execution_count": 1,
      "outputs": [
        {
          "output_type": "stream",
          "text": [
            "\u001b[K     |████████████████████████████████| 9.1 MB 15.5 MB/s \n",
            "\u001b[K     |████████████████████████████████| 49 kB 5.1 MB/s \n",
            "\u001b[?25hSelecting previously unselected package libsuitesparseconfig5:amd64.\n",
            "(Reading database ... 148486 files and directories currently installed.)\n",
            "Preparing to unpack .../libsuitesparseconfig5_1%3a5.1.2-2_amd64.deb ...\n",
            "Unpacking libsuitesparseconfig5:amd64 (1:5.1.2-2) ...\n",
            "Selecting previously unselected package libamd2:amd64.\n",
            "Preparing to unpack .../libamd2_1%3a5.1.2-2_amd64.deb ...\n",
            "Unpacking libamd2:amd64 (1:5.1.2-2) ...\n",
            "Selecting previously unselected package libcolamd2:amd64.\n",
            "Preparing to unpack .../libcolamd2_1%3a5.1.2-2_amd64.deb ...\n",
            "Unpacking libcolamd2:amd64 (1:5.1.2-2) ...\n",
            "Selecting previously unselected package libglpk40:amd64.\n",
            "Preparing to unpack .../libglpk40_4.65-1_amd64.deb ...\n",
            "Unpacking libglpk40:amd64 (4.65-1) ...\n",
            "Selecting previously unselected package glpk-utils.\n",
            "Preparing to unpack .../glpk-utils_4.65-1_amd64.deb ...\n",
            "Unpacking glpk-utils (4.65-1) ...\n",
            "Setting up libsuitesparseconfig5:amd64 (1:5.1.2-2) ...\n",
            "Setting up libcolamd2:amd64 (1:5.1.2-2) ...\n",
            "Setting up libamd2:amd64 (1:5.1.2-2) ...\n",
            "Setting up libglpk40:amd64 (4.65-1) ...\n",
            "Setting up glpk-utils (4.65-1) ...\n",
            "Processing triggers for libc-bin (2.27-3ubuntu1.2) ...\n",
            "/sbin/ldconfig.real: /usr/local/lib/python3.7/dist-packages/ideep4py/lib/libmkldnn.so.0 is not a symbolic link\n",
            "\n",
            "Processing triggers for man-db (2.8.3-2ubuntu0.1) ...\n",
            "Selecting previously unselected package coinor-libcoinutils3v5.\n",
            "(Reading database ... 148689 files and directories currently installed.)\n",
            "Preparing to unpack .../0-coinor-libcoinutils3v5_2.10.14+repack1-1_amd64.deb ...\n",
            "Unpacking coinor-libcoinutils3v5 (2.10.14+repack1-1) ...\n",
            "Selecting previously unselected package coinor-libosi1v5.\n",
            "Preparing to unpack .../1-coinor-libosi1v5_0.107.9+repack1-1_amd64.deb ...\n",
            "Unpacking coinor-libosi1v5 (0.107.9+repack1-1) ...\n",
            "Selecting previously unselected package coinor-libclp1.\n",
            "Preparing to unpack .../2-coinor-libclp1_1.16.11+repack1-1_amd64.deb ...\n",
            "Unpacking coinor-libclp1 (1.16.11+repack1-1) ...\n",
            "Selecting previously unselected package coinor-libcgl1.\n",
            "Preparing to unpack .../3-coinor-libcgl1_0.59.10+repack1-1_amd64.deb ...\n",
            "Unpacking coinor-libcgl1 (0.59.10+repack1-1) ...\n",
            "Selecting previously unselected package coinor-libcbc3.\n",
            "Preparing to unpack .../4-coinor-libcbc3_2.9.9+repack1-1_amd64.deb ...\n",
            "Unpacking coinor-libcbc3 (2.9.9+repack1-1) ...\n",
            "Selecting previously unselected package coinor-cbc.\n",
            "Preparing to unpack .../5-coinor-cbc_2.9.9+repack1-1_amd64.deb ...\n",
            "Unpacking coinor-cbc (2.9.9+repack1-1) ...\n",
            "Setting up coinor-libcoinutils3v5 (2.10.14+repack1-1) ...\n",
            "Setting up coinor-libosi1v5 (0.107.9+repack1-1) ...\n",
            "Setting up coinor-libclp1 (1.16.11+repack1-1) ...\n",
            "Setting up coinor-libcgl1 (0.59.10+repack1-1) ...\n",
            "Setting up coinor-libcbc3 (2.9.9+repack1-1) ...\n",
            "Setting up coinor-cbc (2.9.9+repack1-1) ...\n",
            "Processing triggers for man-db (2.8.3-2ubuntu0.1) ...\n",
            "Processing triggers for libc-bin (2.27-3ubuntu1.2) ...\n",
            "/sbin/ldconfig.real: /usr/local/lib/python3.7/dist-packages/ideep4py/lib/libmkldnn.so.0 is not a symbolic link\n",
            "\n"
          ],
          "name": "stdout"
        }
      ]
    },
    {
      "cell_type": "code",
      "metadata": {
        "id": "33GVPFxgZ3Pm"
      },
      "source": [
        "from pyomo.environ import *\n",
        "import numpy as np\n",
        "\n"
      ],
      "execution_count": 2,
      "outputs": []
    },
    {
      "cell_type": "code",
      "metadata": {
        "id": "4m1HPr3maLC1"
      },
      "source": [
        "m1 = ConcreteModel()\n",
        "cons_rhs = np.array([10,-3,-6])\n",
        "n = 3\n",
        "m = 3\n",
        "\n",
        "cons_coef = np.array([[2,1,2],[-1,1,2],[2,-3,1]])\n",
        "obj_coefs = [1,-2,3]\n",
        "varlb = np.array([1,2,1])\n",
        "varub =np.array([np.inf,np.inf,np.inf])\n",
        "\n",
        "rows = np.arange(n)\n",
        "cols=np.arange(m)"
      ],
      "execution_count": 3,
      "outputs": []
    },
    {
      "cell_type": "code",
      "metadata": {
        "id": "g-d5sFcpbqwD"
      },
      "source": [
        "m1.cons = ConstraintList()\n",
        "m1.x = Var(cols)\n",
        "for i in rows:\n",
        "  m1.cons.add(sum(cons_coef[i][j]*m1.x[j] for j in cols) <= cons_rhs[i])\n",
        "\n",
        "for i in cols:\n",
        "  m1.x[i].setub(varub[i])\n",
        "  m1.x[i].setlb(varlb[i])  \n"
      ],
      "execution_count": 4,
      "outputs": []
    },
    {
      "cell_type": "code",
      "metadata": {
        "id": "iMrDGgNscveg"
      },
      "source": [
        "m1.cost = Objective(expr = summation(obj_coefs,m1.x), sense = minimize)"
      ],
      "execution_count": 5,
      "outputs": []
    },
    {
      "cell_type": "markdown",
      "metadata": {
        "id": "H3j4deTHVr1S"
      },
      "source": [
        "**Q1)**"
      ]
    },
    {
      "cell_type": "code",
      "metadata": {
        "colab": {
          "base_uri": "https://localhost:8080/"
        },
        "id": "RRx_iNm1dcI0",
        "outputId": "dd63ad2b-9a91-466a-b91e-c7e9acdcaf0a"
      },
      "source": [
        "opt = SolverFactory('glpk', executable='/usr/bin/glpsol').solve(m1)\n",
        "#opt.write()\n",
        "print('Solver status:',opt.solver.status)\n",
        "print('Termination condition:',opt.solver.termination_condition)\n"
      ],
      "execution_count": 6,
      "outputs": [
        {
          "output_type": "stream",
          "text": [
            "Solver status: ok\n",
            "Termination condition: other\n"
          ],
          "name": "stdout"
        }
      ]
    },
    {
      "cell_type": "markdown",
      "metadata": {
        "id": "zm-lYXgY5ECL"
      },
      "source": [
        "Solver status ok suggests that the program was terminated normally\\\n",
        "Termination condition other means that an optimal solution was not found, but it does not specify the reason there was no solution."
      ]
    },
    {
      "cell_type": "code",
      "metadata": {
        "colab": {
          "base_uri": "https://localhost:8080/"
        },
        "id": "UTJTm5L-dqeS",
        "outputId": "602a82da-42ca-4a79-acbe-b93abebdc8ea"
      },
      "source": [
        "optcbc =  SolverFactory('cbc').solve(m1)\n",
        "#optcbc.write()\n",
        "print('Solver status:',optcbc.solver.status)\n",
        "print('Termination condition:',optcbc.solver.termination_condition)\n"
      ],
      "execution_count": 7,
      "outputs": [
        {
          "output_type": "stream",
          "text": [
            "WARNING: Loading a SolverResults object with a warning status into\n",
            "    model.name=\"unknown\";\n",
            "      - termination condition: infeasible\n",
            "      - message from solver: <undefined>\n",
            "Solver status: warning\n",
            "Termination condition: infeasible\n"
          ],
          "name": "stdout"
        }
      ]
    },
    {
      "cell_type": "markdown",
      "metadata": {
        "id": "FY7g4hfr66DD"
      },
      "source": [
        "Solver status warning suggests that the problem could not be solved\\\n",
        "Termination condition infeasible means that an optimal solution was not found,since there was no solution that satisfied all constraints\n"
      ]
    },
    {
      "cell_type": "markdown",
      "metadata": {
        "id": "m77Rg9f-bB2j"
      },
      "source": [
        "For cbc solver the solver status is not completely meaningful, since it doesn't tell us what the warning is for."
      ]
    },
    {
      "cell_type": "code",
      "metadata": {
        "id": "Hwwkgno1bSvG"
      },
      "source": [
        ""
      ],
      "execution_count": 7,
      "outputs": []
    },
    {
      "cell_type": "markdown",
      "metadata": {
        "id": "yg5ZpWtJyBRZ"
      },
      "source": [
        "### **Q2**"
      ]
    },
    {
      "cell_type": "markdown",
      "metadata": {
        "id": "fNqjJ_61yICa"
      },
      "source": [
        "**A)**"
      ]
    },
    {
      "cell_type": "code",
      "metadata": {
        "id": "PLBKEsHEepTl"
      },
      "source": [
        "m1a = m1.clone()\n",
        "\n",
        "m1a.cost.set_sense(maximize)\n"
      ],
      "execution_count": 8,
      "outputs": []
    },
    {
      "cell_type": "code",
      "metadata": {
        "colab": {
          "base_uri": "https://localhost:8080/"
        },
        "id": "VNjwWbGFg-h8",
        "outputId": "8f991eed-15c6-41a9-fa22-9591346441b0"
      },
      "source": [
        "cbca =  SolverFactory('cbc').solve(m1a)\n",
        "#cbca.write()\n",
        "print('Solver status:',cbca.solver.status)\n",
        "print('Termination condition:',cbca.solver.termination_condition)"
      ],
      "execution_count": 9,
      "outputs": [
        {
          "output_type": "stream",
          "text": [
            "WARNING: Loading a SolverResults object with a warning status into\n",
            "    model.name=\"unknown\";\n",
            "      - termination condition: infeasible\n",
            "      - message from solver: <undefined>\n",
            "Solver status: warning\n",
            "Termination condition: infeasible\n"
          ],
          "name": "stdout"
        }
      ]
    },
    {
      "cell_type": "markdown",
      "metadata": {
        "id": "hj39KDj_OyKx"
      },
      "source": [
        "Solver status warning suggests that the problem could not be solved\\\n",
        "Termination condition infeasible means that an optimal solution was not found,since there was no solution that satisfied all constraints"
      ]
    },
    {
      "cell_type": "markdown",
      "metadata": {
        "id": "w0P3_bnryhGv"
      },
      "source": [
        "**B**)"
      ]
    },
    {
      "cell_type": "code",
      "metadata": {
        "id": "TCJPtQ_3ySu_"
      },
      "source": [
        "m1b = m1.clone()"
      ],
      "execution_count": 10,
      "outputs": []
    },
    {
      "cell_type": "code",
      "metadata": {
        "id": "QbA9droJjnlY"
      },
      "source": [
        "m1b.x[2].setub(8)"
      ],
      "execution_count": 11,
      "outputs": []
    },
    {
      "cell_type": "code",
      "metadata": {
        "colab": {
          "base_uri": "https://localhost:8080/"
        },
        "id": "UkjDPm6Oy7he",
        "outputId": "bf76c391-7a8d-49fd-e90e-f44a2f28c100"
      },
      "source": [
        "cbcb = SolverFactory('cbc').solve(m1b)\n",
        "#cbcb.write()\n",
        "print('Solver status:',cbcb.solver.status)\n",
        "print('Termination condition:',cbcb.solver.termination_condition)"
      ],
      "execution_count": 12,
      "outputs": [
        {
          "output_type": "stream",
          "text": [
            "WARNING: Loading a SolverResults object with a warning status into\n",
            "    model.name=\"unknown\";\n",
            "      - termination condition: infeasible\n",
            "      - message from solver: <undefined>\n",
            "Solver status: warning\n",
            "Termination condition: infeasible\n"
          ],
          "name": "stdout"
        }
      ]
    },
    {
      "cell_type": "markdown",
      "metadata": {
        "id": "Jdpg69QMQ1iA"
      },
      "source": [
        "Solver status warning suggests that the problem could not be solved\\\n",
        "Termination condition infeasible means that an optimal solution was not found,since there was no solution that satisfied all constraints"
      ]
    },
    {
      "cell_type": "markdown",
      "metadata": {
        "id": "TsWQJovw0PSk"
      },
      "source": [
        "**C)**"
      ]
    },
    {
      "cell_type": "code",
      "metadata": {
        "colab": {
          "base_uri": "https://localhost:8080/"
        },
        "id": "6W_OTaoK0Izc",
        "outputId": "ee5db687-32fe-46ef-ddeb-328ea8a1abf8"
      },
      "source": [
        "m1c = m1.clone()\n",
        "\n",
        "m1c.cons.add(-m1c.x[1]+m1c.x[2]<=9)\n"
      ],
      "execution_count": 13,
      "outputs": [
        {
          "output_type": "execute_result",
          "data": {
            "text/plain": [
              "<pyomo.core.base.constraint._GeneralConstraintData at 0x7f4e3aabe670>"
            ]
          },
          "metadata": {},
          "execution_count": 13
        }
      ]
    },
    {
      "cell_type": "code",
      "metadata": {
        "colab": {
          "base_uri": "https://localhost:8080/"
        },
        "id": "64gOiaMf0lEv",
        "outputId": "3fde6db5-5da6-4b83-cac9-9220f9942f38"
      },
      "source": [
        "cbcc = SolverFactory('cbc').solve(m1c)\n",
        "#cbcc.write()\n",
        "print('Solver status:',cbcc.solver.status)\n",
        "print('Termination condition:',cbcc.solver.termination_condition)"
      ],
      "execution_count": 14,
      "outputs": [
        {
          "output_type": "stream",
          "text": [
            "WARNING: Loading a SolverResults object with a warning status into\n",
            "    model.name=\"unknown\";\n",
            "      - termination condition: infeasible\n",
            "      - message from solver: <undefined>\n",
            "Solver status: warning\n",
            "Termination condition: infeasible\n"
          ],
          "name": "stdout"
        }
      ]
    },
    {
      "cell_type": "markdown",
      "metadata": {
        "id": "IMSZUYVqQ4mT"
      },
      "source": [
        "Solver status warning suggests that the problem could not be solved\\\n",
        "Termination condition infeasible means that an optimal solution was not found,since there was no solution that satisfied all constraints"
      ]
    },
    {
      "cell_type": "markdown",
      "metadata": {
        "id": "bjbrD0cLRMTA"
      },
      "source": [
        "**D)**"
      ]
    },
    {
      "cell_type": "code",
      "metadata": {
        "id": "ndIJHdmjRARb"
      },
      "source": [
        "m1d = m1.clone()\n",
        "\n",
        "m1d.cons.add(m1d.x[0]+m1d.x[1]>=45)\n",
        "m1d.cons[1].deactivate()\n",
        "m1d.cost2 = Objective(expr=m1d.x[0]+m1d.x[1]+m1d.x[2])\n",
        "m1d.cost.deactivate()"
      ],
      "execution_count": 15,
      "outputs": []
    },
    {
      "cell_type": "code",
      "metadata": {
        "colab": {
          "base_uri": "https://localhost:8080/"
        },
        "id": "2GP2XhPt16dn",
        "outputId": "a2907109-1bec-4eab-f27d-20b9ca6580af"
      },
      "source": [
        "cbcd = SolverFactory('cbc').solve(m1d)\n",
        "print('Solver status:',cbcd.solver.status)\n",
        "print('Termination condition:',cbcd.solver.termination_condition)"
      ],
      "execution_count": 16,
      "outputs": [
        {
          "output_type": "stream",
          "text": [
            "Solver status: ok\n",
            "Termination condition: optimal\n"
          ],
          "name": "stdout"
        }
      ]
    },
    {
      "cell_type": "markdown",
      "metadata": {
        "id": "dqwFy1psNuC_"
      },
      "source": [
        "Status 'OK' suggests that the program terminated normally\\\n",
        "Termination condition optimal means that the program terminated because an optimal solution was found"
      ]
    },
    {
      "cell_type": "code",
      "metadata": {
        "colab": {
          "base_uri": "https://localhost:8080/"
        },
        "id": "fD1YNJzm33N0",
        "outputId": "8ba2c268-7a20-4fcb-a0da-20587adefadd"
      },
      "source": [
        "print('Value of objective function is :', m1d.cost2())\n",
        "for i in range(n):\n",
        "  print('the value of x%d is'%(i+1), m1d.x[i].value)"
      ],
      "execution_count": 17,
      "outputs": [
        {
          "output_type": "stream",
          "text": [
            "Value of objective function is : 46.0\n",
            "the value of x1 is 25.6\n",
            "the value of x2 is 19.4\n",
            "the value of x3 is 1.0\n"
          ],
          "name": "stdout"
        }
      ]
    },
    {
      "cell_type": "code",
      "metadata": {
        "id": "k0O7oa8iPOU-",
        "colab": {
          "base_uri": "https://localhost:8080/"
        },
        "outputId": "59e968fc-1487-4759-8599-501ff5004e76"
      },
      "source": [
        "m1d.cons.display()"
      ],
      "execution_count": 18,
      "outputs": [
        {
          "output_type": "stream",
          "text": [
            "cons : Size=4\n",
            "    Key : Lower : Body               : Upper\n",
            "      2 :  None : -4.200000000000003 :  -3.0\n",
            "      3 :  None : -5.999999999999993 :  -6.0\n",
            "      4 :  45.0 :               45.0 :  None\n"
          ],
          "name": "stdout"
        }
      ]
    },
    {
      "cell_type": "code",
      "metadata": {
        "colab": {
          "base_uri": "https://localhost:8080/"
        },
        "id": "q43sJFrdHE1Z",
        "outputId": "c1abd7ca-d275-43ca-fcc5-e20501926d2f"
      },
      "source": [
        "print('The 2nd and 3rd constraints are active.',end=' ')\n",
        "print('(Constraints with keys 3 and 4 respectively)')"
      ],
      "execution_count": 19,
      "outputs": [
        {
          "output_type": "stream",
          "text": [
            "The 2nd and 3rd constraints are active. (Constraints with keys 3 and 4 respectively)\n"
          ],
          "name": "stdout"
        }
      ]
    },
    {
      "cell_type": "code",
      "metadata": {
        "id": "TCW6iypIXg3d"
      },
      "source": [
        ""
      ],
      "execution_count": 20,
      "outputs": []
    },
    {
      "cell_type": "code",
      "metadata": {
        "id": "HyBoQF4tboqJ"
      },
      "source": [
        ""
      ],
      "execution_count": 20,
      "outputs": []
    }
  ]
}
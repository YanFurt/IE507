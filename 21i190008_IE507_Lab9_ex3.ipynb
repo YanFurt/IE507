{
  "nbformat": 4,
  "nbformat_minor": 0,
  "metadata": {
    "colab": {
      "name": "21i190008_IE507_Lab9_ex3.ipynb",
      "provenance": []
    },
    "kernelspec": {
      "name": "python3",
      "display_name": "Python 3"
    },
    "language_info": {
      "name": "python"
    }
  },
  "cells": [
    {
      "cell_type": "code",
      "metadata": {
        "colab": {
          "base_uri": "https://localhost:8080/"
        },
        "id": "52mRDSnPze7b",
        "outputId": "9e9d54c7-7ad9-44cd-b3ff-e68e068d9cce"
      },
      "source": [
        "%%bash\n",
        "rm -fv ipopt*\n",
        "apt install -q -yy libgfortran5\n",
        "sleep 1\n",
        "wget -q https://www.ieor.iitb.ac.in/files/faculty/amahajan/ipopt\n",
        "wget -q https://www.ieor.iitb.ac.in/files/faculty/amahajan/test.nl\n",
        "chmod u+rx ipopt"
      ],
      "execution_count": 1,
      "outputs": [
        {
          "output_type": "stream",
          "name": "stdout",
          "text": [
            "Reading package lists...\n",
            "Building dependency tree...\n",
            "Reading state information...\n",
            "The following NEW packages will be installed:\n",
            "  libgfortran5\n",
            "0 upgraded, 1 newly installed, 0 to remove and 37 not upgraded.\n",
            "Need to get 589 kB of archives.\n",
            "After this operation, 2,660 kB of additional disk space will be used.\n",
            "Get:1 http://archive.ubuntu.com/ubuntu bionic-updates/universe amd64 libgfortran5 amd64 8.4.0-1ubuntu1~18.04 [589 kB]\n",
            "Fetched 589 kB in 0s (6,300 kB/s)\n",
            "Selecting previously unselected package libgfortran5:amd64.\r\n",
            "(Reading database ... \r(Reading database ... 5%\r(Reading database ... 10%\r(Reading database ... 15%\r(Reading database ... 20%\r(Reading database ... 25%\r(Reading database ... 30%\r(Reading database ... 35%\r(Reading database ... 40%\r(Reading database ... 45%\r(Reading database ... 50%\r(Reading database ... 55%\r(Reading database ... 60%\r(Reading database ... 65%\r(Reading database ... 70%\r(Reading database ... 75%\r(Reading database ... 80%\r(Reading database ... 85%\r(Reading database ... 90%\r(Reading database ... 95%\r(Reading database ... 100%\r(Reading database ... 155047 files and directories currently installed.)\r\n",
            "Preparing to unpack .../libgfortran5_8.4.0-1ubuntu1~18.04_amd64.deb ...\r\n",
            "Unpacking libgfortran5:amd64 (8.4.0-1ubuntu1~18.04) ...\r\n",
            "Setting up libgfortran5:amd64 (8.4.0-1ubuntu1~18.04) ...\r\n",
            "Processing triggers for libc-bin (2.27-3ubuntu1.3) ...\r\n",
            "/sbin/ldconfig.real: /usr/local/lib/python3.7/dist-packages/ideep4py/lib/libmkldnn.so.0 is not a symbolic link\r\n",
            "\r\n"
          ]
        },
        {
          "output_type": "stream",
          "name": "stderr",
          "text": [
            "\n",
            "WARNING: apt does not have a stable CLI interface. Use with caution in scripts.\n",
            "\n"
          ]
        }
      ]
    },
    {
      "cell_type": "code",
      "metadata": {
        "colab": {
          "base_uri": "https://localhost:8080/"
        },
        "id": "Pv75ZEDezhyG",
        "outputId": "5507cd1f-f837-4941-97ab-bdda014c6c99"
      },
      "source": [
        "!pip install -q pyomo"
      ],
      "execution_count": 2,
      "outputs": [
        {
          "output_type": "stream",
          "name": "stdout",
          "text": [
            "\u001b[K     |████████████████████████████████| 9.1 MB 13.7 MB/s \n",
            "\u001b[K     |████████████████████████████████| 49 kB 4.6 MB/s \n",
            "\u001b[?25h"
          ]
        }
      ]
    },
    {
      "cell_type": "code",
      "metadata": {
        "id": "JmwXxkXRzkCx"
      },
      "source": [
        "import numpy as np\n",
        "from pyomo.environ import *\n",
        "import pandas as pd\n"
      ],
      "execution_count": 3,
      "outputs": []
    },
    {
      "cell_type": "code",
      "metadata": {
        "id": "ktyYIg1b04c5"
      },
      "source": [
        ""
      ],
      "execution_count": 3,
      "outputs": []
    },
    {
      "cell_type": "markdown",
      "metadata": {
        "id": "6HtpEPGRkMEA"
      },
      "source": [
        "####Squared residue model"
      ]
    },
    {
      "cell_type": "markdown",
      "metadata": {
        "id": "83gUI65s105m"
      },
      "source": [
        "Let \n",
        "P = [175000, 150000, 125000,  90000,  80000, 120000]\\\n",
        "E = [250, 400, 450, 100, 200,  50]\\\n",
        "L = [1800, 2800, 3500,  800,  700,  500]\n",
        "\n",
        "$Let \\ P_i, L_i, E_i\\ \\  \\text{denote the i-th element of  P, L and E respectively}$"
      ]
    },
    {
      "cell_type": "markdown",
      "metadata": {
        "id": "juf9iq5m2FHT"
      },
      "source": [
        "The problem can be formulated as:\n",
        "\n",
        "Decision variables: $b_0,\\ b_1,\\ b_2$\\\n",
        "$minimize \\quad \\sum_{i=1}^{6} (P_i - (b_0 + b_1L_i + b_2E_i))^2$\\\n",
        "S.T\\\n",
        "$ b_0 \\geq 0$"
      ]
    },
    {
      "cell_type": "code",
      "metadata": {
        "id": "L0JRXUMt7WZP"
      },
      "source": [
        "df = pd.read_csv('ex3.csv',index_col=0)\n"
      ],
      "execution_count": 4,
      "outputs": []
    },
    {
      "cell_type": "code",
      "metadata": {
        "id": "zi53Q-IK1-jp"
      },
      "source": [
        "n = 4\n",
        "\n",
        "pri = df[' Pi'].values\n",
        "lot = df['Li'].values\n",
        "elev = df['Ei'].values"
      ],
      "execution_count": 5,
      "outputs": []
    },
    {
      "cell_type": "code",
      "metadata": {
        "id": "hfC-p10L7kn7"
      },
      "source": [
        "m4 = ConcreteModel()\n",
        "m4.b = Var(np.arange(3))\n",
        "m4.b[0].setlb(0)\n",
        "\n",
        "exp = 0\n",
        "for i in range(6):\n",
        "  exp += (pri[i] - (m4.b[0] + m4.b[1]*lot[i] + elev[i]*m4.b[2]))**2"
      ],
      "execution_count": 6,
      "outputs": []
    },
    {
      "cell_type": "code",
      "metadata": {
        "id": "U1lh6ApJ8oHW"
      },
      "source": [
        "m4.obj = Objective(expr = exp)"
      ],
      "execution_count": 7,
      "outputs": []
    },
    {
      "cell_type": "code",
      "metadata": {
        "id": "OZyH92_T8zcz"
      },
      "source": [
        "solver = SolverFactory('ipopt')\n",
        "res = solver.solve(m4)"
      ],
      "execution_count": 8,
      "outputs": []
    },
    {
      "cell_type": "markdown",
      "metadata": {
        "id": "Ye48zpP0Aww3"
      },
      "source": [
        "##1)"
      ]
    },
    {
      "cell_type": "code",
      "metadata": {
        "colab": {
          "base_uri": "https://localhost:8080/"
        },
        "id": "RFn0fZ0m88yg",
        "outputId": "384476de-b39c-4f17-f6cd-2fcae4a5d469"
      },
      "source": [
        "print('b0 =', m4.b[0]())\n",
        "print('b2 =', m4.b[1]())\n",
        "print('b2 =', m4.b[2]())"
      ],
      "execution_count": 10,
      "outputs": [
        {
          "output_type": "stream",
          "name": "stdout",
          "text": [
            "b0 = 104904.4164371955\n",
            "b2 = 38.702075831391646\n",
            "b2 = -193.3223893242956\n"
          ]
        }
      ]
    },
    {
      "cell_type": "code",
      "metadata": {
        "colab": {
          "base_uri": "https://localhost:8080/"
        },
        "id": "m6UePtcT9JFv",
        "outputId": "a8c61dde-5090-4c92-b74a-735c264f9c77"
      },
      "source": [
        "print('Min sum of square residuals is ',m4.obj())"
      ],
      "execution_count": 11,
      "outputs": [
        {
          "output_type": "stream",
          "name": "stdout",
          "text": [
            "Min sum of square residuals is  4291134028.8074555\n"
          ]
        }
      ]
    },
    {
      "cell_type": "markdown",
      "metadata": {
        "id": "aofMFOqI-ee0"
      },
      "source": [
        "####Absolute Error model"
      ]
    },
    {
      "cell_type": "code",
      "metadata": {
        "id": "HvHk9URv-BhL"
      },
      "source": [
        "m3 = ConcreteModel()\n",
        "m3.b = Var(np.arange(3))\n",
        "m3.z = Var(np.arange(6),domain=NonNegativeReals)\n",
        "m3.b[0].setlb(0)\n",
        "\n",
        "m3.cons = ConstraintList()\n",
        "for i in range(6):\n",
        "    m3.cons.add(m3.z[i]>= m3.b[0] + lot[i]*m3.b[1]+ elev[i]*m3.b[2] - pri[i])\n",
        "    m3.cons.add(-m3.z[i]<= m3.b[0] + lot[i]*m3.b[1]+ elev[i]*m3.b[2] - pri[i])\n",
        "\n",
        "m3.res = Objective(expr = summation(m3.z)) "
      ],
      "execution_count": 12,
      "outputs": []
    },
    {
      "cell_type": "code",
      "metadata": {
        "colab": {
          "base_uri": "https://localhost:8080/"
        },
        "id": "3L5rSRU6-0Cy",
        "outputId": "b4f5bd0f-e5db-437f-913f-804b7943e558"
      },
      "source": [
        "opt1 = solver.solve(m3)\n",
        "# display solution\n",
        "print('\\nOptimal value of sum of residuals is = ', m3.res())\n",
        "\n",
        "print('\\nDecision Variables:')\n",
        "for i in range(3):\n",
        "    print('Value of b%d is'%i, m3.b[i].value)"
      ],
      "execution_count": 13,
      "outputs": [
        {
          "output_type": "stream",
          "name": "stdout",
          "text": [
            "\n",
            "Optimal value of sum of residuals is =  125454.53917274893\n",
            "\n",
            "Decision Variables:\n",
            "Value of b0 is 104181.81748910129\n",
            "Value of b1 is 67.27272456364885\n",
            "Value of b2 is -356.3636194183321\n"
          ]
        }
      ]
    },
    {
      "cell_type": "code",
      "metadata": {
        "colab": {
          "base_uri": "https://localhost:8080/"
        },
        "id": "sEvZxrP3--W5",
        "outputId": "040eff45-2da5-40e3-a78d-680dd97db16b"
      },
      "source": [
        "print('Max deviation in squared residue model is ',max([ abs(pri[i] - lot[i]*m4.b[1]() - elev[i]*m4.b[2]() - m4.b[0]()) for i in range(6)]))"
      ],
      "execution_count": 14,
      "outputs": [
        {
          "output_type": "stream",
          "name": "stdout",
          "text": [
            "Max deviation in squared residue model is  48762.444397373445\n"
          ]
        }
      ]
    },
    {
      "cell_type": "code",
      "metadata": {
        "colab": {
          "base_uri": "https://localhost:8080/"
        },
        "id": "4A7BpE_HEJqN",
        "outputId": "b97f1219-aaad-4785-d565-c59cb6461248"
      },
      "source": [
        "print('Max deviation in absolute error model is ',max([ abs(pri[i] - lot[i]*m3.b[1]() - elev[i]*m3.b[2]() - m3.b[0]()) for i in range(6)]))"
      ],
      "execution_count": 15,
      "outputs": [
        {
          "output_type": "stream",
          "name": "stdout",
          "text": [
            "Max deviation in absolute error model is  54272.724723622814\n"
          ]
        }
      ]
    },
    {
      "cell_type": "markdown",
      "metadata": {
        "id": "3ZPKBzP8f2Be"
      },
      "source": [
        "The maximum deviation is more in the absolute error model.\n",
        "\n",
        "In squared residue model , the influence of the most outlying data point on the regression line is proportional to the square of the distance, while for absolute error model, it is proportional to the distance. Hence the influence is more in the squared error model and it causes the regression line to be taken closer to the outlier, thus reducing its deviation.\n",
        "\n",
        "*(Influence in squared error model would be less if the distance was less than 1 , but that is not the case in this problem, hence case is ignored)"
      ]
    },
    {
      "cell_type": "code",
      "metadata": {
        "id": "bSNjRfjZEgpo"
      },
      "source": [
        ""
      ],
      "execution_count": 15,
      "outputs": []
    }
  ]
}
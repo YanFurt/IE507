{
  "nbformat": 4,
  "nbformat_minor": 0,
  "metadata": {
    "kernelspec": {
      "display_name": "Python 3",
      "language": "python",
      "name": "python3"
    },
    "language_info": {
      "codemirror_mode": {
        "name": "ipython",
        "version": 3
      },
      "file_extension": ".py",
      "mimetype": "text/x-python",
      "name": "python",
      "nbconvert_exporter": "python",
      "pygments_lexer": "ipython3",
      "version": "3.7.4"
    },
    "colab": {
      "name": "21i190008_IE507_Lab4_Ex1.ipynb",
      "provenance": []
    }
  },
  "cells": [
    {
      "cell_type": "code",
      "metadata": {
        "id": "iK_4rQ4x8S2Y"
      },
      "source": [
        "#!pip install -q pyomo\n",
        "#!apt-get install -y -qq coinor-cbc"
      ],
      "execution_count": 17,
      "outputs": []
    },
    {
      "cell_type": "code",
      "metadata": {
        "id": "kOb8wsep8P_m"
      },
      "source": [
        "from pyomo.environ import *\n",
        "import numpy as np"
      ],
      "execution_count": 18,
      "outputs": []
    },
    {
      "cell_type": "code",
      "metadata": {
        "id": "rZsiKXY88P_x"
      },
      "source": [
        "coefs = np.loadtxt('sample_data/lab4_ex1_coef.txt',delimiter=',')"
      ],
      "execution_count": 19,
      "outputs": []
    },
    {
      "cell_type": "code",
      "metadata": {
        "colab": {
          "base_uri": "https://localhost:8080/"
        },
        "id": "8lLCbbfg8P_1",
        "outputId": "1b193932-651d-4cd7-8e7e-72fddf9b3d7a"
      },
      "source": [
        "coefs"
      ],
      "execution_count": 20,
      "outputs": [
        {
          "output_type": "execute_result",
          "data": {
            "text/plain": [
              "array([[  0.85,   3.75,  -8.75,  -3.45, -22.38,  20.  ,   0.  ],\n",
              "       [ -0.7 ,  -3.9 ,  -1.  ,   0.  ,   1.  ,   0.  ,  14.9 ],\n",
              "       [  1.  ,   0.  ,   0.  ,  -1.  ,   0.  ,  -1.  ,   0.9 ],\n",
              "       [  0.  ,  -3.  ,  -2.  ,   0.  ,   0.  ,  -6.  , -51.7 ],\n",
              "       [  0.  ,   0.  ,   0.  ,   4.8 ,   9.12,   7.2 ,  75.  ],\n",
              "       [ -0.8 ,  -1.5 ,   8.  ,  -2.  ,   1.  ,   0.  , -27.  ]])"
            ]
          },
          "metadata": {},
          "execution_count": 20
        }
      ]
    },
    {
      "cell_type": "code",
      "metadata": {
        "id": "7LkB5tHg8P_6"
      },
      "source": [
        "consrhs = coefs[1:,-1]\n",
        "concoefs = coefs[1:,:-1]\n",
        "n=6\n",
        "m = 5\n",
        "\n",
        "objcoef = coefs[0,:-1]\n",
        "cols = np.arange(n)\n",
        "rows=np.arange(m)"
      ],
      "execution_count": 21,
      "outputs": []
    },
    {
      "cell_type": "code",
      "metadata": {
        "id": "otuE03Ot8P_-"
      },
      "source": [
        "m1 = ConcreteModel()\n",
        "m1.cons = ConstraintList()\n",
        "m1.x = Var(cols)\n",
        "\n",
        "for i in rows:\n",
        "    m1.cons.add(summation(concoefs[i],m1.x)<=consrhs[i])\n",
        "\n",
        "for j in cols:\n",
        "    m1.x[j].setlb(0)\n",
        "    m1.x[j].setub(np.inf)"
      ],
      "execution_count": 22,
      "outputs": []
    },
    {
      "cell_type": "code",
      "metadata": {
        "id": "lznxmeWO8QAA"
      },
      "source": [
        "m1.cost = Objective(expr = summation(objcoef,m1.x),sense=maximize)"
      ],
      "execution_count": 23,
      "outputs": []
    },
    {
      "cell_type": "code",
      "metadata": {
        "id": "jsg7CTiM8QAD"
      },
      "source": [
        "solver = SolverFactory('cbc')\n"
      ],
      "execution_count": 24,
      "outputs": []
    },
    {
      "cell_type": "code",
      "metadata": {
        "id": "-uKGKWTm8QAG"
      },
      "source": [
        ""
      ],
      "execution_count": 24,
      "outputs": []
    },
    {
      "cell_type": "code",
      "metadata": {
        "colab": {
          "base_uri": "https://localhost:8080/"
        },
        "id": "Vb91QD0N8QAJ",
        "outputId": "e4c2d82c-35a9-4f48-a0b2-0bfbe9669b95"
      },
      "source": [
        "opt = solver.solve(m1)\n",
        "#opt.write()"
      ],
      "execution_count": 25,
      "outputs": [
        {
          "output_type": "stream",
          "text": [
            "WARNING: Loading a SolverResults object with a warning status into\n",
            "    model.name=\"unknown\";\n",
            "      - termination condition: unbounded\n",
            "      - message from solver: <undefined>\n"
          ],
          "name": "stdout"
        }
      ]
    },
    {
      "cell_type": "markdown",
      "metadata": {
        "id": "n_mTjst-8QAN"
      },
      "source": [
        "### 7)"
      ]
    },
    {
      "cell_type": "code",
      "metadata": {
        "colab": {
          "base_uri": "https://localhost:8080/"
        },
        "id": "0HyGL1Gg8QAQ",
        "outputId": "1b7933cb-cc59-4aa3-ffd8-6407b41de81c"
      },
      "source": [
        "print('Termination condition:',opt.solver.termination_condition)\n",
        "print('Solver status message:',opt.solver.status)"
      ],
      "execution_count": 26,
      "outputs": [
        {
          "output_type": "stream",
          "text": [
            "Termination condition: unbounded\n",
            "Solver status message: warning\n"
          ],
          "name": "stdout"
        }
      ]
    },
    {
      "cell_type": "markdown",
      "metadata": {
        "id": "44i6tPOY8QAS"
      },
      "source": [
        "Termination condition unbounded implies that the objective function has no upper bound.\n",
        "Status message warning implies the problem was not solved."
      ]
    },
    {
      "cell_type": "markdown",
      "metadata": {
        "id": "pOYYUVXh8QAT"
      },
      "source": [
        "### 9)"
      ]
    },
    {
      "cell_type": "markdown",
      "metadata": {
        "id": "nu75Geul8QAU"
      },
      "source": [
        "The objective function has no upper bound (subject to given constraints), but it may have a lower bound. We can check this by changing it to a minimization problem."
      ]
    },
    {
      "cell_type": "code",
      "metadata": {
        "id": "niWds1Q98QAW"
      },
      "source": [
        "m1a = m1.clone()\n",
        "m1a.cost.set_sense(minimize)"
      ],
      "execution_count": 27,
      "outputs": []
    },
    {
      "cell_type": "code",
      "metadata": {
        "colab": {
          "base_uri": "https://localhost:8080/"
        },
        "id": "DRCO1FTN8QAX",
        "outputId": "4b1d96df-6178-4f4b-a44d-d25e32fed553"
      },
      "source": [
        "opt1a = solver.solve(m1a)\n",
        "print('Termination condition:',opt1a.solver.termination_condition)\n",
        "print('Solver status message:',opt1a.solver.status)"
      ],
      "execution_count": 28,
      "outputs": [
        {
          "output_type": "stream",
          "text": [
            "Termination condition: optimal\n",
            "Solver status message: ok\n"
          ],
          "name": "stdout"
        }
      ]
    },
    {
      "cell_type": "code",
      "metadata": {
        "colab": {
          "base_uri": "https://localhost:8080/"
        },
        "id": "rjv4i4CX8QAY",
        "outputId": "9015074e-51ce-40c2-b9d6-f5e9d07e745d"
      },
      "source": [
        "m1a.cons.display()"
      ],
      "execution_count": 29,
      "outputs": [
        {
          "output_type": "stream",
          "text": [
            "cons : Size=5\n",
            "    Key : Lower : Body                : Upper\n",
            "      1 :  None :         -82.1158942 :  14.9\n",
            "      2 :  None :                 0.9 :   0.9\n",
            "      3 :  None :          -69.007368 : -51.7\n",
            "      4 :  None :   74.99999990399999 :  75.0\n",
            "      5 :  None : -26.999999799999998 : -27.0\n"
          ],
          "name": "stdout"
        }
      ]
    },
    {
      "cell_type": "code",
      "metadata": {
        "colab": {
          "base_uri": "https://localhost:8080/"
        },
        "id": "3WiS005y8QAZ",
        "outputId": "039c5e90-8bd6-43b3-f628-b11ceb8f25a4"
      },
      "source": [
        "print('The optimal value (minimum value) of the objective function is',m1a.cost())"
      ],
      "execution_count": 30,
      "outputs": [
        {
          "output_type": "stream",
          "text": [
            "The optimal value (minimum value) of the objective function is -97.02184239599997\n"
          ],
          "name": "stdout"
        }
      ]
    },
    {
      "cell_type": "code",
      "metadata": {
        "colab": {
          "base_uri": "https://localhost:8080/"
        },
        "id": "M0bz5aN_8QAa",
        "outputId": "f2bcac64-65a1-4b1f-b42e-a03059efa964"
      },
      "source": [
        "for i in cols:    \n",
        "    print('The value of variable x%d is'%(i+1),m1a.x[i]())"
      ],
      "execution_count": 31,
      "outputs": [
        {
          "output_type": "stream",
          "text": [
            "The value of variable x1 is 0.9\n",
            "The value of variable x2 is 23.002456\n",
            "The value of variable x3 is 0.0\n",
            "The value of variable x4 is 0.0\n",
            "The value of variable x5 is 8.2236842\n",
            "The value of variable x6 is 0.0\n"
          ],
          "name": "stdout"
        }
      ]
    },
    {
      "cell_type": "markdown",
      "metadata": {
        "id": "4zJPbrgV8QAb"
      },
      "source": [
        "Constraint 2, Constraint 4 and Constraint 5 are active constraints. "
      ]
    },
    {
      "cell_type": "code",
      "metadata": {
        "id": "E43bywsa-5Am"
      },
      "source": [
        ""
      ],
      "execution_count": null,
      "outputs": []
    },
    {
      "cell_type": "markdown",
      "metadata": {
        "id": "Z0Wsnee58QAd"
      },
      "source": [
        "Alternatively,if the problem has to be maximised, i.e there's no use of finding the min value of the objective,\n",
        " we can find the variables which are the reason for the unboundedness, and  put separate upper bounds for these variables and find the value of the cost at an arbitrary upper bound, as per our convenience (by this method we'll also get exact values (feasible) of the other variables, which we don't otherwise get from the solver in case of unbounded problems.\n",
        "\n",
        "On inspection, we see that increasing the value of x2 doesn't increase the value of any of the constraints. For all other variables, at least one constraint value is increased. Hence, we can say that x2 can be made as large as possible without violating any constraint. And since x2 has a positive coefficient in the objective function, we can say that x2 is causing the unboundedness. So we can try to solve the problem by putting an upper bound on x2, until we get the objective function as large as we want"
      ]
    },
    {
      "cell_type": "code",
      "metadata": {
        "id": "8QnK8r528QAe"
      },
      "source": [
        ""
      ],
      "execution_count": 31,
      "outputs": []
    },
    {
      "cell_type": "code",
      "metadata": {
        "id": "PzovA57C8QAe"
      },
      "source": [
        ""
      ],
      "execution_count": 31,
      "outputs": []
    }
  ]
}
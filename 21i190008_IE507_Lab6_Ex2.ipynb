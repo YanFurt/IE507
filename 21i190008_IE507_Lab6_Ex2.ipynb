{
  "nbformat": 4,
  "nbformat_minor": 0,
  "metadata": {
    "kernelspec": {
      "display_name": "Python 3",
      "language": "python",
      "name": "python3"
    },
    "language_info": {
      "codemirror_mode": {
        "name": "ipython",
        "version": 3
      },
      "file_extension": ".py",
      "mimetype": "text/x-python",
      "name": "python",
      "nbconvert_exporter": "python",
      "pygments_lexer": "ipython3",
      "version": "3.7.4"
    },
    "colab": {
      "name": "21i190008_IE507_Lab6_Ex2.ipynb",
      "provenance": []
    }
  },
  "cells": [
    {
      "cell_type": "code",
      "metadata": {
        "colab": {
          "base_uri": "https://localhost:8080/"
        },
        "id": "Zrm8Q3E1BsyS",
        "outputId": "9247325f-076b-4b7c-d3ec-4c1d0ba6be01"
      },
      "source": [
        "!pip install -q pyomo\n",
        "!apt-get install -y -qq coinor-cbc"
      ],
      "execution_count": 1,
      "outputs": [
        {
          "output_type": "stream",
          "name": "stdout",
          "text": [
            "\u001b[K     |████████████████████████████████| 9.1 MB 4.2 MB/s \n",
            "\u001b[K     |████████████████████████████████| 49 kB 5.7 MB/s \n",
            "\u001b[?25hSelecting previously unselected package coinor-libcoinutils3v5.\n",
            "(Reading database ... 148492 files and directories currently installed.)\n",
            "Preparing to unpack .../0-coinor-libcoinutils3v5_2.10.14+repack1-1_amd64.deb ...\n",
            "Unpacking coinor-libcoinutils3v5 (2.10.14+repack1-1) ...\n",
            "Selecting previously unselected package coinor-libosi1v5.\n",
            "Preparing to unpack .../1-coinor-libosi1v5_0.107.9+repack1-1_amd64.deb ...\n",
            "Unpacking coinor-libosi1v5 (0.107.9+repack1-1) ...\n",
            "Selecting previously unselected package coinor-libclp1.\n",
            "Preparing to unpack .../2-coinor-libclp1_1.16.11+repack1-1_amd64.deb ...\n",
            "Unpacking coinor-libclp1 (1.16.11+repack1-1) ...\n",
            "Selecting previously unselected package coinor-libcgl1.\n",
            "Preparing to unpack .../3-coinor-libcgl1_0.59.10+repack1-1_amd64.deb ...\n",
            "Unpacking coinor-libcgl1 (0.59.10+repack1-1) ...\n",
            "Selecting previously unselected package coinor-libcbc3.\n",
            "Preparing to unpack .../4-coinor-libcbc3_2.9.9+repack1-1_amd64.deb ...\n",
            "Unpacking coinor-libcbc3 (2.9.9+repack1-1) ...\n",
            "Selecting previously unselected package coinor-cbc.\n",
            "Preparing to unpack .../5-coinor-cbc_2.9.9+repack1-1_amd64.deb ...\n",
            "Unpacking coinor-cbc (2.9.9+repack1-1) ...\n",
            "Setting up coinor-libcoinutils3v5 (2.10.14+repack1-1) ...\n",
            "Setting up coinor-libosi1v5 (0.107.9+repack1-1) ...\n",
            "Setting up coinor-libclp1 (1.16.11+repack1-1) ...\n",
            "Setting up coinor-libcgl1 (0.59.10+repack1-1) ...\n",
            "Setting up coinor-libcbc3 (2.9.9+repack1-1) ...\n",
            "Setting up coinor-cbc (2.9.9+repack1-1) ...\n",
            "Processing triggers for man-db (2.8.3-2ubuntu0.1) ...\n",
            "Processing triggers for libc-bin (2.27-3ubuntu1.2) ...\n",
            "/sbin/ldconfig.real: /usr/local/lib/python3.7/dist-packages/ideep4py/lib/libmkldnn.so.0 is not a symbolic link\n",
            "\n"
          ]
        }
      ]
    },
    {
      "cell_type": "markdown",
      "metadata": {
        "id": "H2q6mbWr_Dxd"
      },
      "source": [
        "### 1)"
      ]
    },
    {
      "cell_type": "markdown",
      "metadata": {
        "id": "90jTA9wB_Dxx"
      },
      "source": [
        "Given constraint is\n",
        "$ |(x_1 + x_2) - (x_3+x_4+x_5) | \\leq 18 \\\\\n",
        "\\implies -18 \\leq (x_1 + x_2) - (x_3+x_4+x_5) \\leq 18\\\\\n",
        "\\implies (x_1 + x_2) - (x_3+x_4+x_5) \\leq 18,\\  and\\qquad (x_1 + x_2) - (x_3+x_4+x_5) \\geq 18$\n",
        "\n",
        "We can incorporate these 2 linear constraints in our LP"
      ]
    },
    {
      "cell_type": "markdown",
      "metadata": {
        "id": "UjLg8-k6_Dx1"
      },
      "source": [
        "The new LP can be formulated as:\n",
        "\n",
        "\\begin{align}\n",
        "\\max \\ 35 x_1 + 57 x_2 + 48 x_3 + 20 x_4 + 15 x_5, \\\\\n",
        "{\\rm{s.t.}} \\; x_1 + x_2 + x_3 & \\leq 75, \\\\\n",
        "x_3 + x_4 + x_5 & \\leq 100, \\\\\n",
        "x_1 + x_2 & \\geq 10, \\\\ \n",
        "x_1 + x_2 - x_3 - x_4 - x_5 & \\leq 18, \\\\\n",
        "x_1 + x_2 - x_3 - x_4 - x_5 & \\geq -18, \\\\\n",
        "30000 x_1 + 95000 x_2 + 10000 x_3 + 5000 x_4 + 4000 x_5 & \\leq 1500000, \\\\\n",
        "100000 x_1 + 500000 x_2 + 200000 x_3 + 45000 x_4 + 25000 x_5 & \\geq 900000, \\\\\n",
        "x_i & \\geq 0, \\quad i \\in \\{1,2,3,4,5\\}. \\\\\n",
        "x_i \\in \\mathbb{Z}\n",
        "\\end{align}"
      ]
    },
    {
      "cell_type": "markdown",
      "metadata": {
        "id": "GcKx0ra__Dx4"
      },
      "source": [
        "The given formulation is a linear program, since objection function and all constraints are linear."
      ]
    },
    {
      "cell_type": "code",
      "metadata": {
        "id": "jsUs1Djq_Dx6"
      },
      "source": [
        "from pyomo.environ import *\n",
        "import numpy as np\n"
      ],
      "execution_count": 2,
      "outputs": []
    },
    {
      "cell_type": "code",
      "metadata": {
        "id": "fsm-Zzp7_Dx-"
      },
      "source": [
        "objcoef = [35,57,48,20,15]\n",
        "conscoef = np.array([[1,1,1,0,0],[0,0,1,1,1],[-1,-1,0,0,0],[1,1,-1,-1,-1],[-1,-1,1,1,1],[30000,95000,10000,5000,4000],[-100000,-500000,-200000,-45000,-25000]])\n",
        "consrhs = [75,100,-10,18,18,1500000,-900000]\n",
        "\n",
        "n = 5\n",
        "m = 7\n",
        "cols= np.arange(n)\n",
        "rows = np.arange(m)\n",
        "\n",
        "media= ['Website','TV','daily newspaper','weekly magazine','monthly magazine']"
      ],
      "execution_count": 3,
      "outputs": []
    },
    {
      "cell_type": "code",
      "metadata": {
        "id": "EiAtki4u_DyB"
      },
      "source": [
        "m2 = ConcreteModel()\n",
        "m2.x = Var(cols,domain=NonNegativeIntegers)\n",
        "m2.cons = ConstraintList()"
      ],
      "execution_count": 4,
      "outputs": []
    },
    {
      "cell_type": "code",
      "metadata": {
        "id": "aktRFBPJ_DyF"
      },
      "source": [
        "for i in rows:\n",
        "    m2.cons.add(summation(conscoef[i],m2.x)<=consrhs[i])\n",
        "    \n",
        "m2.obj = Objective(expr=summation(objcoef,m2.x),sense=maximize)    "
      ],
      "execution_count": 5,
      "outputs": []
    },
    {
      "cell_type": "code",
      "metadata": {
        "id": "VQrtQg4k_DyI"
      },
      "source": [
        "solver = SolverFactory('cbc')"
      ],
      "execution_count": 6,
      "outputs": []
    },
    {
      "cell_type": "code",
      "metadata": {
        "id": "KdOEpSxB_DyL"
      },
      "source": [
        "opt1 = solver.solve(m2)"
      ],
      "execution_count": 7,
      "outputs": []
    },
    {
      "cell_type": "code",
      "metadata": {
        "colab": {
          "base_uri": "https://localhost:8080/"
        },
        "id": "I51Q0jvv_DyM",
        "outputId": "f9ed2eb0-fe4e-45bf-b47c-899af5af6545"
      },
      "source": [
        "# display solution\n",
        "print('Optimal value of objective function = ', m2.obj())\n",
        "\n",
        "print('\\nDecision Variables')\n",
        "for i in cols:\n",
        "    print('Number of slots for ',media[i],'are', m2.x[i].value)"
      ],
      "execution_count": 8,
      "outputs": [
        {
          "output_type": "stream",
          "name": "stdout",
          "text": [
            "Optimal value of objective function =  3378.0\n",
            "\n",
            "Decision Variables\n",
            "Number of slots for  Website are 34.0\n",
            "Number of slots for  TV are 0.0\n",
            "Number of slots for  daily newspaper are 41.0\n",
            "Number of slots for  weekly magazine are 11.0\n",
            "Number of slots for  monthly magazine are 0.0\n"
          ]
        }
      ]
    },
    {
      "cell_type": "code",
      "metadata": {
        "colab": {
          "base_uri": "https://localhost:8080/"
        },
        "id": "pA99VrQU_DyS",
        "outputId": "7de1d3c8-2c90-4b80-e937-00454672f76a"
      },
      "source": [
        "print('\\nConstraints')\n",
        "m2.cons.display()\n",
        "print('Constraint 1 and constraint 5 are active constraints ')"
      ],
      "execution_count": 9,
      "outputs": [
        {
          "output_type": "stream",
          "name": "stdout",
          "text": [
            "\n",
            "Constraints\n",
            "cons : Size=7\n",
            "    Key : Lower : Body        : Upper\n",
            "      1 :  None :        75.0 :      75.0\n",
            "      2 :  None :        52.0 :     100.0\n",
            "      3 :  None :       -34.0 :     -10.0\n",
            "      4 :  None :       -18.0 :      18.0\n",
            "      5 :  None :        18.0 :      18.0\n",
            "      6 :  None :   1485000.0 : 1500000.0\n",
            "      7 :  None : -12095000.0 : -900000.0\n",
            "Constraint 1 and constraint 5 are active constraints \n"
          ]
        }
      ]
    },
    {
      "cell_type": "code",
      "metadata": {
        "id": "W9zUA0rO_DyU"
      },
      "source": [
        ""
      ],
      "execution_count": 9,
      "outputs": []
    },
    {
      "cell_type": "markdown",
      "metadata": {
        "id": "VPFZ72A6uvgq"
      },
      "source": [
        "### 7)"
      ]
    },
    {
      "cell_type": "markdown",
      "metadata": {
        "id": "IUo_vlUv_DyV"
      },
      "source": [
        "The new optimisation problem can be formulated as:\n",
        "\n",
        "\\begin{align}\n",
        "\\max \\ 35 x_1 + 57 x_2 + 48 x_3 + 20 x_4 + 15 x_5, \\\\\n",
        "{\\rm{s.t.}} \\; x_1 + x_2 + x_3 & \\leq 75, \\\\\n",
        "x_3 + x_4 + x_5 & \\leq 100, \\\\\n",
        "x_1 + x_2 & \\geq 10, \\\\ \n",
        "|x_4 + x_5 - x_3| & \\geq 4, \\\\\n",
        "30000 x_1 + 95000 x_2 + 10000 x_3 + 5000 x_4 + 4000 x_5 & \\leq 1500000, \\\\\n",
        "100000 x_1 + 500000 x_2 + 200000 x_3 + 45000 x_4 + 25000 x_5 & \\geq 900000, \\\\\n",
        "x_i & \\geq 0, \\quad i \\in \\{1,2,3,4,5\\}. \\\\\n",
        "x_i \\in \\mathbb{Z}\n",
        "\\end{align}"
      ]
    },
    {
      "cell_type": "markdown",
      "metadata": {
        "id": "jmfJuryQvGwa"
      },
      "source": [
        "This is not a linear program since one of the constraints has an absolute value function, which cannot be decomposed into linear functions in the same variables. "
      ]
    },
    {
      "cell_type": "markdown",
      "metadata": {
        "id": "icbBAZ1Y_DyY"
      },
      "source": [
        "Let $y = |x_4 + x_5 - x_3|$\\\n",
        "hence,\n",
        "$y \\geq x_4 + x_5 - x_3,\\\\\n",
        "y \\geq - x_4 - x_5 + x_3$"
      ]
    },
    {
      "cell_type": "markdown",
      "metadata": {
        "id": "WoffWhyZ_DyY"
      },
      "source": [
        "\\begin{align}\n",
        "\\max \\ 35 x_1 + 57 x_2 + 48 x_3 + 20 x_4 + 15 x_5, \\\\\n",
        "{\\rm{s.t.}} \\; x_1 + x_2 + x_3 & \\leq 75, \\\\\n",
        "x_3 + x_4 + x_5 & \\leq 100, \\\\\n",
        "x_1 + x_2 & \\geq 10, \\\\ \n",
        "y - x_4 - x_5 + x_3 & \\geq 0, \\\\\n",
        "y + x_4 + x_5 - x_3 & \\geq 0, \\\\\n",
        "y & \\geq 4, \\\\\n",
        "30000 x_1 + 95000 x_2 + 10000 x_3 + 5000 x_4 + 4000 x_5 & \\leq 1500000, \\\\\n",
        "100000 x_1 + 500000 x_2 + 200000 x_3 + 45000 x_4 + 25000 x_5 & \\geq 900000, \\\\\n",
        "x_i & \\geq 0, \\quad i \\in \\{1,2,3,4,5\\}. \\\\\n",
        "x_i \\in \\mathbb{Z}\n",
        "\\end{align}"
      ]
    },
    {
      "cell_type": "code",
      "metadata": {
        "id": "PQ43eb0W_Dya"
      },
      "source": [
        ""
      ],
      "execution_count": null,
      "outputs": []
    }
  ]
}